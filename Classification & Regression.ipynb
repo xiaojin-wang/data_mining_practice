{
 "cells": [
  {
   "cell_type": "markdown",
   "metadata": {},
   "source": [
    "# Classification & Regression"
   ]
  },
  {
   "cell_type": "markdown",
   "metadata": {},
   "source": [
    "### Setting up the Notebook"
   ]
  },
  {
   "cell_type": "code",
   "execution_count": 3,
   "metadata": {},
   "outputs": [],
   "source": [
    "# Some more magic so that the notebook will reload external python modules;\n",
    "# see http://stackoverflow.com/questions/1907993/autoreload-of-modules-in-ipython\n",
    "# This will automatically reload src/dtree.py every time you make changes and save the file\n",
    "%load_ext autoreload\n",
    "%autoreload 2"
   ]
  },
  {
   "cell_type": "code",
   "execution_count": 95,
   "metadata": {},
   "outputs": [],
   "source": [
    "%matplotlib notebook"
   ]
  },
  {
   "cell_type": "code",
   "execution_count": 1,
   "metadata": {},
   "outputs": [],
   "source": [
    "import numpy as np\n",
    "import pandas as pd\n",
    "import matplotlib.pyplot as plt\n",
    "\n",
    "from sklearn import tree\n",
    "from sklearn import preprocessing\n",
    "from sklearn.metrics import f1_score\n",
    "from sklearn.model_selection import train_test_split\n",
    "from sklearn.neighbors import KNeighborsClassifier\n",
    "from sklearn.tree import DecisionTreeClassifier\n",
    "from sklearn.ensemble import RandomForestClassifier, GradientBoostingClassifier\n",
    "\n",
    "\n",
    "from src.dtree import MyDecisionTree\n",
    "from src.utils import plot_validation_results, plot_scores"
   ]
  },
  {
   "cell_type": "markdown",
   "metadata": {},
   "source": [
    "## 1 Implementing a Decision Tree Classifier (30 Points)\n",
    "\n",
    "In this section, you will implement your own Decision Tree classifier. This will test but also deepen your understanding of the inner workings of Decision Trees. The keep the complexity low, the Decision tree will be simplified compared to the general model you've seen in the lecture:\n",
    "\n",
    "* Only numerical features are supported\n",
    "* Only binary splits are supported\n",
    "\n",
    "(incidentally, this is in line with scitkit-learn's [`DecisionTreeClassifier`](https://scikit-learn.org/stable/modules/generated/sklearn.tree.DecisionTreeClassifier.html) implementation)\n",
    "\n",
    "All the implementation is done in file `src/dtree.py` This files contains the definition of all required methods with some first code snippets, as well as additional documentation describing the expected input and output of each method.\n",
    "\n",
    "**In the following substasks, you will complete the methods where indicated by the comments within each method.** "
   ]
  },
  {
   "cell_type": "markdown",
   "metadata": {},
   "source": [
    "#### Create Some Toy Data for Testing & Debugging"
   ]
  },
  {
   "cell_type": "code",
   "execution_count": 3,
   "metadata": {},
   "outputs": [],
   "source": [
    "# Training data (8 samples with 2 features)\n",
    "X_train = np.array([ [1.0, 5.0], [2.0, 7.0], [3.0, 4.0], [4.0, 3.0], [5.0, 1.0], [6.0, 8.0], [7.0, 6.0], [8.0, 2.0] ] )\n",
    "y_train = np.array([0, 0, 0, 0, 1, 1, 1, 1])\n",
    "\n",
    "# Test data (2 samples)\n",
    "X_test = np.array([ [2.0, 2.0], [3.0, 3.0] ])\n",
    "y_test = np.array([0, 1])"
   ]
  },
  {
   "cell_type": "markdown",
   "metadata": {},
   "source": [
    "### 1.1 Scoring Nodes and Splits (4 Points)\n",
    "\n",
    "For quick testing and debugging, let's define 3 example sets of labels. Note that `y1` and `y2` contain only 2 labels (binary classification), while `y3` contains 3 labels. Your implementation should not depend on the number of labels."
   ]
  },
  {
   "cell_type": "code",
   "execution_count": 4,
   "metadata": {},
   "outputs": [],
   "source": [
    "y1 = np.array([1, 1, 1, 1, 1, 1, 1, 1])\n",
    "y2 = np.array([0, 0, 0, 0, 1, 1, 1, 1])\n",
    "y3 = np.array([2, 0, 1, 1, 2, 2, 0, 2])"
   ]
  },
  {
   "cell_type": "markdown",
   "metadata": {},
   "source": [
    "#### 1.1 a) Calculating the Gini Score for a Node (2 Points)\n",
    "\n",
    "Recall from the lecture, that the Gini score of a node $t$ is defined as:\n",
    "\n",
    "$$Gini(t) = 1 - \\sum_{c\\in C} P(c|t)^2$$\n",
    "\n",
    "where $C$ is the set of classes, and $P(c|t)$ is the relative frequency of class $c$ in node $t$.\n",
    "\n",
    "**Implement this formula in method `calc_gini_score_node()`!** (Hint: Have a look at [`np.unique`](https://numpy.org/doc/stable/reference/generated/numpy.unique.html) and basic `numpy` methods such as [`np.sum`](https://numpy.org/doc/stable/reference/generated/numpy.sum.html) and [`np.square`](https://numpy.org/doc/stable/reference/generated/numpy.square.html) to make you life easier. There should be no need for any loops, but it's up to you how to implement the method.)\n",
    "\n",
    "You can use the example calls below to test your implementation of the method."
   ]
  },
  {
   "cell_type": "code",
   "execution_count": 5,
   "metadata": {},
   "outputs": [
    {
     "name": "stdout",
     "output_type": "stream",
     "text": [
      "0.625\n"
     ]
    }
   ],
   "source": [
    "dt = MyDecisionTree()\n",
    "\n",
    "gini_score = dt.calc_gini_score_node(y1)  # Expected score: 0.0\n",
    "gini_score = dt.calc_gini_score_node(y2)  # Expected score: 0.5\n",
    "gini_score = dt.calc_gini_score_node(y3)  # Expected score: 0.625\n",
    "\n",
    "print(gini_score)"
   ]
  },
  {
   "cell_type": "markdown",
   "metadata": {},
   "source": [
    "#### 1.1 b) Calculating the Gini Score for a Split (2 Points)\n",
    "\n",
    "In the lecture, we defined the impurity of a split as the average of the impurities of the child nodes, weighted by there size (in terms of the number of samples in each child node). Since we only consider binary splits (2 child nodes) and consider only the Gini score to measure impurity, the Gini score of a split simplifies to:\n",
    "\n",
    "$$Gini(t_{left}, t_{right}) = \\frac{n_{left}}{n}Gini(t_{left}) + \\frac{n_{right}}{n}Gini(t_{right})$$\n",
    "\n",
    "where $n_{left}$ ($n_{right}$) is the number of samples in the left (right) child node; and $n = n_{left} + n_{right}$\n",
    "\n",
    "**Implement this formula in method `calc_gini_score_split`!** You obviously can and should use of the existing method `calc_gini_score_node()`.\n",
    "\n",
    "You can use the example calls below to test your implementation of the method."
   ]
  },
  {
   "cell_type": "code",
   "execution_count": 6,
   "metadata": {},
   "outputs": [
    {
     "name": "stdout",
     "output_type": "stream",
     "text": [
      "0.3125\n"
     ]
    }
   ],
   "source": [
    "dt = MyDecisionTree()\n",
    "\n",
    "gini_score = dt.calc_gini_score_split(y1, y1)  # Expected score: 0.0\n",
    "gini_score = dt.calc_gini_score_split(y1, y2)  # Expected score: 0.25\n",
    "gini_score = dt.calc_gini_score_split(y1, y3)  # Expected score: 0.3125\n",
    "\n",
    "print(gini_score)"
   ]
  },
  {
   "cell_type": "markdown",
   "metadata": {},
   "source": [
    "### 1.2 Finding the Best Split (14 Points)"
   ]
  },
  {
   "cell_type": "markdown",
   "metadata": {},
   "source": [
    "#### 1.2 a) Calculating All Possible Thresholds (3 Points)\n",
    "\n",
    "We have seen in the lecture, that we can split numerical features using thresholds that separate the feature values into all values less or equal to a threshold and larger then the threshold. \n",
    "\n",
    "**Implement the method `calc_thresholds`!** You obviously can and should use of the existing method `calc_gini_score_node()`. (Hint: Again, [`np.unique`](https://numpy.org/doc/stable/reference/generated/numpy.unique.html) might make life easier)"
   ]
  },
  {
   "cell_type": "code",
   "execution_count": 7,
   "metadata": {},
   "outputs": [
    {
     "name": "stdout",
     "output_type": "stream",
     "text": [
      "{1.5, 2.5, 3.5, 4.5, 5.5, 6.5, 7.5}\n"
     ]
    }
   ],
   "source": [
    "dt = MyDecisionTree()\n",
    "\n",
    "thresholds = dt.calc_thresholds(X_train[:,0])  # Expected output: [1.5 2.5 3.5 4.5 5.5 6.5 7.5]\n",
    "thresholds = dt.calc_thresholds(X_train[:,1])  # Expected output: [1.5 2.5 3.5 4.5 5.5 6.5 7.5]\n",
    "\n",
    "print(thresholds)"
   ]
  },
  {
   "cell_type": "markdown",
   "metadata": {},
   "source": [
    "#### 1.2 b) Creating a Split (3 Points)\n",
    "\n",
    "**Implement the method `create_split()`** that splits a list of numerical values w.r.t. a given threshold. Note that a split is represented by the indices of the values in the list and not the values itself. This saves memory and simplifies the implementation. (Hint: Have a look at [`np.where`](https://numpy.org/doc/stable/reference/generated/numpy.where.html))"
   ]
  },
  {
   "cell_type": "code",
   "execution_count": 8,
   "metadata": {},
   "outputs": [
    {
     "name": "stdout",
     "output_type": "stream",
     "text": [
      "[2, 3, 4, 7] [0, 1, 5, 6]\n"
     ]
    }
   ],
   "source": [
    "dt = MyDecisionTree()\n",
    "\n",
    "split = dt.create_split(X_train[:,0], 4.5)  # Expected output: [0 1 2 3] [4 5 6 7]\n",
    "split = dt.create_split(X_train[:,1], 4.5)  # Expected output: [2 3 4 7] [0 1 5 6]\n",
    "\n",
    "print(split[0], split[1])"
   ]
  },
  {
   "cell_type": "markdown",
   "metadata": {},
   "source": [
    "#### 1.2 c)  Find the Best Split for a Single Feature (4 Points)\n",
    "\n",
    "Now that we know how to split as well as to score a split, we can find the best split for a feature.\n",
    "\n",
    "**Implement the method `calc_best_split_feature`!** With the methods you have already implemented and the given code parts in the method, this should be very straightforward."
   ]
  },
  {
   "cell_type": "code",
   "execution_count": 9,
   "metadata": {},
   "outputs": [
    {
     "name": "stdout",
     "output_type": "stream",
     "text": [
      "[Feature 0] Gini: 0.000, threshold: 4.5, split: [0, 1, 2, 3] [4, 5, 6, 7]\n",
      "[Feature 1] Gini: 0.333, threshold: 2.5, split: [4, 7] [0, 1, 2, 3, 5, 6]\n"
     ]
    }
   ],
   "source": [
    "dt = MyDecisionTree()\n",
    "\n",
    "for feature in range(X_train.shape[1]):\n",
    "    score, threshold, split = dt.calc_best_split_feature(X_train[:,feature], y_train)\n",
    "\n",
    "    print('[Feature {}] Gini: {:.3f}, threshold: {}, split: {} {}'.format(feature, score, threshold, split[0], split[1]))"
   ]
  },
  {
   "cell_type": "markdown",
   "metadata": {},
   "source": [
    "Applied on the toy dataset, the output should look like this:\n",
    "    \n",
    "```\n",
    "[Feature 0] Gini: 0.000, threshold: 4.5, split: [0 1 2 3] [0 1 2 3 5 6]\n",
    "[Feature 1] Gini: 0.333, threshold: 2.5, split: [4 7] [0 1 2 3 5 6]\n",
    "```"
   ]
  },
  {
   "cell_type": "markdown",
   "metadata": {},
   "source": [
    "#### 1.2 d) Find the Best Split across All Features (4 Points)\n",
    "\n",
    "With the method that gives us the best split for a single feature in place, we now only need the method that gives us the best split across all features available in a dataset.\n",
    "\n",
    "**Implement the method `calc_best_split`!** It will look very similar to method `calc_best_split_feature()`, arguably even a bit simpler. (Hint: The code cell above for testing `calc_best_split_feature()` is basically giving it away)"
   ]
  },
  {
   "cell_type": "code",
   "execution_count": 10,
   "metadata": {},
   "outputs": [
    {
     "name": "stdout",
     "output_type": "stream",
     "text": [
      "[Feature 0] Gini: 0.000, threshold: 4.5, split: [0, 1, 2, 3] [4, 5, 6, 7]\n"
     ]
    }
   ],
   "source": [
    "dt = MyDecisionTree()\n",
    "\n",
    "score, threshold, feature, split = dt.calc_best_split(X_train, y_train)\n",
    "\n",
    "print('[Feature {}] Gini: {:.3f}, threshold: {}, split: {} {}'.format(feature, score, threshold, split[0], split[1]))"
   ]
  },
  {
   "cell_type": "markdown",
   "metadata": {},
   "source": [
    "Applied on the toy dataset, the output should look like this:\n",
    "\n",
    "```\n",
    "[Feature 0] Gini: 0.000, threshold: 4.5, split: [0 1 2 3] [4 5 6 7]\n",
    "```\n",
    "\n",
    "This shouldn't be surprising as we already saw above, where we calculated the best splits for each feature, that Feature 0 results in the best split (in a perfect split, in fact)."
   ]
  },
  {
   "cell_type": "markdown",
   "metadata": {},
   "source": [
    "### 1.3 Training the Decision Tree (4 Points)\n",
    "\n",
    "With all the methods for scoring and splitting nodes in place, we can now train our Decision Tree. Have a good look at methods `fit()` and `_fit()` and get a good understanding! It basically contains all the code required for recursively splitting nodes. So you don't have to worry about that.\n",
    "\n",
    "The only things missing from the `_fit()` method are the conditions of when to stop the recursion. Some conditions can be checked before calculating the best split, some afterwards (cf. lecture slides, including the ones to avoid overfitting).\n",
    "\n",
    "**Implement all 4 conditions to stop the recursion in method `_fit()`, and try to do them as early as possible!** Each condition will be a simple `IF` statement that will `return` if true. (Hint: The 2 parameters `max_depth` and `min_samples_split` are adopted from scikit-learn's [`DecisionTreeClassifier`](https://scikit-learn.org/stable/modules/generated/sklearn.tree.DecisionTreeClassifier.html); only exception: `min_samples_split` is only interpreted as *int*.)"
   ]
  },
  {
   "cell_type": "code",
   "execution_count": 11,
   "metadata": {},
   "outputs": [
    {
     "name": "stdout",
     "output_type": "stream",
     "text": [
      " Leaf, gini: 0.500, #samples: 8\n",
      "\n"
     ]
    }
   ],
   "source": [
    "dt = MyDecisionTree(max_depth=1, min_samples_split=10).fit(X_train, y_train)\n",
    "#dt = MyDecisionTree(max_depth=1, min_samples_split=6).fit(X_train, y_train)\n",
    "\n",
    "print(dt)"
   ]
  },
  {
   "cell_type": "markdown",
   "metadata": {},
   "source": [
    "For `(max_depth=1, min_samples_split=10)` the output should look like this:\n",
    "```\n",
    " Leaf, gini: 0.500, #samples: 8\n",
    "```\n",
    "\n",
    "For `(max_depth=1, min_samples_split=6)` the output should look like this:\n",
    "```\n",
    " X[0] <= 4.500, gini: 0.500, #samples: 8\n",
    "--- Leaf, gini: 0.000, #samples: 4\n",
    "--- Leaf, gini: 0.000, #samples: 4\n",
    "```"
   ]
  },
  {
   "cell_type": "markdown",
   "metadata": {},
   "source": [
    "### 1.4 Predicting Labels (3 Points\n",
    "\n",
    "Now that you can train your Decision Tree classifier, all that's left is to predict the class labels for unseen data samples. We saw in the lecture that making prediction using Decision Trees translates to going down the tree based on the decisions encoded in each node until reaching a leaf node. This leaf node contains 1 or more class labels and the final prediction will be the most frequent class label of that leaf node.\n",
    "\n",
    "Have a look at methods `predict()` and `predict_sample()`; notice the `predict()` does nothing else than to call `predict_sample()` for each sample in X.\n",
    "\n",
    "**Implement the method `predict_sample()`!** The method already implements the recursive part of \"going down\" the tree to find the correct leaf node. You only need to implement the return of the final prediction once the correct leaf node is found. (Hint: Again, [`np.unique`](https://numpy.org/doc/stable/reference/generated/numpy.unique.html) might make life easier, and you might want to have a look at [`np.argmax`](https://numpy.org/doc/stable/reference/generated/numpy.argmax.html) as well.)"
   ]
  },
  {
   "cell_type": "code",
   "execution_count": 12,
   "metadata": {},
   "outputs": [
    {
     "name": "stdout",
     "output_type": "stream",
     "text": [
      "The f1 score of your Decision Tree implementation on the toy dataset is 0.333\n"
     ]
    }
   ],
   "source": [
    "y_pred = dt.predict(X_test)\n",
    "\n",
    "f1 = f1_score(y_test, y_pred, average='macro')\n",
    "\n",
    "print('The f1 score of your Decision Tree implementation on the toy dataset is {:.3f}'.format(f1))"
   ]
  },
  {
   "cell_type": "markdown",
   "metadata": {},
   "source": [
    "If you used `dt.fit(X_train, y_train, max_depth=1, min_samples_split=10)` on the toy dataset, the resulting f1 score should be **0.333**."
   ]
  },
  {
   "cell_type": "markdown",
   "metadata": {},
   "source": [
    "### Testing your Implementation on the IRIS Dataset\n",
    "\n",
    "**You are done with Task 1!** This part is only for you to test your implementation on a real-world dataset (IRIS) since the toy dataset might not reveal all bugs in your code. You can also directly compare the result your Decision Tree implementation with the results from scikit-learn's [`DecisionTreeClassifier`](https://scikit-learn.org/stable/modules/generated/sklearn.tree.DecisionTreeClassifier.html); they should be *more or less* the same."
   ]
  },
  {
   "cell_type": "markdown",
   "metadata": {},
   "source": [
    "#### Create Training and Test Data "
   ]
  },
  {
   "cell_type": "code",
   "execution_count": 13,
   "metadata": {},
   "outputs": [
    {
     "name": "stdout",
     "output_type": "stream",
     "text": [
      "Size of training set: 120\n",
      "Size of test: 30\n"
     ]
    }
   ],
   "source": [
    "df = pd.read_csv('data/iris.csv')                  # Load file into dataframe\n",
    "df['species'] = pd.factorize(df['species'])[0]     # Convert string labels into numeric labels (0, 1 and 2)\n",
    "\n",
    "# Convert dataframes to numpy arrays\n",
    "X = df[['sepal_length', 'sepal_width', 'petal_length', 'petal_width']].to_numpy()\n",
    "y = df[['species']].to_numpy().squeeze()\n",
    "\n",
    "# Split dataset into training and test data\n",
    "X_train, X_test, y_train, y_test = train_test_split(X, y, test_size=0.2, random_state=0)\n",
    "\n",
    "print(\"Size of training set: {}\".format(len(X_train)))\n",
    "print(\"Size of test: {}\".format(len(X_test)))"
   ]
  },
  {
   "cell_type": "markdown",
   "metadata": {},
   "source": [
    "#### Train & Evaluate Your Decision Tree Implementation"
   ]
  },
  {
   "cell_type": "code",
   "execution_count": 14,
   "metadata": {},
   "outputs": [
    {
     "name": "stdout",
     "output_type": "stream",
     "text": [
      " X[3] <= 0.800, gini: 0.665, #samples: 120\n",
      "--- Leaf, gini: 0.000, #samples: 39\n",
      "--- X[3] <= 1.750, gini: 0.496, #samples: 81\n",
      "------ Leaf, gini: 0.180, #samples: 40\n",
      "------ Leaf, gini: 0.048, #samples: 41\n",
      "\n"
     ]
    }
   ],
   "source": [
    "dt = MyDecisionTree(max_depth=2)\n",
    "dt.fit(X_train, y_train)\n",
    "\n",
    "print(dt)"
   ]
  },
  {
   "cell_type": "markdown",
   "metadata": {},
   "source": [
    "For dt.fit(X_train, y_train, max_depth=2) the Decision Tree **might** look like this\n",
    "\n",
    "```\n",
    " X[3] <= 0.800, gini: 0.665, #samples: 120\n",
    "--- Leaf, gini: 0.000, #samples: 39\n",
    "--- X[3] <= 1.750, gini: 0.496, #samples: 81\n",
    "------ Leaf, gini: 0.180, #samples: 40\n",
    "------ Leaf, gini: 0.048, #samples: 41\n",
    "```\n",
    "\n",
    "Depending on your exact implementation, your output might slightly vary as there are at least 2 splits of the root note with the same **Ginig score of 0.665**. However, the Gini score of the root node should be indeed 0.665!"
   ]
  },
  {
   "cell_type": "markdown",
   "metadata": {},
   "source": [
    "Predicting the labels of the test data:"
   ]
  },
  {
   "cell_type": "code",
   "execution_count": 15,
   "metadata": {},
   "outputs": [
    {
     "name": "stdout",
     "output_type": "stream",
     "text": [
      "The f1 score of your Decision Tree implementation on the IRIS dataset is 0.957\n"
     ]
    }
   ],
   "source": [
    "y_pred = dt.predict(X_test)\n",
    "\n",
    "f1 = f1_score(y_test, y_pred, average='macro')\n",
    "\n",
    "print('The f1 score of your Decision Tree implementation on the IRIS dataset is {:.3f}'.format(f1))"
   ]
  },
  {
   "cell_type": "markdown",
   "metadata": {},
   "source": [
    "You should see a f1 score of **0.957** with `dt.fit(X_train, y_train, max_depth=2)`, even with the alternative root note split. However, no need to worry in case your f1 score is slightly different."
   ]
  },
  {
   "cell_type": "markdown",
   "metadata": {},
   "source": [
    "#### Compare with scikit-learn Implementation"
   ]
  },
  {
   "cell_type": "markdown",
   "metadata": {},
   "source": [
    "Let's train a Decision Tree using scikit-learn and compare the results. **Three things to consider:**\n",
    "\n",
    "* Of course, the values for `max_depth` and `min_samples_split` have to be the same (if specified)\n",
    "* As the scikit-learn Decision Tree supports different scoring function, we have to specify to use the Gini score (well, it's the default scoring function)\n",
    "* The scikit-learn Decision Tree implementation has a random element: the order in which each feature gets checked is permuted every time. So if to split yield the same best score, the choice might differ. To account for this, you can change the value of `random_state` (1..10 should do) to get the alternatives."
   ]
  },
  {
   "cell_type": "code",
   "execution_count": 16,
   "metadata": {},
   "outputs": [
    {
     "data": {
      "image/png": "[encoded data removed]",
      "image/svg+xml": "<?xml version=\"1.0\" encoding=\"utf-8\" standalone=\"no\"?>\n<!DOCTYPE svg PUBLIC \"-//W3C//DTD SVG 1.1//EN\"\n  \"http://www.w3.org/Graphics/SVG/1.1/DTD/svg11.dtd\">\n<!-- Created with matplotlib (https://matplotlib.org/) -->\n<svg height=\"231.84pt\" version=\"1.1\" viewBox=\"0 0 349.2 231.84\" width=\"349.2pt\" xmlns=\"http://www.w3.org/2000/svg\" xmlns:xlink=\"http://www.w3.org/1999/xlink\">\n <metadata>\n  <rdf:RDF xmlns:cc=\"http://creativecommons.org/ns#\" xmlns:dc=\"http://purl.org/dc/elements/1.1/\" xmlns:rdf=\"http://www.w3.org/1999/02/22-rdf-syntax-ns#\">\n   <cc:Work>\n    <dc:type rdf:resource=\"http://purl.org/dc/dcmitype/StillImage\"/>\n    <dc:date>2021-03-25T21:09:17.988346</dc:date>\n    <dc:format>image/svg+xml</dc:format>\n    <dc:creator>\n     <cc:Agent>\n      <dc:title>Matplotlib v3.3.4, https://matplotlib.org/</dc:title>\n     </cc:Agent>\n    </dc:creator>\n   </cc:Work>\n  </rdf:RDF>\n </metadata>\n <defs>\n  <style type=\"text/css\">*{stroke-linecap:butt;stroke-linejoin:round;}</style>\n </defs>\n <g id=\"figure_1\">\n  <g id=\"patch_1\">\n   <path d=\"M 0 231.84 \nL 349.2 231.84 \nL 349.2 0 \nL 0 0 \nz\n\" style=\"fill:none;\"/>\n  </g>\n  <g id=\"axes_1\">\n   <g id=\"patch_2\">\n    <path d=\"M 166.62503 160.792405 \nQ 186.294263 139.501693 206.722176 117.38976 \n\" style=\"fill:none;stroke:#000000;stroke-linecap:round;\"/>\n    <path d=\"M 171.806424 158.83432 \nL 166.62503 160.792405 \nL 168.167398 155.472439 \n\" style=\"fill:none;stroke:#000000;stroke-linecap:round;\"/>\n   </g>\n   <g id=\"text_1\">\n    <g id=\"patch_3\">\n     <path d=\"M 81.658165 213.217002 \nL 200.581835 213.217002 \nL 200.581835 163.582998 \nL 81.658165 163.582998 \nz\n\" style=\"fill:#ffffff;stroke:#000000;stroke-linejoin:miter;\"/>\n    </g>\n    <!-- gini = 0.18 -->\n    <g transform=\"translate(106.908472 177.948434)scale(0.123857 -0.123857)\">\n     <defs>\n      <path d=\"M 45.40625 27.984375 \nQ 45.40625 37.75 41.375 43.109375 \nQ 37.359375 48.484375 30.078125 48.484375 \nQ 22.859375 48.484375 18.828125 43.109375 \nQ 14.796875 37.75 14.796875 27.984375 \nQ 14.796875 18.265625 18.828125 12.890625 \nQ 22.859375 7.515625 30.078125 7.515625 \nQ 37.359375 7.515625 41.375 12.890625 \nQ 45.40625 18.265625 45.40625 27.984375 \nz\nM 54.390625 6.78125 \nQ 54.390625 -7.171875 48.1875 -13.984375 \nQ 42 -20.796875 29.203125 -20.796875 \nQ 24.46875 -20.796875 20.265625 -20.09375 \nQ 16.0625 -19.390625 12.109375 -17.921875 \nL 12.109375 -9.1875 \nQ 16.0625 -11.328125 19.921875 -12.34375 \nQ 23.78125 -13.375 27.78125 -13.375 \nQ 36.625 -13.375 41.015625 -8.765625 \nQ 45.40625 -4.15625 45.40625 5.171875 \nL 45.40625 9.625 \nQ 42.625 4.78125 38.28125 2.390625 \nQ 33.9375 0 27.875 0 \nQ 17.828125 0 11.671875 7.65625 \nQ 5.515625 15.328125 5.515625 27.984375 \nQ 5.515625 40.671875 11.671875 48.328125 \nQ 17.828125 56 27.875 56 \nQ 33.9375 56 38.28125 53.609375 \nQ 42.625 51.21875 45.40625 46.390625 \nL 45.40625 54.6875 \nL 54.390625 54.6875 \nz\n\" id=\"DejaVuSans-103\"/>\n      <path d=\"M 9.421875 54.6875 \nL 18.40625 54.6875 \nL 18.40625 0 \nL 9.421875 0 \nz\nM 9.421875 75.984375 \nL 18.40625 75.984375 \nL 18.40625 64.59375 \nL 9.421875 64.59375 \nz\n\" id=\"DejaVuSans-105\"/>\n      <path d=\"M 54.890625 33.015625 \nL 54.890625 0 \nL 45.90625 0 \nL 45.90625 32.71875 \nQ 45.90625 40.484375 42.875 44.328125 \nQ 39.84375 48.1875 33.796875 48.1875 \nQ 26.515625 48.1875 22.3125 43.546875 \nQ 18.109375 38.921875 18.109375 30.90625 \nL 18.109375 0 \nL 9.078125 0 \nL 9.078125 54.6875 \nL 18.109375 54.6875 \nL 18.109375 46.1875 \nQ 21.34375 51.125 25.703125 53.5625 \nQ 30.078125 56 35.796875 56 \nQ 45.21875 56 50.046875 50.171875 \nQ 54.890625 44.34375 54.890625 33.015625 \nz\n\" id=\"DejaVuSans-110\"/>\n      <path id=\"DejaVuSans-32\"/>\n      <path d=\"M 10.59375 45.40625 \nL 73.1875 45.40625 \nL 73.1875 37.203125 \nL 10.59375 37.203125 \nz\nM 10.59375 25.484375 \nL 73.1875 25.484375 \nL 73.1875 17.1875 \nL 10.59375 17.1875 \nz\n\" id=\"DejaVuSans-61\"/>\n      <path d=\"M 31.78125 66.40625 \nQ 24.171875 66.40625 20.328125 58.90625 \nQ 16.5 51.421875 16.5 36.375 \nQ 16.5 21.390625 20.328125 13.890625 \nQ 24.171875 6.390625 31.78125 6.390625 \nQ 39.453125 6.390625 43.28125 13.890625 \nQ 47.125 21.390625 47.125 36.375 \nQ 47.125 51.421875 43.28125 58.90625 \nQ 39.453125 66.40625 31.78125 66.40625 \nz\nM 31.78125 74.21875 \nQ 44.046875 74.21875 50.515625 64.515625 \nQ 56.984375 54.828125 56.984375 36.375 \nQ 56.984375 17.96875 50.515625 8.265625 \nQ 44.046875 -1.421875 31.78125 -1.421875 \nQ 19.53125 -1.421875 13.0625 8.265625 \nQ 6.59375 17.96875 6.59375 36.375 \nQ 6.59375 54.828125 13.0625 64.515625 \nQ 19.53125 74.21875 31.78125 74.21875 \nz\n\" id=\"DejaVuSans-48\"/>\n      <path d=\"M 10.6875 12.40625 \nL 21 12.40625 \nL 21 0 \nL 10.6875 0 \nz\n\" id=\"DejaVuSans-46\"/>\n      <path d=\"M 12.40625 8.296875 \nL 28.515625 8.296875 \nL 28.515625 63.921875 \nL 10.984375 60.40625 \nL 10.984375 69.390625 \nL 28.421875 72.90625 \nL 38.28125 72.90625 \nL 38.28125 8.296875 \nL 54.390625 8.296875 \nL 54.390625 0 \nL 12.40625 0 \nz\n\" id=\"DejaVuSans-49\"/>\n      <path d=\"M 31.78125 34.625 \nQ 24.75 34.625 20.71875 30.859375 \nQ 16.703125 27.09375 16.703125 20.515625 \nQ 16.703125 13.921875 20.71875 10.15625 \nQ 24.75 6.390625 31.78125 6.390625 \nQ 38.8125 6.390625 42.859375 10.171875 \nQ 46.921875 13.96875 46.921875 20.515625 \nQ 46.921875 27.09375 42.890625 30.859375 \nQ 38.875 34.625 31.78125 34.625 \nz\nM 21.921875 38.8125 \nQ 15.578125 40.375 12.03125 44.71875 \nQ 8.5 49.078125 8.5 55.328125 \nQ 8.5 64.0625 14.71875 69.140625 \nQ 20.953125 74.21875 31.78125 74.21875 \nQ 42.671875 74.21875 48.875 69.140625 \nQ 55.078125 64.0625 55.078125 55.328125 \nQ 55.078125 49.078125 51.53125 44.71875 \nQ 48 40.375 41.703125 38.8125 \nQ 48.828125 37.15625 52.796875 32.3125 \nQ 56.78125 27.484375 56.78125 20.515625 \nQ 56.78125 9.90625 50.3125 4.234375 \nQ 43.84375 -1.421875 31.78125 -1.421875 \nQ 19.734375 -1.421875 13.25 4.234375 \nQ 6.78125 9.90625 6.78125 20.515625 \nQ 6.78125 27.484375 10.78125 32.3125 \nQ 14.796875 37.15625 21.921875 38.8125 \nz\nM 18.3125 54.390625 \nQ 18.3125 48.734375 21.84375 45.5625 \nQ 25.390625 42.390625 31.78125 42.390625 \nQ 38.140625 42.390625 41.71875 45.5625 \nQ 45.3125 48.734375 45.3125 54.390625 \nQ 45.3125 60.0625 41.71875 63.234375 \nQ 38.140625 66.40625 31.78125 66.40625 \nQ 25.390625 66.40625 21.84375 63.234375 \nQ 18.3125 60.0625 18.3125 54.390625 \nz\n\" id=\"DejaVuSans-56\"/>\n     </defs>\n     <use xlink:href=\"#DejaVuSans-103\"/>\n     <use x=\"63.476562\" xlink:href=\"#DejaVuSans-105\"/>\n     <use x=\"91.259766\" xlink:href=\"#DejaVuSans-110\"/>\n     <use x=\"154.638672\" xlink:href=\"#DejaVuSans-105\"/>\n     <use x=\"182.421875\" xlink:href=\"#DejaVuSans-32\"/>\n     <use x=\"214.208984\" xlink:href=\"#DejaVuSans-61\"/>\n     <use x=\"297.998047\" xlink:href=\"#DejaVuSans-32\"/>\n     <use x=\"329.785156\" xlink:href=\"#DejaVuSans-48\"/>\n     <use x=\"393.408203\" xlink:href=\"#DejaVuSans-46\"/>\n     <use x=\"425.195312\" xlink:href=\"#DejaVuSans-49\"/>\n     <use x=\"488.818359\" xlink:href=\"#DejaVuSans-56\"/>\n    </g>\n    <!-- samples = 40 -->\n    <g transform=\"translate(98.372039 191.817669)scale(0.123857 -0.123857)\">\n     <defs>\n      <path d=\"M 44.28125 53.078125 \nL 44.28125 44.578125 \nQ 40.484375 46.53125 36.375 47.5 \nQ 32.28125 48.484375 27.875 48.484375 \nQ 21.1875 48.484375 17.84375 46.4375 \nQ 14.5 44.390625 14.5 40.28125 \nQ 14.5 37.15625 16.890625 35.375 \nQ 19.28125 33.59375 26.515625 31.984375 \nL 29.59375 31.296875 \nQ 39.15625 29.25 43.1875 25.515625 \nQ 47.21875 21.78125 47.21875 15.09375 \nQ 47.21875 7.46875 41.1875 3.015625 \nQ 35.15625 -1.421875 24.609375 -1.421875 \nQ 20.21875 -1.421875 15.453125 -0.5625 \nQ 10.6875 0.296875 5.421875 2 \nL 5.421875 11.28125 \nQ 10.40625 8.6875 15.234375 7.390625 \nQ 20.0625 6.109375 24.8125 6.109375 \nQ 31.15625 6.109375 34.5625 8.28125 \nQ 37.984375 10.453125 37.984375 14.40625 \nQ 37.984375 18.0625 35.515625 20.015625 \nQ 33.0625 21.96875 24.703125 23.78125 \nL 21.578125 24.515625 \nQ 13.234375 26.265625 9.515625 29.90625 \nQ 5.8125 33.546875 5.8125 39.890625 \nQ 5.8125 47.609375 11.28125 51.796875 \nQ 16.75 56 26.8125 56 \nQ 31.78125 56 36.171875 55.265625 \nQ 40.578125 54.546875 44.28125 53.078125 \nz\n\" id=\"DejaVuSans-115\"/>\n      <path d=\"M 34.28125 27.484375 \nQ 23.390625 27.484375 19.1875 25 \nQ 14.984375 22.515625 14.984375 16.5 \nQ 14.984375 11.71875 18.140625 8.90625 \nQ 21.296875 6.109375 26.703125 6.109375 \nQ 34.1875 6.109375 38.703125 11.40625 \nQ 43.21875 16.703125 43.21875 25.484375 \nL 43.21875 27.484375 \nz\nM 52.203125 31.203125 \nL 52.203125 0 \nL 43.21875 0 \nL 43.21875 8.296875 \nQ 40.140625 3.328125 35.546875 0.953125 \nQ 30.953125 -1.421875 24.3125 -1.421875 \nQ 15.921875 -1.421875 10.953125 3.296875 \nQ 6 8.015625 6 15.921875 \nQ 6 25.140625 12.171875 29.828125 \nQ 18.359375 34.515625 30.609375 34.515625 \nL 43.21875 34.515625 \nL 43.21875 35.40625 \nQ 43.21875 41.609375 39.140625 45 \nQ 35.0625 48.390625 27.6875 48.390625 \nQ 23 48.390625 18.546875 47.265625 \nQ 14.109375 46.140625 10.015625 43.890625 \nL 10.015625 52.203125 \nQ 14.9375 54.109375 19.578125 55.046875 \nQ 24.21875 56 28.609375 56 \nQ 40.484375 56 46.34375 49.84375 \nQ 52.203125 43.703125 52.203125 31.203125 \nz\n\" id=\"DejaVuSans-97\"/>\n      <path d=\"M 52 44.1875 \nQ 55.375 50.25 60.0625 53.125 \nQ 64.75 56 71.09375 56 \nQ 79.640625 56 84.28125 50.015625 \nQ 88.921875 44.046875 88.921875 33.015625 \nL 88.921875 0 \nL 79.890625 0 \nL 79.890625 32.71875 \nQ 79.890625 40.578125 77.09375 44.375 \nQ 74.3125 48.1875 68.609375 48.1875 \nQ 61.625 48.1875 57.5625 43.546875 \nQ 53.515625 38.921875 53.515625 30.90625 \nL 53.515625 0 \nL 44.484375 0 \nL 44.484375 32.71875 \nQ 44.484375 40.625 41.703125 44.40625 \nQ 38.921875 48.1875 33.109375 48.1875 \nQ 26.21875 48.1875 22.15625 43.53125 \nQ 18.109375 38.875 18.109375 30.90625 \nL 18.109375 0 \nL 9.078125 0 \nL 9.078125 54.6875 \nL 18.109375 54.6875 \nL 18.109375 46.1875 \nQ 21.1875 51.21875 25.484375 53.609375 \nQ 29.78125 56 35.6875 56 \nQ 41.65625 56 45.828125 52.96875 \nQ 50 49.953125 52 44.1875 \nz\n\" id=\"DejaVuSans-109\"/>\n      <path d=\"M 18.109375 8.203125 \nL 18.109375 -20.796875 \nL 9.078125 -20.796875 \nL 9.078125 54.6875 \nL 18.109375 54.6875 \nL 18.109375 46.390625 \nQ 20.953125 51.265625 25.265625 53.625 \nQ 29.59375 56 35.59375 56 \nQ 45.5625 56 51.78125 48.09375 \nQ 58.015625 40.1875 58.015625 27.296875 \nQ 58.015625 14.40625 51.78125 6.484375 \nQ 45.5625 -1.421875 35.59375 -1.421875 \nQ 29.59375 -1.421875 25.265625 0.953125 \nQ 20.953125 3.328125 18.109375 8.203125 \nz\nM 48.6875 27.296875 \nQ 48.6875 37.203125 44.609375 42.84375 \nQ 40.53125 48.484375 33.40625 48.484375 \nQ 26.265625 48.484375 22.1875 42.84375 \nQ 18.109375 37.203125 18.109375 27.296875 \nQ 18.109375 17.390625 22.1875 11.75 \nQ 26.265625 6.109375 33.40625 6.109375 \nQ 40.53125 6.109375 44.609375 11.75 \nQ 48.6875 17.390625 48.6875 27.296875 \nz\n\" id=\"DejaVuSans-112\"/>\n      <path d=\"M 9.421875 75.984375 \nL 18.40625 75.984375 \nL 18.40625 0 \nL 9.421875 0 \nz\n\" id=\"DejaVuSans-108\"/>\n      <path d=\"M 56.203125 29.59375 \nL 56.203125 25.203125 \nL 14.890625 25.203125 \nQ 15.484375 15.921875 20.484375 11.0625 \nQ 25.484375 6.203125 34.421875 6.203125 \nQ 39.59375 6.203125 44.453125 7.46875 \nQ 49.3125 8.734375 54.109375 11.28125 \nL 54.109375 2.78125 \nQ 49.265625 0.734375 44.1875 -0.34375 \nQ 39.109375 -1.421875 33.890625 -1.421875 \nQ 20.796875 -1.421875 13.15625 6.1875 \nQ 5.515625 13.8125 5.515625 26.8125 \nQ 5.515625 40.234375 12.765625 48.109375 \nQ 20.015625 56 32.328125 56 \nQ 43.359375 56 49.78125 48.890625 \nQ 56.203125 41.796875 56.203125 29.59375 \nz\nM 47.21875 32.234375 \nQ 47.125 39.59375 43.09375 43.984375 \nQ 39.0625 48.390625 32.421875 48.390625 \nQ 24.90625 48.390625 20.390625 44.140625 \nQ 15.875 39.890625 15.1875 32.171875 \nz\n\" id=\"DejaVuSans-101\"/>\n      <path d=\"M 37.796875 64.3125 \nL 12.890625 25.390625 \nL 37.796875 25.390625 \nz\nM 35.203125 72.90625 \nL 47.609375 72.90625 \nL 47.609375 25.390625 \nL 58.015625 25.390625 \nL 58.015625 17.1875 \nL 47.609375 17.1875 \nL 47.609375 0 \nL 37.796875 0 \nL 37.796875 17.1875 \nL 4.890625 17.1875 \nL 4.890625 26.703125 \nz\n\" id=\"DejaVuSans-52\"/>\n     </defs>\n     <use xlink:href=\"#DejaVuSans-115\"/>\n     <use x=\"52.099609\" xlink:href=\"#DejaVuSans-97\"/>\n     <use x=\"113.378906\" xlink:href=\"#DejaVuSans-109\"/>\n     <use x=\"210.791016\" xlink:href=\"#DejaVuSans-112\"/>\n     <use x=\"274.267578\" xlink:href=\"#DejaVuSans-108\"/>\n     <use x=\"302.050781\" xlink:href=\"#DejaVuSans-101\"/>\n     <use x=\"363.574219\" xlink:href=\"#DejaVuSans-115\"/>\n     <use x=\"415.673828\" xlink:href=\"#DejaVuSans-32\"/>\n     <use x=\"447.460938\" xlink:href=\"#DejaVuSans-61\"/>\n     <use x=\"531.25\" xlink:href=\"#DejaVuSans-32\"/>\n     <use x=\"563.037109\" xlink:href=\"#DejaVuSans-52\"/>\n     <use x=\"626.660156\" xlink:href=\"#DejaVuSans-48\"/>\n    </g>\n    <!-- value = [0, 36, 4] -->\n    <g transform=\"translate(86.612431 205.686905)scale(0.123857 -0.123857)\">\n     <defs>\n      <path d=\"M 2.984375 54.6875 \nL 12.5 54.6875 \nL 29.59375 8.796875 \nL 46.6875 54.6875 \nL 56.203125 54.6875 \nL 35.6875 0 \nL 23.484375 0 \nz\n\" id=\"DejaVuSans-118\"/>\n      <path d=\"M 8.5 21.578125 \nL 8.5 54.6875 \nL 17.484375 54.6875 \nL 17.484375 21.921875 \nQ 17.484375 14.15625 20.5 10.265625 \nQ 23.53125 6.390625 29.59375 6.390625 \nQ 36.859375 6.390625 41.078125 11.03125 \nQ 45.3125 15.671875 45.3125 23.6875 \nL 45.3125 54.6875 \nL 54.296875 54.6875 \nL 54.296875 0 \nL 45.3125 0 \nL 45.3125 8.40625 \nQ 42.046875 3.421875 37.71875 1 \nQ 33.40625 -1.421875 27.6875 -1.421875 \nQ 18.265625 -1.421875 13.375 4.4375 \nQ 8.5 10.296875 8.5 21.578125 \nz\nM 31.109375 56 \nz\n\" id=\"DejaVuSans-117\"/>\n      <path d=\"M 8.59375 75.984375 \nL 29.296875 75.984375 \nL 29.296875 69 \nL 17.578125 69 \nL 17.578125 -6.203125 \nL 29.296875 -6.203125 \nL 29.296875 -13.1875 \nL 8.59375 -13.1875 \nz\n\" id=\"DejaVuSans-91\"/>\n      <path d=\"M 11.71875 12.40625 \nL 22.015625 12.40625 \nL 22.015625 4 \nL 14.015625 -11.625 \nL 7.71875 -11.625 \nL 11.71875 4 \nz\n\" id=\"DejaVuSans-44\"/>\n      <path d=\"M 40.578125 39.3125 \nQ 47.65625 37.796875 51.625 33 \nQ 55.609375 28.21875 55.609375 21.1875 \nQ 55.609375 10.40625 48.1875 4.484375 \nQ 40.765625 -1.421875 27.09375 -1.421875 \nQ 22.515625 -1.421875 17.65625 -0.515625 \nQ 12.796875 0.390625 7.625 2.203125 \nL 7.625 11.71875 \nQ 11.71875 9.328125 16.59375 8.109375 \nQ 21.484375 6.890625 26.8125 6.890625 \nQ 36.078125 6.890625 40.9375 10.546875 \nQ 45.796875 14.203125 45.796875 21.1875 \nQ 45.796875 27.640625 41.28125 31.265625 \nQ 36.765625 34.90625 28.71875 34.90625 \nL 20.21875 34.90625 \nL 20.21875 43.015625 \nL 29.109375 43.015625 \nQ 36.375 43.015625 40.234375 45.921875 \nQ 44.09375 48.828125 44.09375 54.296875 \nQ 44.09375 59.90625 40.109375 62.90625 \nQ 36.140625 65.921875 28.71875 65.921875 \nQ 24.65625 65.921875 20.015625 65.03125 \nQ 15.375 64.15625 9.8125 62.3125 \nL 9.8125 71.09375 \nQ 15.4375 72.65625 20.34375 73.4375 \nQ 25.25 74.21875 29.59375 74.21875 \nQ 40.828125 74.21875 47.359375 69.109375 \nQ 53.90625 64.015625 53.90625 55.328125 \nQ 53.90625 49.265625 50.4375 45.09375 \nQ 46.96875 40.921875 40.578125 39.3125 \nz\n\" id=\"DejaVuSans-51\"/>\n      <path d=\"M 33.015625 40.375 \nQ 26.375 40.375 22.484375 35.828125 \nQ 18.609375 31.296875 18.609375 23.390625 \nQ 18.609375 15.53125 22.484375 10.953125 \nQ 26.375 6.390625 33.015625 6.390625 \nQ 39.65625 6.390625 43.53125 10.953125 \nQ 47.40625 15.53125 47.40625 23.390625 \nQ 47.40625 31.296875 43.53125 35.828125 \nQ 39.65625 40.375 33.015625 40.375 \nz\nM 52.59375 71.296875 \nL 52.59375 62.3125 \nQ 48.875 64.0625 45.09375 64.984375 \nQ 41.3125 65.921875 37.59375 65.921875 \nQ 27.828125 65.921875 22.671875 59.328125 \nQ 17.53125 52.734375 16.796875 39.40625 \nQ 19.671875 43.65625 24.015625 45.921875 \nQ 28.375 48.1875 33.59375 48.1875 \nQ 44.578125 48.1875 50.953125 41.515625 \nQ 57.328125 34.859375 57.328125 23.390625 \nQ 57.328125 12.15625 50.6875 5.359375 \nQ 44.046875 -1.421875 33.015625 -1.421875 \nQ 20.359375 -1.421875 13.671875 8.265625 \nQ 6.984375 17.96875 6.984375 36.375 \nQ 6.984375 53.65625 15.1875 63.9375 \nQ 23.390625 74.21875 37.203125 74.21875 \nQ 40.921875 74.21875 44.703125 73.484375 \nQ 48.484375 72.75 52.59375 71.296875 \nz\n\" id=\"DejaVuSans-54\"/>\n      <path d=\"M 30.421875 75.984375 \nL 30.421875 -13.1875 \nL 9.71875 -13.1875 \nL 9.71875 -6.203125 \nL 21.390625 -6.203125 \nL 21.390625 69 \nL 9.71875 69 \nL 9.71875 75.984375 \nz\n\" id=\"DejaVuSans-93\"/>\n     </defs>\n     <use xlink:href=\"#DejaVuSans-118\"/>\n     <use x=\"59.179688\" xlink:href=\"#DejaVuSans-97\"/>\n     <use x=\"120.458984\" xlink:href=\"#DejaVuSans-108\"/>\n     <use x=\"148.242188\" xlink:href=\"#DejaVuSans-117\"/>\n     <use x=\"211.621094\" xlink:href=\"#DejaVuSans-101\"/>\n     <use x=\"273.144531\" xlink:href=\"#DejaVuSans-32\"/>\n     <use x=\"304.931641\" xlink:href=\"#DejaVuSans-61\"/>\n     <use x=\"388.720703\" xlink:href=\"#DejaVuSans-32\"/>\n     <use x=\"420.507812\" xlink:href=\"#DejaVuSans-91\"/>\n     <use x=\"459.521484\" xlink:href=\"#DejaVuSans-48\"/>\n     <use x=\"523.144531\" xlink:href=\"#DejaVuSans-44\"/>\n     <use x=\"554.931641\" xlink:href=\"#DejaVuSans-32\"/>\n     <use x=\"586.71875\" xlink:href=\"#DejaVuSans-51\"/>\n     <use x=\"650.341797\" xlink:href=\"#DejaVuSans-54\"/>\n     <use x=\"713.964844\" xlink:href=\"#DejaVuSans-44\"/>\n     <use x=\"745.751953\" xlink:href=\"#DejaVuSans-32\"/>\n     <use x=\"777.539062\" xlink:href=\"#DejaVuSans-52\"/>\n     <use x=\"841.162109\" xlink:href=\"#DejaVuSans-93\"/>\n    </g>\n   </g>\n   <g id=\"patch_4\">\n    <path d=\"M 249.53497 160.792405 \nQ 229.865737 139.501693 209.437824 117.38976 \n\" style=\"fill:none;stroke:#000000;stroke-linecap:round;\"/>\n    <path d=\"M 247.992602 155.472439 \nL 249.53497 160.792405 \nL 244.353576 158.83432 \n\" style=\"fill:none;stroke:#000000;stroke-linecap:round;\"/>\n   </g>\n   <g id=\"text_2\">\n    <g id=\"patch_5\">\n     <path d=\"M 215.578165 213.217002 \nL 334.501835 213.217002 \nL 334.501835 163.582998 \nL 215.578165 163.582998 \nz\n\" style=\"fill:#ffffff;stroke:#000000;stroke-linejoin:miter;\"/>\n    </g>\n    <!-- gini = 0.048 -->\n    <g transform=\"translate(236.888282 177.948434)scale(0.123857 -0.123857)\">\n     <use xlink:href=\"#DejaVuSans-103\"/>\n     <use x=\"63.476562\" xlink:href=\"#DejaVuSans-105\"/>\n     <use x=\"91.259766\" xlink:href=\"#DejaVuSans-110\"/>\n     <use x=\"154.638672\" xlink:href=\"#DejaVuSans-105\"/>\n     <use x=\"182.421875\" xlink:href=\"#DejaVuSans-32\"/>\n     <use x=\"214.208984\" xlink:href=\"#DejaVuSans-61\"/>\n     <use x=\"297.998047\" xlink:href=\"#DejaVuSans-32\"/>\n     <use x=\"329.785156\" xlink:href=\"#DejaVuSans-48\"/>\n     <use x=\"393.408203\" xlink:href=\"#DejaVuSans-46\"/>\n     <use x=\"425.195312\" xlink:href=\"#DejaVuSans-48\"/>\n     <use x=\"488.818359\" xlink:href=\"#DejaVuSans-52\"/>\n     <use x=\"552.441406\" xlink:href=\"#DejaVuSans-56\"/>\n    </g>\n    <!-- samples = 41 -->\n    <g transform=\"translate(232.292039 191.817669)scale(0.123857 -0.123857)\">\n     <use xlink:href=\"#DejaVuSans-115\"/>\n     <use x=\"52.099609\" xlink:href=\"#DejaVuSans-97\"/>\n     <use x=\"113.378906\" xlink:href=\"#DejaVuSans-109\"/>\n     <use x=\"210.791016\" xlink:href=\"#DejaVuSans-112\"/>\n     <use x=\"274.267578\" xlink:href=\"#DejaVuSans-108\"/>\n     <use x=\"302.050781\" xlink:href=\"#DejaVuSans-101\"/>\n     <use x=\"363.574219\" xlink:href=\"#DejaVuSans-115\"/>\n     <use x=\"415.673828\" xlink:href=\"#DejaVuSans-32\"/>\n     <use x=\"447.460938\" xlink:href=\"#DejaVuSans-61\"/>\n     <use x=\"531.25\" xlink:href=\"#DejaVuSans-32\"/>\n     <use x=\"563.037109\" xlink:href=\"#DejaVuSans-52\"/>\n     <use x=\"626.660156\" xlink:href=\"#DejaVuSans-49\"/>\n    </g>\n    <!-- value = [0, 1, 40] -->\n    <g transform=\"translate(220.532431 205.686905)scale(0.123857 -0.123857)\">\n     <use xlink:href=\"#DejaVuSans-118\"/>\n     <use x=\"59.179688\" xlink:href=\"#DejaVuSans-97\"/>\n     <use x=\"120.458984\" xlink:href=\"#DejaVuSans-108\"/>\n     <use x=\"148.242188\" xlink:href=\"#DejaVuSans-117\"/>\n     <use x=\"211.621094\" xlink:href=\"#DejaVuSans-101\"/>\n     <use x=\"273.144531\" xlink:href=\"#DejaVuSans-32\"/>\n     <use x=\"304.931641\" xlink:href=\"#DejaVuSans-61\"/>\n     <use x=\"388.720703\" xlink:href=\"#DejaVuSans-32\"/>\n     <use x=\"420.507812\" xlink:href=\"#DejaVuSans-91\"/>\n     <use x=\"459.521484\" xlink:href=\"#DejaVuSans-48\"/>\n     <use x=\"523.144531\" xlink:href=\"#DejaVuSans-44\"/>\n     <use x=\"554.931641\" xlink:href=\"#DejaVuSans-32\"/>\n     <use x=\"586.71875\" xlink:href=\"#DejaVuSans-49\"/>\n     <use x=\"650.341797\" xlink:href=\"#DejaVuSans-44\"/>\n     <use x=\"682.128906\" xlink:href=\"#DejaVuSans-32\"/>\n     <use x=\"713.916016\" xlink:href=\"#DejaVuSans-52\"/>\n     <use x=\"777.539062\" xlink:href=\"#DejaVuSans-48\"/>\n     <use x=\"841.162109\" xlink:href=\"#DejaVuSans-93\"/>\n    </g>\n   </g>\n   <g id=\"patch_6\">\n    <path d=\"M 99.66503 88.312405 \nQ 119.334263 67.021693 139.762176 44.90976 \n\" style=\"fill:none;stroke:#000000;stroke-linecap:round;\"/>\n    <path d=\"M 104.846424 86.35432 \nL 99.66503 88.312405 \nL 101.207398 82.992439 \n\" style=\"fill:none;stroke:#000000;stroke-linecap:round;\"/>\n   </g>\n   <g id=\"text_3\">\n    <g id=\"patch_7\">\n     <path d=\"M 14.698165 140.737002 \nL 133.621835 140.737002 \nL 133.621835 91.102998 \nL 14.698165 91.102998 \nz\n\" style=\"fill:#ffffff;stroke:#000000;stroke-linejoin:miter;\"/>\n    </g>\n    <!-- gini = 0.0 -->\n    <g transform=\"translate(43.888661 105.468434)scale(0.123857 -0.123857)\">\n     <use xlink:href=\"#DejaVuSans-103\"/>\n     <use x=\"63.476562\" xlink:href=\"#DejaVuSans-105\"/>\n     <use x=\"91.259766\" xlink:href=\"#DejaVuSans-110\"/>\n     <use x=\"154.638672\" xlink:href=\"#DejaVuSans-105\"/>\n     <use x=\"182.421875\" xlink:href=\"#DejaVuSans-32\"/>\n     <use x=\"214.208984\" xlink:href=\"#DejaVuSans-61\"/>\n     <use x=\"297.998047\" xlink:href=\"#DejaVuSans-32\"/>\n     <use x=\"329.785156\" xlink:href=\"#DejaVuSans-48\"/>\n     <use x=\"393.408203\" xlink:href=\"#DejaVuSans-46\"/>\n     <use x=\"425.195312\" xlink:href=\"#DejaVuSans-48\"/>\n    </g>\n    <!-- samples = 39 -->\n    <g transform=\"translate(31.412039 119.337669)scale(0.123857 -0.123857)\">\n     <defs>\n      <path d=\"M 10.984375 1.515625 \nL 10.984375 10.5 \nQ 14.703125 8.734375 18.5 7.8125 \nQ 22.3125 6.890625 25.984375 6.890625 \nQ 35.75 6.890625 40.890625 13.453125 \nQ 46.046875 20.015625 46.78125 33.40625 \nQ 43.953125 29.203125 39.59375 26.953125 \nQ 35.25 24.703125 29.984375 24.703125 \nQ 19.046875 24.703125 12.671875 31.3125 \nQ 6.296875 37.9375 6.296875 49.421875 \nQ 6.296875 60.640625 12.9375 67.421875 \nQ 19.578125 74.21875 30.609375 74.21875 \nQ 43.265625 74.21875 49.921875 64.515625 \nQ 56.59375 54.828125 56.59375 36.375 \nQ 56.59375 19.140625 48.40625 8.859375 \nQ 40.234375 -1.421875 26.421875 -1.421875 \nQ 22.703125 -1.421875 18.890625 -0.6875 \nQ 15.09375 0.046875 10.984375 1.515625 \nz\nM 30.609375 32.421875 \nQ 37.25 32.421875 41.125 36.953125 \nQ 45.015625 41.5 45.015625 49.421875 \nQ 45.015625 57.28125 41.125 61.84375 \nQ 37.25 66.40625 30.609375 66.40625 \nQ 23.96875 66.40625 20.09375 61.84375 \nQ 16.21875 57.28125 16.21875 49.421875 \nQ 16.21875 41.5 20.09375 36.953125 \nQ 23.96875 32.421875 30.609375 32.421875 \nz\n\" id=\"DejaVuSans-57\"/>\n     </defs>\n     <use xlink:href=\"#DejaVuSans-115\"/>\n     <use x=\"52.099609\" xlink:href=\"#DejaVuSans-97\"/>\n     <use x=\"113.378906\" xlink:href=\"#DejaVuSans-109\"/>\n     <use x=\"210.791016\" xlink:href=\"#DejaVuSans-112\"/>\n     <use x=\"274.267578\" xlink:href=\"#DejaVuSans-108\"/>\n     <use x=\"302.050781\" xlink:href=\"#DejaVuSans-101\"/>\n     <use x=\"363.574219\" xlink:href=\"#DejaVuSans-115\"/>\n     <use x=\"415.673828\" xlink:href=\"#DejaVuSans-32\"/>\n     <use x=\"447.460938\" xlink:href=\"#DejaVuSans-61\"/>\n     <use x=\"531.25\" xlink:href=\"#DejaVuSans-32\"/>\n     <use x=\"563.037109\" xlink:href=\"#DejaVuSans-51\"/>\n     <use x=\"626.660156\" xlink:href=\"#DejaVuSans-57\"/>\n    </g>\n    <!-- value = [39, 0, 0] -->\n    <g transform=\"translate(19.652431 133.206905)scale(0.123857 -0.123857)\">\n     <use xlink:href=\"#DejaVuSans-118\"/>\n     <use x=\"59.179688\" xlink:href=\"#DejaVuSans-97\"/>\n     <use x=\"120.458984\" xlink:href=\"#DejaVuSans-108\"/>\n     <use x=\"148.242188\" xlink:href=\"#DejaVuSans-117\"/>\n     <use x=\"211.621094\" xlink:href=\"#DejaVuSans-101\"/>\n     <use x=\"273.144531\" xlink:href=\"#DejaVuSans-32\"/>\n     <use x=\"304.931641\" xlink:href=\"#DejaVuSans-61\"/>\n     <use x=\"388.720703\" xlink:href=\"#DejaVuSans-32\"/>\n     <use x=\"420.507812\" xlink:href=\"#DejaVuSans-91\"/>\n     <use x=\"459.521484\" xlink:href=\"#DejaVuSans-51\"/>\n     <use x=\"523.144531\" xlink:href=\"#DejaVuSans-57\"/>\n     <use x=\"586.767578\" xlink:href=\"#DejaVuSans-44\"/>\n     <use x=\"618.554688\" xlink:href=\"#DejaVuSans-32\"/>\n     <use x=\"650.341797\" xlink:href=\"#DejaVuSans-48\"/>\n     <use x=\"713.964844\" xlink:href=\"#DejaVuSans-44\"/>\n     <use x=\"745.751953\" xlink:href=\"#DejaVuSans-32\"/>\n     <use x=\"777.539062\" xlink:href=\"#DejaVuSans-48\"/>\n     <use x=\"841.162109\" xlink:href=\"#DejaVuSans-93\"/>\n    </g>\n   </g>\n   <g id=\"patch_8\">\n    <path d=\"M 176.166943 81.376118 \nQ 159.701378 63.553177 142.477134 44.909013 \n\" style=\"fill:none;stroke:#000000;stroke-linecap:round;\"/>\n    <path d=\"M 174.624575 76.056152 \nL 176.166943 81.376118 \nL 170.985549 79.418033 \n\" style=\"fill:none;stroke:#000000;stroke-linecap:round;\"/>\n   </g>\n   <g id=\"text_4\">\n    <g id=\"patch_9\">\n     <path d=\"M 144.677976 147.671619 \nL 271.482024 147.671619 \nL 271.482024 84.168381 \nL 144.677976 84.168381 \nz\n\" style=\"fill:#ffffff;stroke:#000000;stroke-linejoin:miter;\"/>\n    </g>\n    <!-- X[3] &lt;= 1.75 -->\n    <g transform=\"translate(166.961528 98.533817)scale(0.123857 -0.123857)\">\n     <defs>\n      <path d=\"M 6.296875 72.90625 \nL 16.890625 72.90625 \nL 35.015625 45.796875 \nL 53.21875 72.90625 \nL 63.8125 72.90625 \nL 40.375 37.890625 \nL 65.375 0 \nL 54.78125 0 \nL 34.28125 31 \nL 13.625 0 \nL 2.984375 0 \nL 29 38.921875 \nz\n\" id=\"DejaVuSans-88\"/>\n      <path d=\"M 73.1875 49.21875 \nL 22.796875 31.296875 \nL 73.1875 13.484375 \nL 73.1875 4.59375 \nL 10.59375 27.296875 \nL 10.59375 35.40625 \nL 73.1875 58.109375 \nz\n\" id=\"DejaVuSans-60\"/>\n      <path d=\"M 8.203125 72.90625 \nL 55.078125 72.90625 \nL 55.078125 68.703125 \nL 28.609375 0 \nL 18.3125 0 \nL 43.21875 64.59375 \nL 8.203125 64.59375 \nz\n\" id=\"DejaVuSans-55\"/>\n      <path d=\"M 10.796875 72.90625 \nL 49.515625 72.90625 \nL 49.515625 64.59375 \nL 19.828125 64.59375 \nL 19.828125 46.734375 \nQ 21.96875 47.46875 24.109375 47.828125 \nQ 26.265625 48.1875 28.421875 48.1875 \nQ 40.625 48.1875 47.75 41.5 \nQ 54.890625 34.8125 54.890625 23.390625 \nQ 54.890625 11.625 47.5625 5.09375 \nQ 40.234375 -1.421875 26.90625 -1.421875 \nQ 22.3125 -1.421875 17.546875 -0.640625 \nQ 12.796875 0.140625 7.71875 1.703125 \nL 7.71875 11.625 \nQ 12.109375 9.234375 16.796875 8.0625 \nQ 21.484375 6.890625 26.703125 6.890625 \nQ 35.15625 6.890625 40.078125 11.328125 \nQ 45.015625 15.765625 45.015625 23.390625 \nQ 45.015625 31 40.078125 35.4375 \nQ 35.15625 39.890625 26.703125 39.890625 \nQ 22.75 39.890625 18.8125 39.015625 \nQ 14.890625 38.140625 10.796875 36.28125 \nz\n\" id=\"DejaVuSans-53\"/>\n     </defs>\n     <use xlink:href=\"#DejaVuSans-88\"/>\n     <use x=\"68.505859\" xlink:href=\"#DejaVuSans-91\"/>\n     <use x=\"107.519531\" xlink:href=\"#DejaVuSans-51\"/>\n     <use x=\"171.142578\" xlink:href=\"#DejaVuSans-93\"/>\n     <use x=\"210.15625\" xlink:href=\"#DejaVuSans-32\"/>\n     <use x=\"241.943359\" xlink:href=\"#DejaVuSans-60\"/>\n     <use x=\"325.732422\" xlink:href=\"#DejaVuSans-61\"/>\n     <use x=\"409.521484\" xlink:href=\"#DejaVuSans-32\"/>\n     <use x=\"441.308594\" xlink:href=\"#DejaVuSans-49\"/>\n     <use x=\"504.931641\" xlink:href=\"#DejaVuSans-46\"/>\n     <use x=\"536.71875\" xlink:href=\"#DejaVuSans-55\"/>\n     <use x=\"600.341797\" xlink:href=\"#DejaVuSans-53\"/>\n    </g>\n    <!-- gini = 0.496 -->\n    <g transform=\"translate(169.928282 112.403052)scale(0.123857 -0.123857)\">\n     <use xlink:href=\"#DejaVuSans-103\"/>\n     <use x=\"63.476562\" xlink:href=\"#DejaVuSans-105\"/>\n     <use x=\"91.259766\" xlink:href=\"#DejaVuSans-110\"/>\n     <use x=\"154.638672\" xlink:href=\"#DejaVuSans-105\"/>\n     <use x=\"182.421875\" xlink:href=\"#DejaVuSans-32\"/>\n     <use x=\"214.208984\" xlink:href=\"#DejaVuSans-61\"/>\n     <use x=\"297.998047\" xlink:href=\"#DejaVuSans-32\"/>\n     <use x=\"329.785156\" xlink:href=\"#DejaVuSans-48\"/>\n     <use x=\"393.408203\" xlink:href=\"#DejaVuSans-46\"/>\n     <use x=\"425.195312\" xlink:href=\"#DejaVuSans-52\"/>\n     <use x=\"488.818359\" xlink:href=\"#DejaVuSans-57\"/>\n     <use x=\"552.441406\" xlink:href=\"#DejaVuSans-54\"/>\n    </g>\n    <!-- samples = 81 -->\n    <g transform=\"translate(165.332039 126.272287)scale(0.123857 -0.123857)\">\n     <use xlink:href=\"#DejaVuSans-115\"/>\n     <use x=\"52.099609\" xlink:href=\"#DejaVuSans-97\"/>\n     <use x=\"113.378906\" xlink:href=\"#DejaVuSans-109\"/>\n     <use x=\"210.791016\" xlink:href=\"#DejaVuSans-112\"/>\n     <use x=\"274.267578\" xlink:href=\"#DejaVuSans-108\"/>\n     <use x=\"302.050781\" xlink:href=\"#DejaVuSans-101\"/>\n     <use x=\"363.574219\" xlink:href=\"#DejaVuSans-115\"/>\n     <use x=\"415.673828\" xlink:href=\"#DejaVuSans-32\"/>\n     <use x=\"447.460938\" xlink:href=\"#DejaVuSans-61\"/>\n     <use x=\"531.25\" xlink:href=\"#DejaVuSans-32\"/>\n     <use x=\"563.037109\" xlink:href=\"#DejaVuSans-56\"/>\n     <use x=\"626.660156\" xlink:href=\"#DejaVuSans-49\"/>\n    </g>\n    <!-- value = [0, 37, 44] -->\n    <g transform=\"translate(149.632242 140.141522)scale(0.123857 -0.123857)\">\n     <use xlink:href=\"#DejaVuSans-118\"/>\n     <use x=\"59.179688\" xlink:href=\"#DejaVuSans-97\"/>\n     <use x=\"120.458984\" xlink:href=\"#DejaVuSans-108\"/>\n     <use x=\"148.242188\" xlink:href=\"#DejaVuSans-117\"/>\n     <use x=\"211.621094\" xlink:href=\"#DejaVuSans-101\"/>\n     <use x=\"273.144531\" xlink:href=\"#DejaVuSans-32\"/>\n     <use x=\"304.931641\" xlink:href=\"#DejaVuSans-61\"/>\n     <use x=\"388.720703\" xlink:href=\"#DejaVuSans-32\"/>\n     <use x=\"420.507812\" xlink:href=\"#DejaVuSans-91\"/>\n     <use x=\"459.521484\" xlink:href=\"#DejaVuSans-48\"/>\n     <use x=\"523.144531\" xlink:href=\"#DejaVuSans-44\"/>\n     <use x=\"554.931641\" xlink:href=\"#DejaVuSans-32\"/>\n     <use x=\"586.71875\" xlink:href=\"#DejaVuSans-51\"/>\n     <use x=\"650.341797\" xlink:href=\"#DejaVuSans-55\"/>\n     <use x=\"713.964844\" xlink:href=\"#DejaVuSans-44\"/>\n     <use x=\"745.751953\" xlink:href=\"#DejaVuSans-32\"/>\n     <use x=\"777.539062\" xlink:href=\"#DejaVuSans-52\"/>\n     <use x=\"841.162109\" xlink:href=\"#DejaVuSans-52\"/>\n     <use x=\"904.785156\" xlink:href=\"#DejaVuSans-93\"/>\n    </g>\n   </g>\n   <g id=\"patch_10\">\n    <path d=\"M 141.12 43.44 \nQ 141.12 43.44 141.12 43.44 \n\" style=\"fill:none;stroke:#000000;stroke-linecap:round;\"/>\n   </g>\n   <g id=\"text_5\">\n    <g id=\"patch_11\">\n     <path d=\"M 73.777786 75.191619 \nL 208.462214 75.191619 \nL 208.462214 11.688381 \nL 73.777786 11.688381 \nz\n\" style=\"fill:#ffffff;stroke:#000000;stroke-linejoin:miter;\"/>\n    </g>\n    <!-- X[3] &lt;= 0.8 -->\n    <g transform=\"translate(103.941718 26.053817)scale(0.123857 -0.123857)\">\n     <use xlink:href=\"#DejaVuSans-88\"/>\n     <use x=\"68.505859\" xlink:href=\"#DejaVuSans-91\"/>\n     <use x=\"107.519531\" xlink:href=\"#DejaVuSans-51\"/>\n     <use x=\"171.142578\" xlink:href=\"#DejaVuSans-93\"/>\n     <use x=\"210.15625\" xlink:href=\"#DejaVuSans-32\"/>\n     <use x=\"241.943359\" xlink:href=\"#DejaVuSans-60\"/>\n     <use x=\"325.732422\" xlink:href=\"#DejaVuSans-61\"/>\n     <use x=\"409.521484\" xlink:href=\"#DejaVuSans-32\"/>\n     <use x=\"441.308594\" xlink:href=\"#DejaVuSans-48\"/>\n     <use x=\"504.931641\" xlink:href=\"#DejaVuSans-46\"/>\n     <use x=\"536.71875\" xlink:href=\"#DejaVuSans-56\"/>\n    </g>\n    <!-- gini = 0.665 -->\n    <g transform=\"translate(102.968282 39.923052)scale(0.123857 -0.123857)\">\n     <use xlink:href=\"#DejaVuSans-103\"/>\n     <use x=\"63.476562\" xlink:href=\"#DejaVuSans-105\"/>\n     <use x=\"91.259766\" xlink:href=\"#DejaVuSans-110\"/>\n     <use x=\"154.638672\" xlink:href=\"#DejaVuSans-105\"/>\n     <use x=\"182.421875\" xlink:href=\"#DejaVuSans-32\"/>\n     <use x=\"214.208984\" xlink:href=\"#DejaVuSans-61\"/>\n     <use x=\"297.998047\" xlink:href=\"#DejaVuSans-32\"/>\n     <use x=\"329.785156\" xlink:href=\"#DejaVuSans-48\"/>\n     <use x=\"393.408203\" xlink:href=\"#DejaVuSans-46\"/>\n     <use x=\"425.195312\" xlink:href=\"#DejaVuSans-54\"/>\n     <use x=\"488.818359\" xlink:href=\"#DejaVuSans-54\"/>\n     <use x=\"552.441406\" xlink:href=\"#DejaVuSans-53\"/>\n    </g>\n    <!-- samples = 120 -->\n    <g transform=\"translate(94.43185 53.792287)scale(0.123857 -0.123857)\">\n     <defs>\n      <path d=\"M 19.1875 8.296875 \nL 53.609375 8.296875 \nL 53.609375 0 \nL 7.328125 0 \nL 7.328125 8.296875 \nQ 12.9375 14.109375 22.625 23.890625 \nQ 32.328125 33.6875 34.8125 36.53125 \nQ 39.546875 41.84375 41.421875 45.53125 \nQ 43.3125 49.21875 43.3125 52.78125 \nQ 43.3125 58.59375 39.234375 62.25 \nQ 35.15625 65.921875 28.609375 65.921875 \nQ 23.96875 65.921875 18.8125 64.3125 \nQ 13.671875 62.703125 7.8125 59.421875 \nL 7.8125 69.390625 \nQ 13.765625 71.78125 18.9375 73 \nQ 24.125 74.21875 28.421875 74.21875 \nQ 39.75 74.21875 46.484375 68.546875 \nQ 53.21875 62.890625 53.21875 53.421875 \nQ 53.21875 48.921875 51.53125 44.890625 \nQ 49.859375 40.875 45.40625 35.40625 \nQ 44.1875 33.984375 37.640625 27.21875 \nQ 31.109375 20.453125 19.1875 8.296875 \nz\n\" id=\"DejaVuSans-50\"/>\n     </defs>\n     <use xlink:href=\"#DejaVuSans-115\"/>\n     <use x=\"52.099609\" xlink:href=\"#DejaVuSans-97\"/>\n     <use x=\"113.378906\" xlink:href=\"#DejaVuSans-109\"/>\n     <use x=\"210.791016\" xlink:href=\"#DejaVuSans-112\"/>\n     <use x=\"274.267578\" xlink:href=\"#DejaVuSans-108\"/>\n     <use x=\"302.050781\" xlink:href=\"#DejaVuSans-101\"/>\n     <use x=\"363.574219\" xlink:href=\"#DejaVuSans-115\"/>\n     <use x=\"415.673828\" xlink:href=\"#DejaVuSans-32\"/>\n     <use x=\"447.460938\" xlink:href=\"#DejaVuSans-61\"/>\n     <use x=\"531.25\" xlink:href=\"#DejaVuSans-32\"/>\n     <use x=\"563.037109\" xlink:href=\"#DejaVuSans-49\"/>\n     <use x=\"626.660156\" xlink:href=\"#DejaVuSans-50\"/>\n     <use x=\"690.283203\" xlink:href=\"#DejaVuSans-48\"/>\n    </g>\n    <!-- value = [39, 37, 44] -->\n    <g transform=\"translate(78.732052 67.661522)scale(0.123857 -0.123857)\">\n     <use xlink:href=\"#DejaVuSans-118\"/>\n     <use x=\"59.179688\" xlink:href=\"#DejaVuSans-97\"/>\n     <use x=\"120.458984\" xlink:href=\"#DejaVuSans-108\"/>\n     <use x=\"148.242188\" xlink:href=\"#DejaVuSans-117\"/>\n     <use x=\"211.621094\" xlink:href=\"#DejaVuSans-101\"/>\n     <use x=\"273.144531\" xlink:href=\"#DejaVuSans-32\"/>\n     <use x=\"304.931641\" xlink:href=\"#DejaVuSans-61\"/>\n     <use x=\"388.720703\" xlink:href=\"#DejaVuSans-32\"/>\n     <use x=\"420.507812\" xlink:href=\"#DejaVuSans-91\"/>\n     <use x=\"459.521484\" xlink:href=\"#DejaVuSans-51\"/>\n     <use x=\"523.144531\" xlink:href=\"#DejaVuSans-57\"/>\n     <use x=\"586.767578\" xlink:href=\"#DejaVuSans-44\"/>\n     <use x=\"618.554688\" xlink:href=\"#DejaVuSans-32\"/>\n     <use x=\"650.341797\" xlink:href=\"#DejaVuSans-51\"/>\n     <use x=\"713.964844\" xlink:href=\"#DejaVuSans-55\"/>\n     <use x=\"777.587891\" xlink:href=\"#DejaVuSans-44\"/>\n     <use x=\"809.375\" xlink:href=\"#DejaVuSans-32\"/>\n     <use x=\"841.162109\" xlink:href=\"#DejaVuSans-52\"/>\n     <use x=\"904.785156\" xlink:href=\"#DejaVuSans-52\"/>\n     <use x=\"968.408203\" xlink:href=\"#DejaVuSans-93\"/>\n    </g>\n   </g>\n  </g>\n </g>\n</svg>\n",
      "text/plain": [
       "<Figure size 432x288 with 1 Axes>"
      ]
     },
     "metadata": {
      "needs_background": "light"
     },
     "output_type": "display_data"
    }
   ],
   "source": [
    "dtc = DecisionTreeClassifier(max_depth=2, criterion='gini', random_state=1)\n",
    "\n",
    "dtc.fit(X_train, y_train)\n",
    "\n",
    "plt.figure()\n",
    "tree.plot_tree(dtc)\n",
    "plt.show()"
   ]
  },
  {
   "cell_type": "markdown",
   "metadata": {},
   "source": [
    "Of course, the plot is much nicer than our crude print method of our Decision Tree implementation. However, you should see the same core values at each node: (feature + threshold, Gini score, and number of samples). Again, the plot might not 100% match your Decision Tree as there are at least 2 ways to split the root node. But for all alternatives the root node should have a Gini score of **0.655**.\n",
    "\n",
    "Predicting the labels of the test data:"
   ]
  },
  {
   "cell_type": "code",
   "execution_count": 17,
   "metadata": {},
   "outputs": [
    {
     "name": "stdout",
     "output_type": "stream",
     "text": [
      "The f1 score of your Decision Tree implementation on the IRIS dataset is 0.957\n"
     ]
    }
   ],
   "source": [
    "y_pred = dtc.predict(X_test)\n",
    "\n",
    "f1 = f1_score(y_test, y_pred, average='macro')\n",
    "\n",
    "print('The f1 score of your Decision Tree implementation on the IRIS dataset is {:.3f}'.format(f1))"
   ]
  },
  {
   "cell_type": "markdown",
   "metadata": {},
   "source": [
    "Again, this result should more or less match the one of your Decision Tree implementation, given the same parameter values for `max_depth` and `min_samples_split`."
   ]
  },
  {
   "cell_type": "markdown",
   "metadata": {},
   "source": [
    "---------------------------------------------------------\n",
    "\n",
    "## 2 Evaluation with K-Fold Cross Validation\n",
    "\n",
    "Basically all classification and regression models feature a set of hyperparameters that are not learned but affect the results. The evaluation of such models typically requires the repeated training and evaluation of the models with different values for those hyperparameters. Secondly, many different types of models can be applied for the same classification or regression task. Thus, most evaluation try to find (a) the best type of model and (b) the best set of hyperparameter values.\n",
    "\n",
    "In the lecture, we discussed one of the most common approaches: k-fold cross validation. In this part, your task is to implement k-fold cross validation, use it to evaluate a set of classifiers with different hyperparameter values, and compare and discuss the results."
   ]
  },
  {
   "cell_type": "markdown",
   "metadata": {},
   "source": [
    "#### Load Dataset from File\n",
    "\n",
    "We use a [Heart Disease dataset](https://www.kaggle.com/c/tech-weekend-data-science-hackathon/overview) for this task. Note that we only use a random sample of 10% of the whole dataset just avoid overly long runtimes. After all, k-fold cross validation requires to k runs for each choice of model and hyperparameter setting."
   ]
  },
  {
   "cell_type": "code",
   "execution_count": 4,
   "metadata": {},
   "outputs": [
    {
     "data": {
      "text/html": [
       "<div>\n",
       "<style scoped>\n",
       "    .dataframe tbody tr th:only-of-type {\n",
       "        vertical-align: middle;\n",
       "    }\n",
       "\n",
       "    .dataframe tbody tr th {\n",
       "        vertical-align: top;\n",
       "    }\n",
       "\n",
       "    .dataframe thead th {\n",
       "        text-align: right;\n",
       "    }\n",
       "</style>\n",
       "<table border=\"1\" class=\"dataframe\">\n",
       "  <thead>\n",
       "    <tr style=\"text-align: right;\">\n",
       "      <th></th>\n",
       "      <th>ID</th>\n",
       "      <th>age</th>\n",
       "      <th>sex</th>\n",
       "      <th>chest</th>\n",
       "      <th>resting_blood_pressure</th>\n",
       "      <th>serum_cholestoral</th>\n",
       "      <th>fasting_blood_sugar</th>\n",
       "      <th>resting_electrocardiographic_results</th>\n",
       "      <th>maximum_heart_rate_achieved</th>\n",
       "      <th>exercise_induced_angina</th>\n",
       "      <th>oldpeak</th>\n",
       "      <th>slope</th>\n",
       "      <th>number_of_major_vessels</th>\n",
       "      <th>thal</th>\n",
       "      <th>class</th>\n",
       "    </tr>\n",
       "  </thead>\n",
       "  <tbody>\n",
       "    <tr>\n",
       "      <th>3048</th>\n",
       "      <td>232357</td>\n",
       "      <td>57.294372</td>\n",
       "      <td>0</td>\n",
       "      <td>4.0</td>\n",
       "      <td>123.275300</td>\n",
       "      <td>261.044898</td>\n",
       "      <td>0</td>\n",
       "      <td>0</td>\n",
       "      <td>139.668164</td>\n",
       "      <td>0</td>\n",
       "      <td>3.506288</td>\n",
       "      <td>2</td>\n",
       "      <td>0</td>\n",
       "      <td>7</td>\n",
       "      <td>1</td>\n",
       "    </tr>\n",
       "    <tr>\n",
       "      <th>19563</th>\n",
       "      <td>81758</td>\n",
       "      <td>56.386738</td>\n",
       "      <td>0</td>\n",
       "      <td>4.0</td>\n",
       "      <td>139.014278</td>\n",
       "      <td>194.656534</td>\n",
       "      <td>0</td>\n",
       "      <td>2</td>\n",
       "      <td>119.645151</td>\n",
       "      <td>1</td>\n",
       "      <td>0.000000</td>\n",
       "      <td>2</td>\n",
       "      <td>2</td>\n",
       "      <td>7</td>\n",
       "      <td>1</td>\n",
       "    </tr>\n",
       "    <tr>\n",
       "      <th>58303</th>\n",
       "      <td>456561</td>\n",
       "      <td>42.346586</td>\n",
       "      <td>1</td>\n",
       "      <td>4.0</td>\n",
       "      <td>138.704557</td>\n",
       "      <td>214.488989</td>\n",
       "      <td>0</td>\n",
       "      <td>2</td>\n",
       "      <td>179.232328</td>\n",
       "      <td>0</td>\n",
       "      <td>0.305163</td>\n",
       "      <td>1</td>\n",
       "      <td>1</td>\n",
       "      <td>3</td>\n",
       "      <td>0</td>\n",
       "    </tr>\n",
       "    <tr>\n",
       "      <th>8870</th>\n",
       "      <td>389933</td>\n",
       "      <td>54.764206</td>\n",
       "      <td>1</td>\n",
       "      <td>4.0</td>\n",
       "      <td>128.729990</td>\n",
       "      <td>227.432627</td>\n",
       "      <td>1</td>\n",
       "      <td>2</td>\n",
       "      <td>99.487985</td>\n",
       "      <td>1</td>\n",
       "      <td>1.141893</td>\n",
       "      <td>2</td>\n",
       "      <td>1</td>\n",
       "      <td>7</td>\n",
       "      <td>1</td>\n",
       "    </tr>\n",
       "    <tr>\n",
       "      <th>40228</th>\n",
       "      <td>29811</td>\n",
       "      <td>60.037138</td>\n",
       "      <td>1</td>\n",
       "      <td>4.0</td>\n",
       "      <td>131.081960</td>\n",
       "      <td>269.109450</td>\n",
       "      <td>0</td>\n",
       "      <td>0</td>\n",
       "      <td>158.502502</td>\n",
       "      <td>1</td>\n",
       "      <td>1.755913</td>\n",
       "      <td>2</td>\n",
       "      <td>1</td>\n",
       "      <td>3</td>\n",
       "      <td>1</td>\n",
       "    </tr>\n",
       "  </tbody>\n",
       "</table>\n",
       "</div>"
      ],
      "text/plain": [
       "           ID        age  sex  chest  resting_blood_pressure  \\\n",
       "3048   232357  57.294372    0    4.0              123.275300   \n",
       "19563   81758  56.386738    0    4.0              139.014278   \n",
       "58303  456561  42.346586    1    4.0              138.704557   \n",
       "8870   389933  54.764206    1    4.0              128.729990   \n",
       "40228   29811  60.037138    1    4.0              131.081960   \n",
       "\n",
       "       serum_cholestoral  fasting_blood_sugar  \\\n",
       "3048          261.044898                    0   \n",
       "19563         194.656534                    0   \n",
       "58303         214.488989                    0   \n",
       "8870          227.432627                    1   \n",
       "40228         269.109450                    0   \n",
       "\n",
       "       resting_electrocardiographic_results  maximum_heart_rate_achieved  \\\n",
       "3048                                      0                   139.668164   \n",
       "19563                                     2                   119.645151   \n",
       "58303                                     2                   179.232328   \n",
       "8870                                      2                    99.487985   \n",
       "40228                                     0                   158.502502   \n",
       "\n",
       "       exercise_induced_angina   oldpeak  slope  number_of_major_vessels  \\\n",
       "3048                         0  3.506288      2                        0   \n",
       "19563                        1  0.000000      2                        2   \n",
       "58303                        0  0.305163      1                        1   \n",
       "8870                         1  1.141893      2                        1   \n",
       "40228                        1  1.755913      2                        1   \n",
       "\n",
       "       thal  class  \n",
       "3048      7      1  \n",
       "19563     7      1  \n",
       "58303     3      0  \n",
       "8870      7      1  \n",
       "40228     3      1  "
      ]
     },
     "execution_count": 4,
     "metadata": {},
     "output_type": "execute_result"
    }
   ],
   "source": [
    "df = pd.read_csv('data/heart-disease-sample10p.csv')\n",
    "\n",
    "## Sample dataset to reduce size\n",
    "#sample_size = 0.01  # Just for Task 2.4 (see below)\n",
    "#sample_size = 0.1  # Use 1%-10% for testing and debugging your code\n",
    "sample_size = 1.0  # Use whole dataset to answer follow-up questions\n",
    "df = df.sample(frac=sample_size, random_state=0)\n",
    "\n",
    "df.head()"
   ]
  },
  {
   "cell_type": "markdown",
   "metadata": {},
   "source": [
    "For your convenience, we split the dataframe into two, one containing the input features, the other containing the class labels. We also removed \"ID\" from the set of input features as such artificial attributes make very poor features in almost 100% of cases."
   ]
  },
  {
   "cell_type": "code",
   "execution_count": 5,
   "metadata": {},
   "outputs": [
    {
     "name": "stdout",
     "output_type": "stream",
     "text": [
      "The dataset contains 60000 samples with 13 features, and there a 2 class labels\n"
     ]
    }
   ],
   "source": [
    "df_X = df.iloc[:,1:-1]\n",
    "df_y = df.iloc[:,-1]\n",
    "\n",
    "num_samples, num_features = df_X.shape\n",
    "num_labels = df_y.nunique()\n",
    "\n",
    "print('The dataset contains {} samples with {} features, and there a {} class labels'\n",
    "      .format(num_samples, num_features, num_labels)\n",
    "     )"
   ]
  },
  {
   "cell_type": "markdown",
   "metadata": {},
   "source": [
    "### 2.1 Data Preprocessing\n",
    "\n",
    "As usual, the first step is data preprocessing (informed by an EDA). Here, we can keep it simple and there's not much to do as this dataset does not contain any \"dirty\" records, particularly:\n",
    "* There are no NA values in any of the columns/features\n",
    "* There are no duplicate rows (even after removing \"ID\")\n",
    "\n",
    "As such, there should be no need to remove any samples.\n",
    "\n",
    "**Perform and data preprocessing/transformation steps you deem appropriate!** As it might affect your decision, the data will be used to train K-Nearest Neighbors (KNN) and tree-based models (recall: the tree-based classifiers of sklearn do not support categorical features!). Note that some preprocessing steps might be easier to perform on the pandas dataframe while others on the numpy arrays. This is why we provide 2 code cell, but it's up to which which one to use. We also imported `sklearn.preprocessing` for you to use."
   ]
  },
  {
   "cell_type": "code",
   "execution_count": 6,
   "metadata": {},
   "outputs": [],
   "source": [
    "#########################################################################################\n",
    "### Your code starts here ###############################################################\n",
    "\n",
    "# Convert Age to Integers\n",
    "df_X['age']=df_X['age'].astype(int)\n",
    "\n",
    "# Convert to object \n",
    "df_X['sex']=df_X['sex'].astype(object)\n",
    "df_X['fasting_blood_sugar']=df_X['fasting_blood_sugar'].astype(object)\n",
    "df_X['resting_electrocardiographic_results']=df_X['resting_electrocardiographic_results'].astype(object)\n",
    "df_X['exercise_induced_angina']=df_X['exercise_induced_angina'].astype(object)\n",
    "df_X['slope']=df_X['slope'].astype(object)\n",
    "df_X['number_of_major_vessels']=df_X['number_of_major_vessels'].astype(object)\n",
    "df_X['thal']=df_X['thal'].astype(object)\n",
    "\n",
    "\n",
    "num_col = df_X.select_dtypes(include=np.number).columns\n",
    "\n",
    "cat_col = df_X.select_dtypes(exclude=np.number).columns\n",
    "\n",
    "#One hot encoding - Categorical data\n",
    "cat_X = df_X.select_dtypes(exclude=np.number)\n",
    "\n",
    "#dummy_X = pd.get_dummies(cat_X,drop_first=True)\n",
    "dummy_X = pd.get_dummies(cat_X)\n",
    "\n",
    "#Concat data\n",
    "df_X = pd.concat([df_X.drop(list(cat_col), axis = 1),dummy_X],axis=1)\n",
    "\n",
    "#Get numerical columns index\n",
    "num_col_index = df_X.columns.get_indexer(num_col)\n",
    "### Your code ends here #################################################################\n",
    "#########################################################################################"
   ]
  },
  {
   "cell_type": "code",
   "execution_count": 7,
   "metadata": {},
   "outputs": [
    {
     "name": "stdout",
     "output_type": "stream",
     "text": [
      "Number of features: 25\n",
      "Number of samples for training: 48000\n",
      "Number of samples for testing: 12000\n"
     ]
    }
   ],
   "source": [
    "# Convert dataframes to numpy arrays\n",
    "X, y = df_X.to_numpy(), df_y.to_numpy()\n",
    "\n",
    "# Split dataset in training and test data (20% test data)\n",
    "X_train, X_test, y_train, y_test = train_test_split(X, y, test_size=0.2, random_state=0)\n",
    "\n",
    "print('Number of features: {}'.format(X_train.shape[1]))\n",
    "print('Number of samples for training: {}'.format(X_train.shape[0]))\n",
    "print('Number of samples for testing: {}'.format(X_test.shape[0]))"
   ]
  },
  {
   "cell_type": "code",
   "execution_count": 8,
   "metadata": {},
   "outputs": [],
   "source": [
    "#########################################################################################\n",
    "### Your code starts here ###############################################################\n",
    "\n",
    "#num_X_train = X_train.select_dtypes(include=np.number)\n",
    "#num_X_test = X_test.select_dtypes(include=np.number)\n",
    "\n",
    "\n",
    "# Scale num data\n",
    "# MinMaxScaler : rescale num variables into the range [0,1]\n",
    "scaler = preprocessing.MinMaxScaler().fit(X_train[:, num_col_index]) \n",
    "\n",
    "X_train_transformed = scaler.transform(X_train[:, num_col_index])\n",
    "X_test_transformed = scaler.transform(X_test[:, num_col_index])\n",
    "\n",
    "X_train[:, num_col_index] = X_train_transformed\n",
    "X_test[:, num_col_index] = X_test_transformed\n",
    "\n",
    "### Your code ends here #################################################################\n",
    "#########################################################################################"
   ]
  },
  {
   "cell_type": "markdown",
   "metadata": {},
   "source": [
    "### 2.2 K-Fold Cross-Validation \"By Hand\" (5 Points)\n",
    "\n",
    "The code below shows the basic loop for an evaluation using k-fold cross-validation. The only bits missing are the steps to (a) create the k folds and (b) to construct the training set of (k-1) folds and the validation set of 1 fold. For this task, use the `DecisionTreeClassifier` as it is the fastest to evaluate. The code below already contains commented lines for tasks 2.3 and 2.4.\n",
    "\n",
    "**Implement k-fold cross-validation by completing the code below!** For testing and debugging, feel free to use a sample size of only 10% of the data reduce `num_folds` (e.g., 5) and `param_choices` (e.g., `[1, 2, 3]`) in the beginning. (Hint: Have a look at [`np.split`](https://numpy.org/doc/stable/reference/generated/numpy.split.html))"
   ]
  },
  {
   "cell_type": "code",
   "execution_count": 9,
   "metadata": {},
   "outputs": [
    {
     "name": "stdout",
     "output_type": "stream",
     "text": [
      "param = 1, f1 (training) = 0.734, f1 (validation) = 0.734\n",
      "param = 2, f1 (training) = 0.680, f1 (validation) = 0.680\n",
      "param = 3, f1 (training) = 0.819, f1 (validation) = 0.819\n",
      "param = 5, f1 (training) = 0.850, f1 (validation) = 0.847\n",
      "param = 8, f1 (training) = 0.884, f1 (validation) = 0.868\n",
      "param = 10, f1 (training) = 0.909, f1 (validation) = 0.862\n",
      "param = 12, f1 (training) = 0.940, f1 (validation) = 0.850\n",
      "param = 15, f1 (training) = 0.978, f1 (validation) = 0.834\n",
      "param = 20, f1 (training) = 0.998, f1 (validation) = 0.826\n",
      "param = 25, f1 (training) = 1.000, f1 (validation) = 0.825\n",
      "param = 50, f1 (training) = 1.000, f1 (validation) = 0.825\n",
      "CPU times: user 18.6 s, sys: 219 ms, total: 18.8 s\n",
      "Wall time: 18.8 s\n"
     ]
    }
   ],
   "source": [
    "%%time\n",
    "\n",
    "# num_folds = 10 # For testing debugging\n",
    "num_folds = 10\n",
    "\n",
    "# param_choices = [1, 3, 5] # For testing debugging\n",
    "param_choices = [1, 2, 3, 5, 8, 10, 12, 15, 20, 25, 50]\n",
    "\n",
    "\n",
    "\n",
    "X_train_folds = []\n",
    "y_train_folds = []\n",
    "\n",
    "#########################################################################################\n",
    "### Your code starts here ###############################################################\n",
    "X_fold_size = int(len(X_train) / num_folds)\n",
    "\n",
    "indexes = np.array(range(len(X_train)))\n",
    "np.random.shuffle(indexes) #shuffle indexes randomly\n",
    "ind_splits = np.split(indexes, num_folds)\n",
    "\n",
    "for i in range(num_folds):\n",
    "    X_train_folds.append(X_train[ind_splits[i]])\n",
    "    y_train_folds.append(y_train[ind_splits[i]])\n",
    "\n",
    "\n",
    "### Your code ends here #################################################################\n",
    "#########################################################################################\n",
    "\n",
    "\n",
    "param_to_scores = {}\n",
    "\n",
    "\n",
    "for param in param_choices:\n",
    "    \n",
    "    ## We want to keep track of the training score and validation score\n",
    "    f1_train, f1_valid = [], []\n",
    "    \n",
    "    for i in range(num_folds):\n",
    "        X_train_fold, X_valid_fold = None, None\n",
    "        y_train_fold, y_valid_fold = None, None\n",
    "\n",
    "        #########################################################################################\n",
    "        ### Your code starts here ###############################################################\n",
    "        \n",
    "        # ith fold as valid fold; others as train fold\n",
    "        \n",
    "        X_valid_fold = X_train_folds[i] # 1 fold\n",
    "        y_valid_fold = y_train_folds[i]\n",
    "        # combining k-1 folds\n",
    "       \n",
    "        X_train_fold = np.array([fold for ind,sublist in enumerate(X_train_folds) for fold in sublist if ind != i]) \n",
    "        y_train_fold = np.array([fold for ind,sublist in enumerate(y_train_folds) for fold in sublist if ind != i])\n",
    "        \n",
    "        ### Your code ends here #################################################################\n",
    "        #########################################################################################           \n",
    "\n",
    "        ## For task 2.3: Train all the classifiers one-by-one and discuss the results\n",
    "        classifier = DecisionTreeClassifier(max_depth=param).fit(X_train_fold, y_train_fold)\n",
    "        #classifier = RandomForestClassifier(max_depth=param).fit(X_train_fold, y_train_fold)\n",
    "        #classifier = GradientBoostingClassifier(max_depth=param).fit(X_train_fold, y_train_fold)\n",
    "        #classifier = KNeighborsClassifier(n_neighbors=param).fit(X_train_fold, y_train_fold)\n",
    "        \n",
    "        ## For task 2.4 Run your own implementation of a Decision Tree!\n",
    "        ## (Note: use use only 1% of the original dataset (sample_size=0.01)\n",
    "        #classifier = MyDecisionTree(max_depth=param).fit(X_train_fold, y_train_fold)\n",
    "        \n",
    "        ## Predict labels for for training validation set\n",
    "        y_pred_fold_train = classifier.predict(X_train_fold)\n",
    "        y_pred_fold_valid = classifier.predict(X_valid_fold)\n",
    "        \n",
    "    \n",
    "        ## Keep track of training and validation scores\n",
    "        f1_train.append(f1_score(y_train_fold, y_pred_fold_train))\n",
    "        f1_valid.append(f1_score(y_valid_fold, y_pred_fold_valid))\n",
    "        \n",
    "    ## Keep track of all num_folds f1 scores for current param (for plotting)\n",
    "    param_to_scores[param] = (f1_train, f1_valid)\n",
    "    \n",
    "    ## Print statement for some immediate feedback\n",
    "    print('param = {}, f1 (training) = {:.3f}, f1 (validation) = {:.3f}'.format(param, np.mean(f1_train), np.mean(f1_valid)))"
   ]
  },
  {
   "cell_type": "markdown",
   "metadata": {},
   "source": [
    "Using the `DecisionTreeClassifier` and the complete dataset (`sample_size=1.0`), the f1 score for the training data should reach 1.0. The best f1 score for the validation data should larger than 0.86 (again, this might slightly vary depending on how you have generated the folds and the training/validation data pairs, as well as on the preprocessing steps you have performed)."
   ]
  },
  {
   "cell_type": "markdown",
   "metadata": {},
   "source": [
    "#### Visualization of Results\n",
    "\n",
    "We provide you with 2 methods to visualize the results. `plot_validation_results()` shows all `num_folds` scores for each parameter setting together with the means and standard deviations of the validation scores."
   ]
  },
  {
   "cell_type": "code",
   "execution_count": 11,
   "metadata": {},
   "outputs": [
    {
     "data": {
      "image/png": "[encoded data removed]",
      "image/svg+xml": "<?xml version=\"1.0\" encoding=\"utf-8\" standalone=\"no\"?>\n<!DOCTYPE svg PUBLIC \"-//W3C//DTD SVG 1.1//EN\"\n  \"http://www.w3.org/Graphics/SVG/1.1/DTD/svg11.dtd\">\n<!-- Created with matplotlib (https://matplotlib.org/) -->\n<svg height=\"262.19625pt\" version=\"1.1\" viewBox=\"0 0 392.14375 262.19625\" width=\"392.14375pt\" xmlns=\"http://www.w3.org/2000/svg\" xmlns:xlink=\"http://www.w3.org/1999/xlink\">\n <metadata>\n  <rdf:RDF xmlns:cc=\"http://creativecommons.org/ns#\" xmlns:dc=\"http://purl.org/dc/elements/1.1/\" xmlns:rdf=\"http://www.w3.org/1999/02/22-rdf-syntax-ns#\">\n   <cc:Work>\n    <dc:type rdf:resource=\"http://purl.org/dc/dcmitype/StillImage\"/>\n    <dc:date>2021-03-25T23:07:30.636130</dc:date>\n    <dc:format>image/svg+xml</dc:format>\n    <dc:creator>\n     <cc:Agent>\n      <dc:title>Matplotlib v3.3.4, https://matplotlib.org/</dc:title>\n     </cc:Agent>\n    </dc:creator>\n   </cc:Work>\n  </rdf:RDF>\n </metadata>\n <defs>\n  <style type=\"text/css\">*{stroke-linecap:butt;stroke-linejoin:round;}</style>\n </defs>\n <g id=\"figure_1\">\n  <g id=\"patch_1\">\n   <path d=\"M 0 262.19625 \nL 392.14375 262.19625 \nL 392.14375 0 \nL 0 0 \nz\n\" style=\"fill:none;\"/>\n  </g>\n  <g id=\"axes_1\">\n   <g id=\"patch_2\">\n    <path d=\"M 50.14375 224.64 \nL 384.94375 224.64 \nL 384.94375 7.2 \nL 50.14375 7.2 \nz\n\" style=\"fill:#ffffff;\"/>\n   </g>\n   <g id=\"PathCollection_1\">\n    <defs>\n     <path d=\"M 0 3 \nC 0.795609 3 1.55874 2.683901 2.12132 2.12132 \nC 2.683901 1.55874 3 0.795609 3 0 \nC 3 -0.795609 2.683901 -1.55874 2.12132 -2.12132 \nC 1.55874 -2.683901 0.795609 -3 0 -3 \nC -0.795609 -3 -1.55874 -2.683901 -2.12132 -2.12132 \nC -2.683901 -1.55874 -3 -0.795609 -3 0 \nC -3 0.795609 -2.683901 1.55874 -2.12132 2.12132 \nC -1.55874 2.683901 -0.795609 3 0 3 \nz\n\" id=\"m1a7eb9b9b2\" style=\"stroke:#1f77b4;\"/>\n    </defs>\n    <g clip-path=\"url(#p017e0ded8b)\">\n     <use style=\"fill:#1f77b4;stroke:#1f77b4;\" x=\"65.361932\" xlink:href=\"#m1a7eb9b9b2\" y=\"152.333699\"/>\n     <use style=\"fill:#1f77b4;stroke:#1f77b4;\" x=\"65.361932\" xlink:href=\"#m1a7eb9b9b2\" y=\"137.940188\"/>\n     <use style=\"fill:#1f77b4;stroke:#1f77b4;\" x=\"65.361932\" xlink:href=\"#m1a7eb9b9b2\" y=\"154.77667\"/>\n     <use style=\"fill:#1f77b4;stroke:#1f77b4;\" x=\"65.361932\" xlink:href=\"#m1a7eb9b9b2\" y=\"151.960941\"/>\n     <use style=\"fill:#1f77b4;stroke:#1f77b4;\" x=\"65.361932\" xlink:href=\"#m1a7eb9b9b2\" y=\"147.670629\"/>\n     <use style=\"fill:#1f77b4;stroke:#1f77b4;\" x=\"65.361932\" xlink:href=\"#m1a7eb9b9b2\" y=\"163.98961\"/>\n     <use style=\"fill:#1f77b4;stroke:#1f77b4;\" x=\"65.361932\" xlink:href=\"#m1a7eb9b9b2\" y=\"146.690783\"/>\n     <use style=\"fill:#1f77b4;stroke:#1f77b4;\" x=\"65.361932\" xlink:href=\"#m1a7eb9b9b2\" y=\"140.594073\"/>\n     <use style=\"fill:#1f77b4;stroke:#1f77b4;\" x=\"65.361932\" xlink:href=\"#m1a7eb9b9b2\" y=\"152.898483\"/>\n     <use style=\"fill:#1f77b4;stroke:#1f77b4;\" x=\"65.361932\" xlink:href=\"#m1a7eb9b9b2\" y=\"139.395815\"/>\n    </g>\n   </g>\n   <g id=\"PathCollection_2\">\n    <defs>\n     <path d=\"M 0 3 \nC 0.795609 3 1.55874 2.683901 2.12132 2.12132 \nC 2.683901 1.55874 3 0.795609 3 0 \nC 3 -0.795609 2.683901 -1.55874 2.12132 -2.12132 \nC 1.55874 -2.683901 0.795609 -3 0 -3 \nC -0.795609 -3 -1.55874 -2.683901 -2.12132 -2.12132 \nC -2.683901 -1.55874 -3 -0.795609 -3 0 \nC -3 0.795609 -2.683901 1.55874 -2.12132 2.12132 \nC -1.55874 2.683901 -0.795609 3 0 3 \nz\n\" id=\"m2f074e97fa\" style=\"stroke:#ff7f0e;\"/>\n    </defs>\n    <g clip-path=\"url(#p017e0ded8b)\">\n     <use style=\"fill:#ff7f0e;stroke:#ff7f0e;\" x=\"71.573435\" xlink:href=\"#m2f074e97fa\" y=\"190.874943\"/>\n     <use style=\"fill:#ff7f0e;stroke:#ff7f0e;\" x=\"71.573435\" xlink:href=\"#m2f074e97fa\" y=\"190.397162\"/>\n     <use style=\"fill:#ff7f0e;stroke:#ff7f0e;\" x=\"71.573435\" xlink:href=\"#m2f074e97fa\" y=\"210.395425\"/>\n     <use style=\"fill:#ff7f0e;stroke:#ff7f0e;\" x=\"71.573435\" xlink:href=\"#m2f074e97fa\" y=\"197.334122\"/>\n     <use style=\"fill:#ff7f0e;stroke:#ff7f0e;\" x=\"71.573435\" xlink:href=\"#m2f074e97fa\" y=\"208.956125\"/>\n     <use style=\"fill:#ff7f0e;stroke:#ff7f0e;\" x=\"71.573435\" xlink:href=\"#m2f074e97fa\" y=\"214.756364\"/>\n     <use style=\"fill:#ff7f0e;stroke:#ff7f0e;\" x=\"71.573435\" xlink:href=\"#m2f074e97fa\" y=\"198.960594\"/>\n     <use style=\"fill:#ff7f0e;stroke:#ff7f0e;\" x=\"71.573435\" xlink:href=\"#m2f074e97fa\" y=\"193.663159\"/>\n     <use style=\"fill:#ff7f0e;stroke:#ff7f0e;\" x=\"71.573435\" xlink:href=\"#m2f074e97fa\" y=\"198.627024\"/>\n     <use style=\"fill:#ff7f0e;stroke:#ff7f0e;\" x=\"71.573435\" xlink:href=\"#m2f074e97fa\" y=\"197.45604\"/>\n    </g>\n   </g>\n   <g id=\"PathCollection_3\">\n    <defs>\n     <path d=\"M 0 3 \nC 0.795609 3 1.55874 2.683901 2.12132 2.12132 \nC 2.683901 1.55874 3 0.795609 3 0 \nC 3 -0.795609 2.683901 -1.55874 2.12132 -2.12132 \nC 1.55874 -2.683901 0.795609 -3 0 -3 \nC -0.795609 -3 -1.55874 -2.683901 -2.12132 -2.12132 \nC -2.683901 -1.55874 -3 -0.795609 -3 0 \nC -3 0.795609 -2.683901 1.55874 -2.12132 2.12132 \nC -1.55874 2.683901 -0.795609 3 0 3 \nz\n\" id=\"m0f51d0e491\" style=\"stroke:#2ca02c;\"/>\n    </defs>\n    <g clip-path=\"url(#p017e0ded8b)\">\n     <use style=\"fill:#2ca02c;stroke:#2ca02c;\" x=\"77.784937\" xlink:href=\"#m0f51d0e491\" y=\"65.18413\"/>\n     <use style=\"fill:#2ca02c;stroke:#2ca02c;\" x=\"77.784937\" xlink:href=\"#m0f51d0e491\" y=\"59.354834\"/>\n     <use style=\"fill:#2ca02c;stroke:#2ca02c;\" x=\"77.784937\" xlink:href=\"#m0f51d0e491\" y=\"67.661198\"/>\n     <use style=\"fill:#2ca02c;stroke:#2ca02c;\" x=\"77.784937\" xlink:href=\"#m0f51d0e491\" y=\"72.025064\"/>\n     <use style=\"fill:#2ca02c;stroke:#2ca02c;\" x=\"77.784937\" xlink:href=\"#m0f51d0e491\" y=\"75.577134\"/>\n     <use style=\"fill:#2ca02c;stroke:#2ca02c;\" x=\"77.784937\" xlink:href=\"#m0f51d0e491\" y=\"74.755225\"/>\n     <use style=\"fill:#2ca02c;stroke:#2ca02c;\" x=\"77.784937\" xlink:href=\"#m0f51d0e491\" y=\"67.28192\"/>\n     <use style=\"fill:#2ca02c;stroke:#2ca02c;\" x=\"77.784937\" xlink:href=\"#m0f51d0e491\" y=\"61.262052\"/>\n     <use style=\"fill:#2ca02c;stroke:#2ca02c;\" x=\"77.784937\" xlink:href=\"#m0f51d0e491\" y=\"75.808742\"/>\n     <use style=\"fill:#2ca02c;stroke:#2ca02c;\" x=\"77.784937\" xlink:href=\"#m0f51d0e491\" y=\"68.384548\"/>\n    </g>\n   </g>\n   <g id=\"PathCollection_4\">\n    <defs>\n     <path d=\"M 0 3 \nC 0.795609 3 1.55874 2.683901 2.12132 2.12132 \nC 2.683901 1.55874 3 0.795609 3 0 \nC 3 -0.795609 2.683901 -1.55874 2.12132 -2.12132 \nC 1.55874 -2.683901 0.795609 -3 0 -3 \nC -0.795609 -3 -1.55874 -2.683901 -2.12132 -2.12132 \nC -2.683901 -1.55874 -3 -0.795609 -3 0 \nC -3 0.795609 -2.683901 1.55874 -2.12132 2.12132 \nC -1.55874 2.683901 -0.795609 3 0 3 \nz\n\" id=\"m6e13a7a89d\" style=\"stroke:#d62728;\"/>\n    </defs>\n    <g clip-path=\"url(#p017e0ded8b)\">\n     <use style=\"fill:#d62728;stroke:#d62728;\" x=\"90.207943\" xlink:href=\"#m6e13a7a89d\" y=\"38.338705\"/>\n     <use style=\"fill:#d62728;stroke:#d62728;\" x=\"90.207943\" xlink:href=\"#m6e13a7a89d\" y=\"42.759327\"/>\n     <use style=\"fill:#d62728;stroke:#d62728;\" x=\"90.207943\" xlink:href=\"#m6e13a7a89d\" y=\"44.030783\"/>\n     <use style=\"fill:#d62728;stroke:#d62728;\" x=\"90.207943\" xlink:href=\"#m6e13a7a89d\" y=\"39.095418\"/>\n     <use style=\"fill:#d62728;stroke:#d62728;\" x=\"90.207943\" xlink:href=\"#m6e13a7a89d\" y=\"44.816727\"/>\n     <use style=\"fill:#d62728;stroke:#d62728;\" x=\"90.207943\" xlink:href=\"#m6e13a7a89d\" y=\"44.713713\"/>\n     <use style=\"fill:#d62728;stroke:#d62728;\" x=\"90.207943\" xlink:href=\"#m6e13a7a89d\" y=\"41.030215\"/>\n     <use style=\"fill:#d62728;stroke:#d62728;\" x=\"90.207943\" xlink:href=\"#m6e13a7a89d\" y=\"36.073189\"/>\n     <use style=\"fill:#d62728;stroke:#d62728;\" x=\"90.207943\" xlink:href=\"#m6e13a7a89d\" y=\"50.207469\"/>\n     <use style=\"fill:#d62728;stroke:#d62728;\" x=\"90.207943\" xlink:href=\"#m6e13a7a89d\" y=\"38.174558\"/>\n    </g>\n   </g>\n   <g id=\"PathCollection_5\">\n    <defs>\n     <path d=\"M 0 3 \nC 0.795609 3 1.55874 2.683901 2.12132 2.12132 \nC 2.683901 1.55874 3 0.795609 3 0 \nC 3 -0.795609 2.683901 -1.55874 2.12132 -2.12132 \nC 1.55874 -2.683901 0.795609 -3 0 -3 \nC -0.795609 -3 -1.55874 -2.683901 -2.12132 -2.12132 \nC -2.683901 -1.55874 -3 -0.795609 -3 0 \nC -3 0.795609 -2.683901 1.55874 -2.12132 2.12132 \nC -1.55874 2.683901 -0.795609 3 0 3 \nz\n\" id=\"m72aeb87446\" style=\"stroke:#9467bd;\"/>\n    </defs>\n    <g clip-path=\"url(#p017e0ded8b)\">\n     <use style=\"fill:#9467bd;stroke:#9467bd;\" x=\"108.842451\" xlink:href=\"#m72aeb87446\" y=\"21.163998\"/>\n     <use style=\"fill:#9467bd;stroke:#9467bd;\" x=\"108.842451\" xlink:href=\"#m72aeb87446\" y=\"22.60906\"/>\n     <use style=\"fill:#9467bd;stroke:#9467bd;\" x=\"108.842451\" xlink:href=\"#m72aeb87446\" y=\"26.345464\"/>\n     <use style=\"fill:#9467bd;stroke:#9467bd;\" x=\"108.842451\" xlink:href=\"#m72aeb87446\" y=\"25.991497\"/>\n     <use style=\"fill:#9467bd;stroke:#9467bd;\" x=\"108.842451\" xlink:href=\"#m72aeb87446\" y=\"26.658948\"/>\n     <use style=\"fill:#9467bd;stroke:#9467bd;\" x=\"108.842451\" xlink:href=\"#m72aeb87446\" y=\"21.562055\"/>\n     <use style=\"fill:#9467bd;stroke:#9467bd;\" x=\"108.842451\" xlink:href=\"#m72aeb87446\" y=\"17.372934\"/>\n     <use style=\"fill:#9467bd;stroke:#9467bd;\" x=\"108.842451\" xlink:href=\"#m72aeb87446\" y=\"17.083636\"/>\n     <use style=\"fill:#9467bd;stroke:#9467bd;\" x=\"108.842451\" xlink:href=\"#m72aeb87446\" y=\"24.285662\"/>\n     <use style=\"fill:#9467bd;stroke:#9467bd;\" x=\"108.842451\" xlink:href=\"#m72aeb87446\" y=\"21.265259\"/>\n    </g>\n   </g>\n   <g id=\"PathCollection_6\">\n    <defs>\n     <path d=\"M 0 3 \nC 0.795609 3 1.55874 2.683901 2.12132 2.12132 \nC 2.683901 1.55874 3 0.795609 3 0 \nC 3 -0.795609 2.683901 -1.55874 2.12132 -2.12132 \nC 1.55874 -2.683901 0.795609 -3 0 -3 \nC -0.795609 -3 -1.55874 -2.683901 -2.12132 -2.12132 \nC -2.683901 -1.55874 -3 -0.795609 -3 0 \nC -3 0.795609 -2.683901 1.55874 -2.12132 2.12132 \nC -1.55874 2.683901 -0.795609 3 0 3 \nz\n\" id=\"mcc6f13cdc8\" style=\"stroke:#8c564b;\"/>\n    </defs>\n    <g clip-path=\"url(#p017e0ded8b)\">\n     <use style=\"fill:#8c564b;stroke:#8c564b;\" x=\"121.265457\" xlink:href=\"#mcc6f13cdc8\" y=\"23.985938\"/>\n     <use style=\"fill:#8c564b;stroke:#8c564b;\" x=\"121.265457\" xlink:href=\"#mcc6f13cdc8\" y=\"24.689516\"/>\n     <use style=\"fill:#8c564b;stroke:#8c564b;\" x=\"121.265457\" xlink:href=\"#mcc6f13cdc8\" y=\"31.323394\"/>\n     <use style=\"fill:#8c564b;stroke:#8c564b;\" x=\"121.265457\" xlink:href=\"#mcc6f13cdc8\" y=\"30.194763\"/>\n     <use style=\"fill:#8c564b;stroke:#8c564b;\" x=\"121.265457\" xlink:href=\"#mcc6f13cdc8\" y=\"31.813974\"/>\n     <use style=\"fill:#8c564b;stroke:#8c564b;\" x=\"121.265457\" xlink:href=\"#mcc6f13cdc8\" y=\"32.544229\"/>\n     <use style=\"fill:#8c564b;stroke:#8c564b;\" x=\"121.265457\" xlink:href=\"#mcc6f13cdc8\" y=\"17.797484\"/>\n     <use style=\"fill:#8c564b;stroke:#8c564b;\" x=\"121.265457\" xlink:href=\"#mcc6f13cdc8\" y=\"24.720013\"/>\n     <use style=\"fill:#8c564b;stroke:#8c564b;\" x=\"121.265457\" xlink:href=\"#mcc6f13cdc8\" y=\"34.664123\"/>\n     <use style=\"fill:#8c564b;stroke:#8c564b;\" x=\"121.265457\" xlink:href=\"#mcc6f13cdc8\" y=\"28.0804\"/>\n    </g>\n   </g>\n   <g id=\"PathCollection_7\">\n    <defs>\n     <path d=\"M 0 3 \nC 0.795609 3 1.55874 2.683901 2.12132 2.12132 \nC 2.683901 1.55874 3 0.795609 3 0 \nC 3 -0.795609 2.683901 -1.55874 2.12132 -2.12132 \nC 1.55874 -2.683901 0.795609 -3 0 -3 \nC -0.795609 -3 -1.55874 -2.683901 -2.12132 -2.12132 \nC -2.683901 -1.55874 -3 -0.795609 -3 0 \nC -3 0.795609 -2.683901 1.55874 -2.12132 2.12132 \nC -1.55874 2.683901 -0.795609 3 0 3 \nz\n\" id=\"md4b1a4bc40\" style=\"stroke:#e377c2;\"/>\n    </defs>\n    <g clip-path=\"url(#p017e0ded8b)\">\n     <use style=\"fill:#e377c2;stroke:#e377c2;\" x=\"133.688462\" xlink:href=\"#md4b1a4bc40\" y=\"37.595098\"/>\n     <use style=\"fill:#e377c2;stroke:#e377c2;\" x=\"133.688462\" xlink:href=\"#md4b1a4bc40\" y=\"37.272065\"/>\n     <use style=\"fill:#e377c2;stroke:#e377c2;\" x=\"133.688462\" xlink:href=\"#md4b1a4bc40\" y=\"44.258209\"/>\n     <use style=\"fill:#e377c2;stroke:#e377c2;\" x=\"133.688462\" xlink:href=\"#md4b1a4bc40\" y=\"39.985871\"/>\n     <use style=\"fill:#e377c2;stroke:#e377c2;\" x=\"133.688462\" xlink:href=\"#md4b1a4bc40\" y=\"37.365579\"/>\n     <use style=\"fill:#e377c2;stroke:#e377c2;\" x=\"133.688462\" xlink:href=\"#md4b1a4bc40\" y=\"42.711551\"/>\n     <use style=\"fill:#e377c2;stroke:#e377c2;\" x=\"133.688462\" xlink:href=\"#md4b1a4bc40\" y=\"31.040754\"/>\n     <use style=\"fill:#e377c2;stroke:#e377c2;\" x=\"133.688462\" xlink:href=\"#md4b1a4bc40\" y=\"37.883174\"/>\n     <use style=\"fill:#e377c2;stroke:#e377c2;\" x=\"133.688462\" xlink:href=\"#md4b1a4bc40\" y=\"47.400526\"/>\n     <use style=\"fill:#e377c2;stroke:#e377c2;\" x=\"133.688462\" xlink:href=\"#md4b1a4bc40\" y=\"36.281011\"/>\n    </g>\n   </g>\n   <g id=\"PathCollection_8\">\n    <defs>\n     <path d=\"M 0 3 \nC 0.795609 3 1.55874 2.683901 2.12132 2.12132 \nC 2.683901 1.55874 3 0.795609 3 0 \nC 3 -0.795609 2.683901 -1.55874 2.12132 -2.12132 \nC 1.55874 -2.683901 0.795609 -3 0 -3 \nC -0.795609 -3 -1.55874 -2.683901 -2.12132 -2.12132 \nC -2.683901 -1.55874 -3 -0.795609 -3 0 \nC -3 0.795609 -2.683901 1.55874 -2.12132 2.12132 \nC -1.55874 2.683901 -0.795609 3 0 3 \nz\n\" id=\"mceade746f6\" style=\"stroke:#7f7f7f;\"/>\n    </defs>\n    <g clip-path=\"url(#p017e0ded8b)\">\n     <use style=\"fill:#7f7f7f;stroke:#7f7f7f;\" x=\"152.322971\" xlink:href=\"#mceade746f6\" y=\"57.921691\"/>\n     <use style=\"fill:#7f7f7f;stroke:#7f7f7f;\" x=\"152.322971\" xlink:href=\"#mceade746f6\" y=\"52.361793\"/>\n     <use style=\"fill:#7f7f7f;stroke:#7f7f7f;\" x=\"152.322971\" xlink:href=\"#mceade746f6\" y=\"60.481641\"/>\n     <use style=\"fill:#7f7f7f;stroke:#7f7f7f;\" x=\"152.322971\" xlink:href=\"#mceade746f6\" y=\"53.524225\"/>\n     <use style=\"fill:#7f7f7f;stroke:#7f7f7f;\" x=\"152.322971\" xlink:href=\"#mceade746f6\" y=\"51.749782\"/>\n     <use style=\"fill:#7f7f7f;stroke:#7f7f7f;\" x=\"152.322971\" xlink:href=\"#mceade746f6\" y=\"56.691506\"/>\n     <use style=\"fill:#7f7f7f;stroke:#7f7f7f;\" x=\"152.322971\" xlink:href=\"#mceade746f6\" y=\"44.478929\"/>\n     <use style=\"fill:#7f7f7f;stroke:#7f7f7f;\" x=\"152.322971\" xlink:href=\"#mceade746f6\" y=\"49.181899\"/>\n     <use style=\"fill:#7f7f7f;stroke:#7f7f7f;\" x=\"152.322971\" xlink:href=\"#mceade746f6\" y=\"64.395035\"/>\n     <use style=\"fill:#7f7f7f;stroke:#7f7f7f;\" x=\"152.322971\" xlink:href=\"#mceade746f6\" y=\"55.822142\"/>\n    </g>\n   </g>\n   <g id=\"PathCollection_9\">\n    <defs>\n     <path d=\"M 0 3 \nC 0.795609 3 1.55874 2.683901 2.12132 2.12132 \nC 2.683901 1.55874 3 0.795609 3 0 \nC 3 -0.795609 2.683901 -1.55874 2.12132 -2.12132 \nC 1.55874 -2.683901 0.795609 -3 0 -3 \nC -0.795609 -3 -1.55874 -2.683901 -2.12132 -2.12132 \nC -2.683901 -1.55874 -3 -0.795609 -3 0 \nC -3 0.795609 -2.683901 1.55874 -2.12132 2.12132 \nC -1.55874 2.683901 -0.795609 3 0 3 \nz\n\" id=\"md133981f2f\" style=\"stroke:#bcbd22;\"/>\n    </defs>\n    <g clip-path=\"url(#p017e0ded8b)\">\n     <use style=\"fill:#bcbd22;stroke:#bcbd22;\" x=\"183.380485\" xlink:href=\"#md133981f2f\" y=\"65.351345\"/>\n     <use style=\"fill:#bcbd22;stroke:#bcbd22;\" x=\"183.380485\" xlink:href=\"#md133981f2f\" y=\"62.050964\"/>\n     <use style=\"fill:#bcbd22;stroke:#bcbd22;\" x=\"183.380485\" xlink:href=\"#md133981f2f\" y=\"70.290054\"/>\n     <use style=\"fill:#bcbd22;stroke:#bcbd22;\" x=\"183.380485\" xlink:href=\"#md133981f2f\" y=\"56.844126\"/>\n     <use style=\"fill:#bcbd22;stroke:#bcbd22;\" x=\"183.380485\" xlink:href=\"#md133981f2f\" y=\"61.509831\"/>\n     <use style=\"fill:#bcbd22;stroke:#bcbd22;\" x=\"183.380485\" xlink:href=\"#md133981f2f\" y=\"63.676508\"/>\n     <use style=\"fill:#bcbd22;stroke:#bcbd22;\" x=\"183.380485\" xlink:href=\"#md133981f2f\" y=\"54.043206\"/>\n     <use style=\"fill:#bcbd22;stroke:#bcbd22;\" x=\"183.380485\" xlink:href=\"#md133981f2f\" y=\"62.404704\"/>\n     <use style=\"fill:#bcbd22;stroke:#bcbd22;\" x=\"183.380485\" xlink:href=\"#md133981f2f\" y=\"67.156055\"/>\n     <use style=\"fill:#bcbd22;stroke:#bcbd22;\" x=\"183.380485\" xlink:href=\"#md133981f2f\" y=\"56.661362\"/>\n    </g>\n   </g>\n   <g id=\"PathCollection_10\">\n    <defs>\n     <path d=\"M 0 3 \nC 0.795609 3 1.55874 2.683901 2.12132 2.12132 \nC 2.683901 1.55874 3 0.795609 3 0 \nC 3 -0.795609 2.683901 -1.55874 2.12132 -2.12132 \nC 1.55874 -2.683901 0.795609 -3 0 -3 \nC -0.795609 -3 -1.55874 -2.683901 -2.12132 -2.12132 \nC -2.683901 -1.55874 -3 -0.795609 -3 0 \nC -3 0.795609 -2.683901 1.55874 -2.12132 2.12132 \nC -1.55874 2.683901 -0.795609 3 0 3 \nz\n\" id=\"m987737a2a1\" style=\"stroke:#17becf;\"/>\n    </defs>\n    <g clip-path=\"url(#p017e0ded8b)\">\n     <use style=\"fill:#17becf;stroke:#17becf;\" x=\"214.437999\" xlink:href=\"#m987737a2a1\" y=\"66.325394\"/>\n     <use style=\"fill:#17becf;stroke:#17becf;\" x=\"214.437999\" xlink:href=\"#m987737a2a1\" y=\"58.624754\"/>\n     <use style=\"fill:#17becf;stroke:#17becf;\" x=\"214.437999\" xlink:href=\"#m987737a2a1\" y=\"69.15105\"/>\n     <use style=\"fill:#17becf;stroke:#17becf;\" x=\"214.437999\" xlink:href=\"#m987737a2a1\" y=\"61.057714\"/>\n     <use style=\"fill:#17becf;stroke:#17becf;\" x=\"214.437999\" xlink:href=\"#m987737a2a1\" y=\"63.453321\"/>\n     <use style=\"fill:#17becf;stroke:#17becf;\" x=\"214.437999\" xlink:href=\"#m987737a2a1\" y=\"65.086283\"/>\n     <use style=\"fill:#17becf;stroke:#17becf;\" x=\"214.437999\" xlink:href=\"#m987737a2a1\" y=\"52.286836\"/>\n     <use style=\"fill:#17becf;stroke:#17becf;\" x=\"214.437999\" xlink:href=\"#m987737a2a1\" y=\"61.070546\"/>\n     <use style=\"fill:#17becf;stroke:#17becf;\" x=\"214.437999\" xlink:href=\"#m987737a2a1\" y=\"68.543998\"/>\n     <use style=\"fill:#17becf;stroke:#17becf;\" x=\"214.437999\" xlink:href=\"#m987737a2a1\" y=\"61.011373\"/>\n    </g>\n   </g>\n   <g id=\"PathCollection_11\">\n    <g clip-path=\"url(#p017e0ded8b)\">\n     <use style=\"fill:#1f77b4;stroke:#1f77b4;\" x=\"369.725568\" xlink:href=\"#m1a7eb9b9b2\" y=\"66.278421\"/>\n     <use style=\"fill:#1f77b4;stroke:#1f77b4;\" x=\"369.725568\" xlink:href=\"#m1a7eb9b9b2\" y=\"58.359404\"/>\n     <use style=\"fill:#1f77b4;stroke:#1f77b4;\" x=\"369.725568\" xlink:href=\"#m1a7eb9b9b2\" y=\"70.836081\"/>\n     <use style=\"fill:#1f77b4;stroke:#1f77b4;\" x=\"369.725568\" xlink:href=\"#m1a7eb9b9b2\" y=\"61.116876\"/>\n     <use style=\"fill:#1f77b4;stroke:#1f77b4;\" x=\"369.725568\" xlink:href=\"#m1a7eb9b9b2\" y=\"61.718772\"/>\n     <use style=\"fill:#1f77b4;stroke:#1f77b4;\" x=\"369.725568\" xlink:href=\"#m1a7eb9b9b2\" y=\"67.904998\"/>\n     <use style=\"fill:#1f77b4;stroke:#1f77b4;\" x=\"369.725568\" xlink:href=\"#m1a7eb9b9b2\" y=\"53.147885\"/>\n     <use style=\"fill:#1f77b4;stroke:#1f77b4;\" x=\"369.725568\" xlink:href=\"#m1a7eb9b9b2\" y=\"64.806291\"/>\n     <use style=\"fill:#1f77b4;stroke:#1f77b4;\" x=\"369.725568\" xlink:href=\"#m1a7eb9b9b2\" y=\"68.078656\"/>\n     <use style=\"fill:#1f77b4;stroke:#1f77b4;\" x=\"369.725568\" xlink:href=\"#m1a7eb9b9b2\" y=\"61.298183\"/>\n    </g>\n   </g>\n   <g id=\"matplotlib.axis_1\">\n    <g id=\"xtick_1\">\n     <g id=\"line2d_1\">\n      <defs>\n       <path d=\"M 0 0 \nL 0 3.5 \n\" id=\"m18c09d3283\" style=\"stroke:#000000;stroke-width:0.8;\"/>\n      </defs>\n      <g>\n       <use style=\"stroke:#000000;stroke-width:0.8;\" x=\"59.150429\" xlink:href=\"#m18c09d3283\" y=\"224.64\"/>\n      </g>\n     </g>\n     <g id=\"text_1\">\n      <!-- 0 -->\n      <g transform=\"translate(55.969179 239.238438)scale(0.1 -0.1)\">\n       <defs>\n        <path d=\"M 31.78125 66.40625 \nQ 24.171875 66.40625 20.328125 58.90625 \nQ 16.5 51.421875 16.5 36.375 \nQ 16.5 21.390625 20.328125 13.890625 \nQ 24.171875 6.390625 31.78125 6.390625 \nQ 39.453125 6.390625 43.28125 13.890625 \nQ 47.125 21.390625 47.125 36.375 \nQ 47.125 51.421875 43.28125 58.90625 \nQ 39.453125 66.40625 31.78125 66.40625 \nz\nM 31.78125 74.21875 \nQ 44.046875 74.21875 50.515625 64.515625 \nQ 56.984375 54.828125 56.984375 36.375 \nQ 56.984375 17.96875 50.515625 8.265625 \nQ 44.046875 -1.421875 31.78125 -1.421875 \nQ 19.53125 -1.421875 13.0625 8.265625 \nQ 6.59375 17.96875 6.59375 36.375 \nQ 6.59375 54.828125 13.0625 64.515625 \nQ 19.53125 74.21875 31.78125 74.21875 \nz\n\" id=\"DejaVuSans-48\"/>\n       </defs>\n       <use xlink:href=\"#DejaVuSans-48\"/>\n      </g>\n     </g>\n    </g>\n    <g id=\"xtick_2\">\n     <g id=\"line2d_2\">\n      <g>\n       <use style=\"stroke:#000000;stroke-width:0.8;\" x=\"121.265457\" xlink:href=\"#m18c09d3283\" y=\"224.64\"/>\n      </g>\n     </g>\n     <g id=\"text_2\">\n      <!-- 10 -->\n      <g transform=\"translate(114.902957 239.238438)scale(0.1 -0.1)\">\n       <defs>\n        <path d=\"M 12.40625 8.296875 \nL 28.515625 8.296875 \nL 28.515625 63.921875 \nL 10.984375 60.40625 \nL 10.984375 69.390625 \nL 28.421875 72.90625 \nL 38.28125 72.90625 \nL 38.28125 8.296875 \nL 54.390625 8.296875 \nL 54.390625 0 \nL 12.40625 0 \nz\n\" id=\"DejaVuSans-49\"/>\n       </defs>\n       <use xlink:href=\"#DejaVuSans-49\"/>\n       <use x=\"63.623047\" xlink:href=\"#DejaVuSans-48\"/>\n      </g>\n     </g>\n    </g>\n    <g id=\"xtick_3\">\n     <g id=\"line2d_3\">\n      <g>\n       <use style=\"stroke:#000000;stroke-width:0.8;\" x=\"183.380485\" xlink:href=\"#m18c09d3283\" y=\"224.64\"/>\n      </g>\n     </g>\n     <g id=\"text_3\">\n      <!-- 20 -->\n      <g transform=\"translate(177.017985 239.238438)scale(0.1 -0.1)\">\n       <defs>\n        <path d=\"M 19.1875 8.296875 \nL 53.609375 8.296875 \nL 53.609375 0 \nL 7.328125 0 \nL 7.328125 8.296875 \nQ 12.9375 14.109375 22.625 23.890625 \nQ 32.328125 33.6875 34.8125 36.53125 \nQ 39.546875 41.84375 41.421875 45.53125 \nQ 43.3125 49.21875 43.3125 52.78125 \nQ 43.3125 58.59375 39.234375 62.25 \nQ 35.15625 65.921875 28.609375 65.921875 \nQ 23.96875 65.921875 18.8125 64.3125 \nQ 13.671875 62.703125 7.8125 59.421875 \nL 7.8125 69.390625 \nQ 13.765625 71.78125 18.9375 73 \nQ 24.125 74.21875 28.421875 74.21875 \nQ 39.75 74.21875 46.484375 68.546875 \nQ 53.21875 62.890625 53.21875 53.421875 \nQ 53.21875 48.921875 51.53125 44.890625 \nQ 49.859375 40.875 45.40625 35.40625 \nQ 44.1875 33.984375 37.640625 27.21875 \nQ 31.109375 20.453125 19.1875 8.296875 \nz\n\" id=\"DejaVuSans-50\"/>\n       </defs>\n       <use xlink:href=\"#DejaVuSans-50\"/>\n       <use x=\"63.623047\" xlink:href=\"#DejaVuSans-48\"/>\n      </g>\n     </g>\n    </g>\n    <g id=\"xtick_4\">\n     <g id=\"line2d_4\">\n      <g>\n       <use style=\"stroke:#000000;stroke-width:0.8;\" x=\"245.495513\" xlink:href=\"#m18c09d3283\" y=\"224.64\"/>\n      </g>\n     </g>\n     <g id=\"text_4\">\n      <!-- 30 -->\n      <g transform=\"translate(239.133013 239.238438)scale(0.1 -0.1)\">\n       <defs>\n        <path d=\"M 40.578125 39.3125 \nQ 47.65625 37.796875 51.625 33 \nQ 55.609375 28.21875 55.609375 21.1875 \nQ 55.609375 10.40625 48.1875 4.484375 \nQ 40.765625 -1.421875 27.09375 -1.421875 \nQ 22.515625 -1.421875 17.65625 -0.515625 \nQ 12.796875 0.390625 7.625 2.203125 \nL 7.625 11.71875 \nQ 11.71875 9.328125 16.59375 8.109375 \nQ 21.484375 6.890625 26.8125 6.890625 \nQ 36.078125 6.890625 40.9375 10.546875 \nQ 45.796875 14.203125 45.796875 21.1875 \nQ 45.796875 27.640625 41.28125 31.265625 \nQ 36.765625 34.90625 28.71875 34.90625 \nL 20.21875 34.90625 \nL 20.21875 43.015625 \nL 29.109375 43.015625 \nQ 36.375 43.015625 40.234375 45.921875 \nQ 44.09375 48.828125 44.09375 54.296875 \nQ 44.09375 59.90625 40.109375 62.90625 \nQ 36.140625 65.921875 28.71875 65.921875 \nQ 24.65625 65.921875 20.015625 65.03125 \nQ 15.375 64.15625 9.8125 62.3125 \nL 9.8125 71.09375 \nQ 15.4375 72.65625 20.34375 73.4375 \nQ 25.25 74.21875 29.59375 74.21875 \nQ 40.828125 74.21875 47.359375 69.109375 \nQ 53.90625 64.015625 53.90625 55.328125 \nQ 53.90625 49.265625 50.4375 45.09375 \nQ 46.96875 40.921875 40.578125 39.3125 \nz\n\" id=\"DejaVuSans-51\"/>\n       </defs>\n       <use xlink:href=\"#DejaVuSans-51\"/>\n       <use x=\"63.623047\" xlink:href=\"#DejaVuSans-48\"/>\n      </g>\n     </g>\n    </g>\n    <g id=\"xtick_5\">\n     <g id=\"line2d_5\">\n      <g>\n       <use style=\"stroke:#000000;stroke-width:0.8;\" x=\"307.61054\" xlink:href=\"#m18c09d3283\" y=\"224.64\"/>\n      </g>\n     </g>\n     <g id=\"text_5\">\n      <!-- 40 -->\n      <g transform=\"translate(301.24804 239.238438)scale(0.1 -0.1)\">\n       <defs>\n        <path d=\"M 37.796875 64.3125 \nL 12.890625 25.390625 \nL 37.796875 25.390625 \nz\nM 35.203125 72.90625 \nL 47.609375 72.90625 \nL 47.609375 25.390625 \nL 58.015625 25.390625 \nL 58.015625 17.1875 \nL 47.609375 17.1875 \nL 47.609375 0 \nL 37.796875 0 \nL 37.796875 17.1875 \nL 4.890625 17.1875 \nL 4.890625 26.703125 \nz\n\" id=\"DejaVuSans-52\"/>\n       </defs>\n       <use xlink:href=\"#DejaVuSans-52\"/>\n       <use x=\"63.623047\" xlink:href=\"#DejaVuSans-48\"/>\n      </g>\n     </g>\n    </g>\n    <g id=\"xtick_6\">\n     <g id=\"line2d_6\">\n      <g>\n       <use style=\"stroke:#000000;stroke-width:0.8;\" x=\"369.725568\" xlink:href=\"#m18c09d3283\" y=\"224.64\"/>\n      </g>\n     </g>\n     <g id=\"text_6\">\n      <!-- 50 -->\n      <g transform=\"translate(363.363068 239.238438)scale(0.1 -0.1)\">\n       <defs>\n        <path d=\"M 10.796875 72.90625 \nL 49.515625 72.90625 \nL 49.515625 64.59375 \nL 19.828125 64.59375 \nL 19.828125 46.734375 \nQ 21.96875 47.46875 24.109375 47.828125 \nQ 26.265625 48.1875 28.421875 48.1875 \nQ 40.625 48.1875 47.75 41.5 \nQ 54.890625 34.8125 54.890625 23.390625 \nQ 54.890625 11.625 47.5625 5.09375 \nQ 40.234375 -1.421875 26.90625 -1.421875 \nQ 22.3125 -1.421875 17.546875 -0.640625 \nQ 12.796875 0.140625 7.71875 1.703125 \nL 7.71875 11.625 \nQ 12.109375 9.234375 16.796875 8.0625 \nQ 21.484375 6.890625 26.703125 6.890625 \nQ 35.15625 6.890625 40.078125 11.328125 \nQ 45.015625 15.765625 45.015625 23.390625 \nQ 45.015625 31 40.078125 35.4375 \nQ 35.15625 39.890625 26.703125 39.890625 \nQ 22.75 39.890625 18.8125 39.015625 \nQ 14.890625 38.140625 10.796875 36.28125 \nz\n\" id=\"DejaVuSans-53\"/>\n       </defs>\n       <use xlink:href=\"#DejaVuSans-53\"/>\n       <use x=\"63.623047\" xlink:href=\"#DejaVuSans-48\"/>\n      </g>\n     </g>\n    </g>\n    <g id=\"text_7\">\n     <!-- param -->\n     <g transform=\"translate(201.315625 252.916563)scale(0.1 -0.1)\">\n      <defs>\n       <path d=\"M 18.109375 8.203125 \nL 18.109375 -20.796875 \nL 9.078125 -20.796875 \nL 9.078125 54.6875 \nL 18.109375 54.6875 \nL 18.109375 46.390625 \nQ 20.953125 51.265625 25.265625 53.625 \nQ 29.59375 56 35.59375 56 \nQ 45.5625 56 51.78125 48.09375 \nQ 58.015625 40.1875 58.015625 27.296875 \nQ 58.015625 14.40625 51.78125 6.484375 \nQ 45.5625 -1.421875 35.59375 -1.421875 \nQ 29.59375 -1.421875 25.265625 0.953125 \nQ 20.953125 3.328125 18.109375 8.203125 \nz\nM 48.6875 27.296875 \nQ 48.6875 37.203125 44.609375 42.84375 \nQ 40.53125 48.484375 33.40625 48.484375 \nQ 26.265625 48.484375 22.1875 42.84375 \nQ 18.109375 37.203125 18.109375 27.296875 \nQ 18.109375 17.390625 22.1875 11.75 \nQ 26.265625 6.109375 33.40625 6.109375 \nQ 40.53125 6.109375 44.609375 11.75 \nQ 48.6875 17.390625 48.6875 27.296875 \nz\n\" id=\"DejaVuSans-112\"/>\n       <path d=\"M 34.28125 27.484375 \nQ 23.390625 27.484375 19.1875 25 \nQ 14.984375 22.515625 14.984375 16.5 \nQ 14.984375 11.71875 18.140625 8.90625 \nQ 21.296875 6.109375 26.703125 6.109375 \nQ 34.1875 6.109375 38.703125 11.40625 \nQ 43.21875 16.703125 43.21875 25.484375 \nL 43.21875 27.484375 \nz\nM 52.203125 31.203125 \nL 52.203125 0 \nL 43.21875 0 \nL 43.21875 8.296875 \nQ 40.140625 3.328125 35.546875 0.953125 \nQ 30.953125 -1.421875 24.3125 -1.421875 \nQ 15.921875 -1.421875 10.953125 3.296875 \nQ 6 8.015625 6 15.921875 \nQ 6 25.140625 12.171875 29.828125 \nQ 18.359375 34.515625 30.609375 34.515625 \nL 43.21875 34.515625 \nL 43.21875 35.40625 \nQ 43.21875 41.609375 39.140625 45 \nQ 35.0625 48.390625 27.6875 48.390625 \nQ 23 48.390625 18.546875 47.265625 \nQ 14.109375 46.140625 10.015625 43.890625 \nL 10.015625 52.203125 \nQ 14.9375 54.109375 19.578125 55.046875 \nQ 24.21875 56 28.609375 56 \nQ 40.484375 56 46.34375 49.84375 \nQ 52.203125 43.703125 52.203125 31.203125 \nz\n\" id=\"DejaVuSans-97\"/>\n       <path d=\"M 41.109375 46.296875 \nQ 39.59375 47.171875 37.8125 47.578125 \nQ 36.03125 48 33.890625 48 \nQ 26.265625 48 22.1875 43.046875 \nQ 18.109375 38.09375 18.109375 28.8125 \nL 18.109375 0 \nL 9.078125 0 \nL 9.078125 54.6875 \nL 18.109375 54.6875 \nL 18.109375 46.1875 \nQ 20.953125 51.171875 25.484375 53.578125 \nQ 30.03125 56 36.53125 56 \nQ 37.453125 56 38.578125 55.875 \nQ 39.703125 55.765625 41.0625 55.515625 \nz\n\" id=\"DejaVuSans-114\"/>\n       <path d=\"M 52 44.1875 \nQ 55.375 50.25 60.0625 53.125 \nQ 64.75 56 71.09375 56 \nQ 79.640625 56 84.28125 50.015625 \nQ 88.921875 44.046875 88.921875 33.015625 \nL 88.921875 0 \nL 79.890625 0 \nL 79.890625 32.71875 \nQ 79.890625 40.578125 77.09375 44.375 \nQ 74.3125 48.1875 68.609375 48.1875 \nQ 61.625 48.1875 57.5625 43.546875 \nQ 53.515625 38.921875 53.515625 30.90625 \nL 53.515625 0 \nL 44.484375 0 \nL 44.484375 32.71875 \nQ 44.484375 40.625 41.703125 44.40625 \nQ 38.921875 48.1875 33.109375 48.1875 \nQ 26.21875 48.1875 22.15625 43.53125 \nQ 18.109375 38.875 18.109375 30.90625 \nL 18.109375 0 \nL 9.078125 0 \nL 9.078125 54.6875 \nL 18.109375 54.6875 \nL 18.109375 46.1875 \nQ 21.1875 51.21875 25.484375 53.609375 \nQ 29.78125 56 35.6875 56 \nQ 41.65625 56 45.828125 52.96875 \nQ 50 49.953125 52 44.1875 \nz\n\" id=\"DejaVuSans-109\"/>\n      </defs>\n      <use xlink:href=\"#DejaVuSans-112\"/>\n      <use x=\"63.476562\" xlink:href=\"#DejaVuSans-97\"/>\n      <use x=\"124.755859\" xlink:href=\"#DejaVuSans-114\"/>\n      <use x=\"165.869141\" xlink:href=\"#DejaVuSans-97\"/>\n      <use x=\"227.148438\" xlink:href=\"#DejaVuSans-109\"/>\n     </g>\n    </g>\n   </g>\n   <g id=\"matplotlib.axis_2\">\n    <g id=\"ytick_1\">\n     <g id=\"line2d_7\">\n      <defs>\n       <path d=\"M 0 0 \nL -3.5 0 \n\" id=\"m29056baee3\" style=\"stroke:#000000;stroke-width:0.8;\"/>\n      </defs>\n      <g>\n       <use style=\"stroke:#000000;stroke-width:0.8;\" x=\"50.14375\" xlink:href=\"#m29056baee3\" y=\"181.078134\"/>\n      </g>\n     </g>\n     <g id=\"text_8\">\n      <!-- 0.70 -->\n      <g transform=\"translate(20.878125 184.877352)scale(0.1 -0.1)\">\n       <defs>\n        <path d=\"M 10.6875 12.40625 \nL 21 12.40625 \nL 21 0 \nL 10.6875 0 \nz\n\" id=\"DejaVuSans-46\"/>\n        <path d=\"M 8.203125 72.90625 \nL 55.078125 72.90625 \nL 55.078125 68.703125 \nL 28.609375 0 \nL 18.3125 0 \nL 43.21875 64.59375 \nL 8.203125 64.59375 \nz\n\" id=\"DejaVuSans-55\"/>\n       </defs>\n       <use xlink:href=\"#DejaVuSans-48\"/>\n       <use x=\"63.623047\" xlink:href=\"#DejaVuSans-46\"/>\n       <use x=\"95.410156\" xlink:href=\"#DejaVuSans-55\"/>\n       <use x=\"159.033203\" xlink:href=\"#DejaVuSans-48\"/>\n      </g>\n     </g>\n    </g>\n    <g id=\"ytick_2\">\n     <g id=\"line2d_8\">\n      <g>\n       <use style=\"stroke:#000000;stroke-width:0.8;\" x=\"50.14375\" xlink:href=\"#m29056baee3\" y=\"133.817346\"/>\n      </g>\n     </g>\n     <g id=\"text_9\">\n      <!-- 0.75 -->\n      <g transform=\"translate(20.878125 137.616565)scale(0.1 -0.1)\">\n       <use xlink:href=\"#DejaVuSans-48\"/>\n       <use x=\"63.623047\" xlink:href=\"#DejaVuSans-46\"/>\n       <use x=\"95.410156\" xlink:href=\"#DejaVuSans-55\"/>\n       <use x=\"159.033203\" xlink:href=\"#DejaVuSans-53\"/>\n      </g>\n     </g>\n    </g>\n    <g id=\"ytick_3\">\n     <g id=\"line2d_9\">\n      <g>\n       <use style=\"stroke:#000000;stroke-width:0.8;\" x=\"50.14375\" xlink:href=\"#m29056baee3\" y=\"86.556558\"/>\n      </g>\n     </g>\n     <g id=\"text_10\">\n      <!-- 0.80 -->\n      <g transform=\"translate(20.878125 90.355777)scale(0.1 -0.1)\">\n       <defs>\n        <path d=\"M 31.78125 34.625 \nQ 24.75 34.625 20.71875 30.859375 \nQ 16.703125 27.09375 16.703125 20.515625 \nQ 16.703125 13.921875 20.71875 10.15625 \nQ 24.75 6.390625 31.78125 6.390625 \nQ 38.8125 6.390625 42.859375 10.171875 \nQ 46.921875 13.96875 46.921875 20.515625 \nQ 46.921875 27.09375 42.890625 30.859375 \nQ 38.875 34.625 31.78125 34.625 \nz\nM 21.921875 38.8125 \nQ 15.578125 40.375 12.03125 44.71875 \nQ 8.5 49.078125 8.5 55.328125 \nQ 8.5 64.0625 14.71875 69.140625 \nQ 20.953125 74.21875 31.78125 74.21875 \nQ 42.671875 74.21875 48.875 69.140625 \nQ 55.078125 64.0625 55.078125 55.328125 \nQ 55.078125 49.078125 51.53125 44.71875 \nQ 48 40.375 41.703125 38.8125 \nQ 48.828125 37.15625 52.796875 32.3125 \nQ 56.78125 27.484375 56.78125 20.515625 \nQ 56.78125 9.90625 50.3125 4.234375 \nQ 43.84375 -1.421875 31.78125 -1.421875 \nQ 19.734375 -1.421875 13.25 4.234375 \nQ 6.78125 9.90625 6.78125 20.515625 \nQ 6.78125 27.484375 10.78125 32.3125 \nQ 14.796875 37.15625 21.921875 38.8125 \nz\nM 18.3125 54.390625 \nQ 18.3125 48.734375 21.84375 45.5625 \nQ 25.390625 42.390625 31.78125 42.390625 \nQ 38.140625 42.390625 41.71875 45.5625 \nQ 45.3125 48.734375 45.3125 54.390625 \nQ 45.3125 60.0625 41.71875 63.234375 \nQ 38.140625 66.40625 31.78125 66.40625 \nQ 25.390625 66.40625 21.84375 63.234375 \nQ 18.3125 60.0625 18.3125 54.390625 \nz\n\" id=\"DejaVuSans-56\"/>\n       </defs>\n       <use xlink:href=\"#DejaVuSans-48\"/>\n       <use x=\"63.623047\" xlink:href=\"#DejaVuSans-46\"/>\n       <use x=\"95.410156\" xlink:href=\"#DejaVuSans-56\"/>\n       <use x=\"159.033203\" xlink:href=\"#DejaVuSans-48\"/>\n      </g>\n     </g>\n    </g>\n    <g id=\"ytick_4\">\n     <g id=\"line2d_10\">\n      <g>\n       <use style=\"stroke:#000000;stroke-width:0.8;\" x=\"50.14375\" xlink:href=\"#m29056baee3\" y=\"39.29577\"/>\n      </g>\n     </g>\n     <g id=\"text_11\">\n      <!-- 0.85 -->\n      <g transform=\"translate(20.878125 43.094989)scale(0.1 -0.1)\">\n       <use xlink:href=\"#DejaVuSans-48\"/>\n       <use x=\"63.623047\" xlink:href=\"#DejaVuSans-46\"/>\n       <use x=\"95.410156\" xlink:href=\"#DejaVuSans-56\"/>\n       <use x=\"159.033203\" xlink:href=\"#DejaVuSans-53\"/>\n      </g>\n     </g>\n    </g>\n    <g id=\"text_12\">\n     <!-- Cross-Validation F1 Score -->\n     <g transform=\"translate(14.798438 179.061406)rotate(-90)scale(0.1 -0.1)\">\n      <defs>\n       <path d=\"M 64.40625 67.28125 \nL 64.40625 56.890625 \nQ 59.421875 61.53125 53.78125 63.8125 \nQ 48.140625 66.109375 41.796875 66.109375 \nQ 29.296875 66.109375 22.65625 58.46875 \nQ 16.015625 50.828125 16.015625 36.375 \nQ 16.015625 21.96875 22.65625 14.328125 \nQ 29.296875 6.6875 41.796875 6.6875 \nQ 48.140625 6.6875 53.78125 8.984375 \nQ 59.421875 11.28125 64.40625 15.921875 \nL 64.40625 5.609375 \nQ 59.234375 2.09375 53.4375 0.328125 \nQ 47.65625 -1.421875 41.21875 -1.421875 \nQ 24.65625 -1.421875 15.125 8.703125 \nQ 5.609375 18.84375 5.609375 36.375 \nQ 5.609375 53.953125 15.125 64.078125 \nQ 24.65625 74.21875 41.21875 74.21875 \nQ 47.75 74.21875 53.53125 72.484375 \nQ 59.328125 70.75 64.40625 67.28125 \nz\n\" id=\"DejaVuSans-67\"/>\n       <path d=\"M 30.609375 48.390625 \nQ 23.390625 48.390625 19.1875 42.75 \nQ 14.984375 37.109375 14.984375 27.296875 \nQ 14.984375 17.484375 19.15625 11.84375 \nQ 23.34375 6.203125 30.609375 6.203125 \nQ 37.796875 6.203125 41.984375 11.859375 \nQ 46.1875 17.53125 46.1875 27.296875 \nQ 46.1875 37.015625 41.984375 42.703125 \nQ 37.796875 48.390625 30.609375 48.390625 \nz\nM 30.609375 56 \nQ 42.328125 56 49.015625 48.375 \nQ 55.71875 40.765625 55.71875 27.296875 \nQ 55.71875 13.875 49.015625 6.21875 \nQ 42.328125 -1.421875 30.609375 -1.421875 \nQ 18.84375 -1.421875 12.171875 6.21875 \nQ 5.515625 13.875 5.515625 27.296875 \nQ 5.515625 40.765625 12.171875 48.375 \nQ 18.84375 56 30.609375 56 \nz\n\" id=\"DejaVuSans-111\"/>\n       <path d=\"M 44.28125 53.078125 \nL 44.28125 44.578125 \nQ 40.484375 46.53125 36.375 47.5 \nQ 32.28125 48.484375 27.875 48.484375 \nQ 21.1875 48.484375 17.84375 46.4375 \nQ 14.5 44.390625 14.5 40.28125 \nQ 14.5 37.15625 16.890625 35.375 \nQ 19.28125 33.59375 26.515625 31.984375 \nL 29.59375 31.296875 \nQ 39.15625 29.25 43.1875 25.515625 \nQ 47.21875 21.78125 47.21875 15.09375 \nQ 47.21875 7.46875 41.1875 3.015625 \nQ 35.15625 -1.421875 24.609375 -1.421875 \nQ 20.21875 -1.421875 15.453125 -0.5625 \nQ 10.6875 0.296875 5.421875 2 \nL 5.421875 11.28125 \nQ 10.40625 8.6875 15.234375 7.390625 \nQ 20.0625 6.109375 24.8125 6.109375 \nQ 31.15625 6.109375 34.5625 8.28125 \nQ 37.984375 10.453125 37.984375 14.40625 \nQ 37.984375 18.0625 35.515625 20.015625 \nQ 33.0625 21.96875 24.703125 23.78125 \nL 21.578125 24.515625 \nQ 13.234375 26.265625 9.515625 29.90625 \nQ 5.8125 33.546875 5.8125 39.890625 \nQ 5.8125 47.609375 11.28125 51.796875 \nQ 16.75 56 26.8125 56 \nQ 31.78125 56 36.171875 55.265625 \nQ 40.578125 54.546875 44.28125 53.078125 \nz\n\" id=\"DejaVuSans-115\"/>\n       <path d=\"M 4.890625 31.390625 \nL 31.203125 31.390625 \nL 31.203125 23.390625 \nL 4.890625 23.390625 \nz\n\" id=\"DejaVuSans-45\"/>\n       <path d=\"M 28.609375 0 \nL 0.78125 72.90625 \nL 11.078125 72.90625 \nL 34.1875 11.53125 \nL 57.328125 72.90625 \nL 67.578125 72.90625 \nL 39.796875 0 \nz\n\" id=\"DejaVuSans-86\"/>\n       <path d=\"M 9.421875 75.984375 \nL 18.40625 75.984375 \nL 18.40625 0 \nL 9.421875 0 \nz\n\" id=\"DejaVuSans-108\"/>\n       <path d=\"M 9.421875 54.6875 \nL 18.40625 54.6875 \nL 18.40625 0 \nL 9.421875 0 \nz\nM 9.421875 75.984375 \nL 18.40625 75.984375 \nL 18.40625 64.59375 \nL 9.421875 64.59375 \nz\n\" id=\"DejaVuSans-105\"/>\n       <path d=\"M 45.40625 46.390625 \nL 45.40625 75.984375 \nL 54.390625 75.984375 \nL 54.390625 0 \nL 45.40625 0 \nL 45.40625 8.203125 \nQ 42.578125 3.328125 38.25 0.953125 \nQ 33.9375 -1.421875 27.875 -1.421875 \nQ 17.96875 -1.421875 11.734375 6.484375 \nQ 5.515625 14.40625 5.515625 27.296875 \nQ 5.515625 40.1875 11.734375 48.09375 \nQ 17.96875 56 27.875 56 \nQ 33.9375 56 38.25 53.625 \nQ 42.578125 51.265625 45.40625 46.390625 \nz\nM 14.796875 27.296875 \nQ 14.796875 17.390625 18.875 11.75 \nQ 22.953125 6.109375 30.078125 6.109375 \nQ 37.203125 6.109375 41.296875 11.75 \nQ 45.40625 17.390625 45.40625 27.296875 \nQ 45.40625 37.203125 41.296875 42.84375 \nQ 37.203125 48.484375 30.078125 48.484375 \nQ 22.953125 48.484375 18.875 42.84375 \nQ 14.796875 37.203125 14.796875 27.296875 \nz\n\" id=\"DejaVuSans-100\"/>\n       <path d=\"M 18.3125 70.21875 \nL 18.3125 54.6875 \nL 36.8125 54.6875 \nL 36.8125 47.703125 \nL 18.3125 47.703125 \nL 18.3125 18.015625 \nQ 18.3125 11.328125 20.140625 9.421875 \nQ 21.96875 7.515625 27.59375 7.515625 \nL 36.8125 7.515625 \nL 36.8125 0 \nL 27.59375 0 \nQ 17.1875 0 13.234375 3.875 \nQ 9.28125 7.765625 9.28125 18.015625 \nL 9.28125 47.703125 \nL 2.6875 47.703125 \nL 2.6875 54.6875 \nL 9.28125 54.6875 \nL 9.28125 70.21875 \nz\n\" id=\"DejaVuSans-116\"/>\n       <path d=\"M 54.890625 33.015625 \nL 54.890625 0 \nL 45.90625 0 \nL 45.90625 32.71875 \nQ 45.90625 40.484375 42.875 44.328125 \nQ 39.84375 48.1875 33.796875 48.1875 \nQ 26.515625 48.1875 22.3125 43.546875 \nQ 18.109375 38.921875 18.109375 30.90625 \nL 18.109375 0 \nL 9.078125 0 \nL 9.078125 54.6875 \nL 18.109375 54.6875 \nL 18.109375 46.1875 \nQ 21.34375 51.125 25.703125 53.5625 \nQ 30.078125 56 35.796875 56 \nQ 45.21875 56 50.046875 50.171875 \nQ 54.890625 44.34375 54.890625 33.015625 \nz\n\" id=\"DejaVuSans-110\"/>\n       <path id=\"DejaVuSans-32\"/>\n       <path d=\"M 9.8125 72.90625 \nL 51.703125 72.90625 \nL 51.703125 64.59375 \nL 19.671875 64.59375 \nL 19.671875 43.109375 \nL 48.578125 43.109375 \nL 48.578125 34.8125 \nL 19.671875 34.8125 \nL 19.671875 0 \nL 9.8125 0 \nz\n\" id=\"DejaVuSans-70\"/>\n       <path d=\"M 53.515625 70.515625 \nL 53.515625 60.890625 \nQ 47.90625 63.578125 42.921875 64.890625 \nQ 37.9375 66.21875 33.296875 66.21875 \nQ 25.25 66.21875 20.875 63.09375 \nQ 16.5 59.96875 16.5 54.203125 \nQ 16.5 49.359375 19.40625 46.890625 \nQ 22.3125 44.4375 30.421875 42.921875 \nL 36.375 41.703125 \nQ 47.40625 39.59375 52.65625 34.296875 \nQ 57.90625 29 57.90625 20.125 \nQ 57.90625 9.515625 50.796875 4.046875 \nQ 43.703125 -1.421875 29.984375 -1.421875 \nQ 24.8125 -1.421875 18.96875 -0.25 \nQ 13.140625 0.921875 6.890625 3.21875 \nL 6.890625 13.375 \nQ 12.890625 10.015625 18.65625 8.296875 \nQ 24.421875 6.59375 29.984375 6.59375 \nQ 38.421875 6.59375 43.015625 9.90625 \nQ 47.609375 13.234375 47.609375 19.390625 \nQ 47.609375 24.75 44.3125 27.78125 \nQ 41.015625 30.8125 33.5 32.328125 \nL 27.484375 33.5 \nQ 16.453125 35.6875 11.515625 40.375 \nQ 6.59375 45.0625 6.59375 53.421875 \nQ 6.59375 63.09375 13.40625 68.65625 \nQ 20.21875 74.21875 32.171875 74.21875 \nQ 37.3125 74.21875 42.625 73.28125 \nQ 47.953125 72.359375 53.515625 70.515625 \nz\n\" id=\"DejaVuSans-83\"/>\n       <path d=\"M 48.78125 52.59375 \nL 48.78125 44.1875 \nQ 44.96875 46.296875 41.140625 47.34375 \nQ 37.3125 48.390625 33.40625 48.390625 \nQ 24.65625 48.390625 19.8125 42.84375 \nQ 14.984375 37.3125 14.984375 27.296875 \nQ 14.984375 17.28125 19.8125 11.734375 \nQ 24.65625 6.203125 33.40625 6.203125 \nQ 37.3125 6.203125 41.140625 7.25 \nQ 44.96875 8.296875 48.78125 10.40625 \nL 48.78125 2.09375 \nQ 45.015625 0.34375 40.984375 -0.53125 \nQ 36.96875 -1.421875 32.421875 -1.421875 \nQ 20.0625 -1.421875 12.78125 6.34375 \nQ 5.515625 14.109375 5.515625 27.296875 \nQ 5.515625 40.671875 12.859375 48.328125 \nQ 20.21875 56 33.015625 56 \nQ 37.15625 56 41.109375 55.140625 \nQ 45.0625 54.296875 48.78125 52.59375 \nz\n\" id=\"DejaVuSans-99\"/>\n       <path d=\"M 56.203125 29.59375 \nL 56.203125 25.203125 \nL 14.890625 25.203125 \nQ 15.484375 15.921875 20.484375 11.0625 \nQ 25.484375 6.203125 34.421875 6.203125 \nQ 39.59375 6.203125 44.453125 7.46875 \nQ 49.3125 8.734375 54.109375 11.28125 \nL 54.109375 2.78125 \nQ 49.265625 0.734375 44.1875 -0.34375 \nQ 39.109375 -1.421875 33.890625 -1.421875 \nQ 20.796875 -1.421875 13.15625 6.1875 \nQ 5.515625 13.8125 5.515625 26.8125 \nQ 5.515625 40.234375 12.765625 48.109375 \nQ 20.015625 56 32.328125 56 \nQ 43.359375 56 49.78125 48.890625 \nQ 56.203125 41.796875 56.203125 29.59375 \nz\nM 47.21875 32.234375 \nQ 47.125 39.59375 43.09375 43.984375 \nQ 39.0625 48.390625 32.421875 48.390625 \nQ 24.90625 48.390625 20.390625 44.140625 \nQ 15.875 39.890625 15.1875 32.171875 \nz\n\" id=\"DejaVuSans-101\"/>\n      </defs>\n      <use xlink:href=\"#DejaVuSans-67\"/>\n      <use x=\"69.824219\" xlink:href=\"#DejaVuSans-114\"/>\n      <use x=\"108.6875\" xlink:href=\"#DejaVuSans-111\"/>\n      <use x=\"169.869141\" xlink:href=\"#DejaVuSans-115\"/>\n      <use x=\"221.96875\" xlink:href=\"#DejaVuSans-115\"/>\n      <use x=\"274.068359\" xlink:href=\"#DejaVuSans-45\"/>\n      <use x=\"304.277344\" xlink:href=\"#DejaVuSans-86\"/>\n      <use x=\"364.935547\" xlink:href=\"#DejaVuSans-97\"/>\n      <use x=\"426.214844\" xlink:href=\"#DejaVuSans-108\"/>\n      <use x=\"453.998047\" xlink:href=\"#DejaVuSans-105\"/>\n      <use x=\"481.78125\" xlink:href=\"#DejaVuSans-100\"/>\n      <use x=\"545.257812\" xlink:href=\"#DejaVuSans-97\"/>\n      <use x=\"606.537109\" xlink:href=\"#DejaVuSans-116\"/>\n      <use x=\"645.746094\" xlink:href=\"#DejaVuSans-105\"/>\n      <use x=\"673.529297\" xlink:href=\"#DejaVuSans-111\"/>\n      <use x=\"734.710938\" xlink:href=\"#DejaVuSans-110\"/>\n      <use x=\"798.089844\" xlink:href=\"#DejaVuSans-32\"/>\n      <use x=\"829.876953\" xlink:href=\"#DejaVuSans-70\"/>\n      <use x=\"887.396484\" xlink:href=\"#DejaVuSans-49\"/>\n      <use x=\"951.019531\" xlink:href=\"#DejaVuSans-32\"/>\n      <use x=\"982.806641\" xlink:href=\"#DejaVuSans-83\"/>\n      <use x=\"1046.283203\" xlink:href=\"#DejaVuSans-99\"/>\n      <use x=\"1101.263672\" xlink:href=\"#DejaVuSans-111\"/>\n      <use x=\"1162.445312\" xlink:href=\"#DejaVuSans-114\"/>\n      <use x=\"1201.308594\" xlink:href=\"#DejaVuSans-101\"/>\n     </g>\n    </g>\n   </g>\n   <g id=\"LineCollection_1\">\n    <path clip-path=\"url(#p017e0ded8b)\" d=\"M 65.361932 156.474602 \nL 65.361932 141.175577 \n\" style=\"fill:none;stroke:#1f77b4;stroke-width:1.5;\"/>\n    <path clip-path=\"url(#p017e0ded8b)\" d=\"M 71.573435 208.129625 \nL 71.573435 192.154567 \n\" style=\"fill:none;stroke:#1f77b4;stroke-width:1.5;\"/>\n    <path clip-path=\"url(#p017e0ded8b)\" d=\"M 77.784937 74.240822 \nL 77.784937 63.218147 \n\" style=\"fill:none;stroke:#1f77b4;stroke-width:1.5;\"/>\n    <path clip-path=\"url(#p017e0ded8b)\" d=\"M 90.207943 45.922096 \nL 90.207943 37.925924 \n\" style=\"fill:none;stroke:#1f77b4;stroke-width:1.5;\"/>\n    <path clip-path=\"url(#p017e0ded8b)\" d=\"M 108.842451 25.708676 \nL 108.842451 19.159027 \n\" style=\"fill:none;stroke:#1f77b4;stroke-width:1.5;\"/>\n    <path clip-path=\"url(#p017e0ded8b)\" d=\"M 121.265457 32.853688 \nL 121.265457 23.109079 \n\" style=\"fill:none;stroke:#1f77b4;stroke-width:1.5;\"/>\n    <path clip-path=\"url(#p017e0ded8b)\" d=\"M 133.688462 43.564176 \nL 133.688462 34.794592 \n\" style=\"fill:none;stroke:#1f77b4;stroke-width:1.5;\"/>\n    <path clip-path=\"url(#p017e0ded8b)\" d=\"M 152.322971 60.078276 \nL 152.322971 49.243452 \n\" style=\"fill:none;stroke:#1f77b4;stroke-width:1.5;\"/>\n    <path clip-path=\"url(#p017e0ded8b)\" d=\"M 183.380485 66.775356 \nL 183.380485 57.222275 \n\" style=\"fill:none;stroke:#1f77b4;stroke-width:1.5;\"/>\n    <path clip-path=\"url(#p017e0ded8b)\" d=\"M 214.437999 67.440289 \nL 214.437999 57.881965 \n\" style=\"fill:none;stroke:#1f77b4;stroke-width:1.5;\"/>\n    <path clip-path=\"url(#p017e0ded8b)\" d=\"M 369.725568 68.361479 \nL 369.725568 58.347634 \n\" style=\"fill:none;stroke:#1f77b4;stroke-width:1.5;\"/>\n   </g>\n   <g id=\"line2d_11\">\n    <path clip-path=\"url(#p017e0ded8b)\" d=\"M 65.361932 148.825089 \nL 71.573435 200.142096 \nL 77.784937 68.729485 \nL 90.207943 41.92401 \nL 108.842451 22.433851 \nL 121.265457 27.981383 \nL 133.688462 39.179384 \nL 152.322971 54.660864 \nL 183.380485 61.998816 \nL 214.437999 62.661127 \nL 369.725568 63.354557 \n\" style=\"fill:none;stroke:#1f77b4;stroke-linecap:square;stroke-width:1.5;\"/>\n   </g>\n   <g id=\"patch_3\">\n    <path d=\"M 50.14375 224.64 \nL 50.14375 7.2 \n\" style=\"fill:none;stroke:#000000;stroke-linecap:square;stroke-linejoin:miter;stroke-width:0.8;\"/>\n   </g>\n   <g id=\"patch_4\">\n    <path d=\"M 384.94375 224.64 \nL 384.94375 7.2 \n\" style=\"fill:none;stroke:#000000;stroke-linecap:square;stroke-linejoin:miter;stroke-width:0.8;\"/>\n   </g>\n   <g id=\"patch_5\">\n    <path d=\"M 50.14375 224.64 \nL 384.94375 224.64 \n\" style=\"fill:none;stroke:#000000;stroke-linecap:square;stroke-linejoin:miter;stroke-width:0.8;\"/>\n   </g>\n   <g id=\"patch_6\">\n    <path d=\"M 50.14375 7.2 \nL 384.94375 7.2 \n\" style=\"fill:none;stroke:#000000;stroke-linecap:square;stroke-linejoin:miter;stroke-width:0.8;\"/>\n   </g>\n  </g>\n </g>\n <defs>\n  <clipPath id=\"p017e0ded8b\">\n   <rect height=\"217.44\" width=\"334.8\" x=\"50.14375\" y=\"7.2\"/>\n  </clipPath>\n </defs>\n</svg>\n",
      "text/plain": [
       "<Figure size 432x288 with 1 Axes>"
      ]
     },
     "metadata": {
      "needs_background": "light"
     },
     "output_type": "display_data"
    }
   ],
   "source": [
    "plot_validation_results(param_to_scores)"
   ]
  },
  {
   "cell_type": "markdown",
   "metadata": {},
   "source": [
    "The method `plot_scores()` shows the training and validation scores for each parameter setting."
   ]
  },
  {
   "cell_type": "code",
   "execution_count": 12,
   "metadata": {},
   "outputs": [
    {
     "data": {
      "image/png": "[encoded data removed]",
      "image/svg+xml": "<?xml version=\"1.0\" encoding=\"utf-8\" standalone=\"no\"?>\n<!DOCTYPE svg PUBLIC \"-//W3C//DTD SVG 1.1//EN\"\n  \"http://www.w3.org/Graphics/SVG/1.1/DTD/svg11.dtd\">\n<!-- Created with matplotlib (https://matplotlib.org/) -->\n<svg height=\"262.19625pt\" version=\"1.1\" viewBox=\"0 0 392.14375 262.19625\" width=\"392.14375pt\" xmlns=\"http://www.w3.org/2000/svg\" xmlns:xlink=\"http://www.w3.org/1999/xlink\">\n <metadata>\n  <rdf:RDF xmlns:cc=\"http://creativecommons.org/ns#\" xmlns:dc=\"http://purl.org/dc/elements/1.1/\" xmlns:rdf=\"http://www.w3.org/1999/02/22-rdf-syntax-ns#\">\n   <cc:Work>\n    <dc:type rdf:resource=\"http://purl.org/dc/dcmitype/StillImage\"/>\n    <dc:date>2021-03-25T23:07:34.170641</dc:date>\n    <dc:format>image/svg+xml</dc:format>\n    <dc:creator>\n     <cc:Agent>\n      <dc:title>Matplotlib v3.3.4, https://matplotlib.org/</dc:title>\n     </cc:Agent>\n    </dc:creator>\n   </cc:Work>\n  </rdf:RDF>\n </metadata>\n <defs>\n  <style type=\"text/css\">*{stroke-linecap:butt;stroke-linejoin:round;}</style>\n </defs>\n <g id=\"figure_1\">\n  <g id=\"patch_1\">\n   <path d=\"M 0 262.19625 \nL 392.14375 262.19625 \nL 392.14375 0 \nL 0 0 \nz\n\" style=\"fill:none;\"/>\n  </g>\n  <g id=\"axes_1\">\n   <g id=\"patch_2\">\n    <path d=\"M 50.14375 224.64 \nL 384.94375 224.64 \nL 384.94375 7.2 \nL 50.14375 7.2 \nz\n\" style=\"fill:#ffffff;\"/>\n   </g>\n   <g id=\"matplotlib.axis_1\">\n    <g id=\"xtick_1\">\n     <g id=\"line2d_1\">\n      <defs>\n       <path d=\"M 0 0 \nL 0 3.5 \n\" id=\"m9d6bda22a1\" style=\"stroke:#000000;stroke-width:0.8;\"/>\n      </defs>\n      <g>\n       <use style=\"stroke:#000000;stroke-width:0.8;\" x=\"59.150429\" xlink:href=\"#m9d6bda22a1\" y=\"224.64\"/>\n      </g>\n     </g>\n     <g id=\"text_1\">\n      <!-- 0 -->\n      <g transform=\"translate(55.969179 239.238437)scale(0.1 -0.1)\">\n       <defs>\n        <path d=\"M 31.78125 66.40625 \nQ 24.171875 66.40625 20.328125 58.90625 \nQ 16.5 51.421875 16.5 36.375 \nQ 16.5 21.390625 20.328125 13.890625 \nQ 24.171875 6.390625 31.78125 6.390625 \nQ 39.453125 6.390625 43.28125 13.890625 \nQ 47.125 21.390625 47.125 36.375 \nQ 47.125 51.421875 43.28125 58.90625 \nQ 39.453125 66.40625 31.78125 66.40625 \nz\nM 31.78125 74.21875 \nQ 44.046875 74.21875 50.515625 64.515625 \nQ 56.984375 54.828125 56.984375 36.375 \nQ 56.984375 17.96875 50.515625 8.265625 \nQ 44.046875 -1.421875 31.78125 -1.421875 \nQ 19.53125 -1.421875 13.0625 8.265625 \nQ 6.59375 17.96875 6.59375 36.375 \nQ 6.59375 54.828125 13.0625 64.515625 \nQ 19.53125 74.21875 31.78125 74.21875 \nz\n\" id=\"DejaVuSans-48\"/>\n       </defs>\n       <use xlink:href=\"#DejaVuSans-48\"/>\n      </g>\n     </g>\n    </g>\n    <g id=\"xtick_2\">\n     <g id=\"line2d_2\">\n      <g>\n       <use style=\"stroke:#000000;stroke-width:0.8;\" x=\"121.265457\" xlink:href=\"#m9d6bda22a1\" y=\"224.64\"/>\n      </g>\n     </g>\n     <g id=\"text_2\">\n      <!-- 10 -->\n      <g transform=\"translate(114.902957 239.238437)scale(0.1 -0.1)\">\n       <defs>\n        <path d=\"M 12.40625 8.296875 \nL 28.515625 8.296875 \nL 28.515625 63.921875 \nL 10.984375 60.40625 \nL 10.984375 69.390625 \nL 28.421875 72.90625 \nL 38.28125 72.90625 \nL 38.28125 8.296875 \nL 54.390625 8.296875 \nL 54.390625 0 \nL 12.40625 0 \nz\n\" id=\"DejaVuSans-49\"/>\n       </defs>\n       <use xlink:href=\"#DejaVuSans-49\"/>\n       <use x=\"63.623047\" xlink:href=\"#DejaVuSans-48\"/>\n      </g>\n     </g>\n    </g>\n    <g id=\"xtick_3\">\n     <g id=\"line2d_3\">\n      <g>\n       <use style=\"stroke:#000000;stroke-width:0.8;\" x=\"183.380485\" xlink:href=\"#m9d6bda22a1\" y=\"224.64\"/>\n      </g>\n     </g>\n     <g id=\"text_3\">\n      <!-- 20 -->\n      <g transform=\"translate(177.017985 239.238437)scale(0.1 -0.1)\">\n       <defs>\n        <path d=\"M 19.1875 8.296875 \nL 53.609375 8.296875 \nL 53.609375 0 \nL 7.328125 0 \nL 7.328125 8.296875 \nQ 12.9375 14.109375 22.625 23.890625 \nQ 32.328125 33.6875 34.8125 36.53125 \nQ 39.546875 41.84375 41.421875 45.53125 \nQ 43.3125 49.21875 43.3125 52.78125 \nQ 43.3125 58.59375 39.234375 62.25 \nQ 35.15625 65.921875 28.609375 65.921875 \nQ 23.96875 65.921875 18.8125 64.3125 \nQ 13.671875 62.703125 7.8125 59.421875 \nL 7.8125 69.390625 \nQ 13.765625 71.78125 18.9375 73 \nQ 24.125 74.21875 28.421875 74.21875 \nQ 39.75 74.21875 46.484375 68.546875 \nQ 53.21875 62.890625 53.21875 53.421875 \nQ 53.21875 48.921875 51.53125 44.890625 \nQ 49.859375 40.875 45.40625 35.40625 \nQ 44.1875 33.984375 37.640625 27.21875 \nQ 31.109375 20.453125 19.1875 8.296875 \nz\n\" id=\"DejaVuSans-50\"/>\n       </defs>\n       <use xlink:href=\"#DejaVuSans-50\"/>\n       <use x=\"63.623047\" xlink:href=\"#DejaVuSans-48\"/>\n      </g>\n     </g>\n    </g>\n    <g id=\"xtick_4\">\n     <g id=\"line2d_4\">\n      <g>\n       <use style=\"stroke:#000000;stroke-width:0.8;\" x=\"245.495513\" xlink:href=\"#m9d6bda22a1\" y=\"224.64\"/>\n      </g>\n     </g>\n     <g id=\"text_4\">\n      <!-- 30 -->\n      <g transform=\"translate(239.133013 239.238437)scale(0.1 -0.1)\">\n       <defs>\n        <path d=\"M 40.578125 39.3125 \nQ 47.65625 37.796875 51.625 33 \nQ 55.609375 28.21875 55.609375 21.1875 \nQ 55.609375 10.40625 48.1875 4.484375 \nQ 40.765625 -1.421875 27.09375 -1.421875 \nQ 22.515625 -1.421875 17.65625 -0.515625 \nQ 12.796875 0.390625 7.625 2.203125 \nL 7.625 11.71875 \nQ 11.71875 9.328125 16.59375 8.109375 \nQ 21.484375 6.890625 26.8125 6.890625 \nQ 36.078125 6.890625 40.9375 10.546875 \nQ 45.796875 14.203125 45.796875 21.1875 \nQ 45.796875 27.640625 41.28125 31.265625 \nQ 36.765625 34.90625 28.71875 34.90625 \nL 20.21875 34.90625 \nL 20.21875 43.015625 \nL 29.109375 43.015625 \nQ 36.375 43.015625 40.234375 45.921875 \nQ 44.09375 48.828125 44.09375 54.296875 \nQ 44.09375 59.90625 40.109375 62.90625 \nQ 36.140625 65.921875 28.71875 65.921875 \nQ 24.65625 65.921875 20.015625 65.03125 \nQ 15.375 64.15625 9.8125 62.3125 \nL 9.8125 71.09375 \nQ 15.4375 72.65625 20.34375 73.4375 \nQ 25.25 74.21875 29.59375 74.21875 \nQ 40.828125 74.21875 47.359375 69.109375 \nQ 53.90625 64.015625 53.90625 55.328125 \nQ 53.90625 49.265625 50.4375 45.09375 \nQ 46.96875 40.921875 40.578125 39.3125 \nz\n\" id=\"DejaVuSans-51\"/>\n       </defs>\n       <use xlink:href=\"#DejaVuSans-51\"/>\n       <use x=\"63.623047\" xlink:href=\"#DejaVuSans-48\"/>\n      </g>\n     </g>\n    </g>\n    <g id=\"xtick_5\">\n     <g id=\"line2d_5\">\n      <g>\n       <use style=\"stroke:#000000;stroke-width:0.8;\" x=\"307.61054\" xlink:href=\"#m9d6bda22a1\" y=\"224.64\"/>\n      </g>\n     </g>\n     <g id=\"text_5\">\n      <!-- 40 -->\n      <g transform=\"translate(301.24804 239.238437)scale(0.1 -0.1)\">\n       <defs>\n        <path d=\"M 37.796875 64.3125 \nL 12.890625 25.390625 \nL 37.796875 25.390625 \nz\nM 35.203125 72.90625 \nL 47.609375 72.90625 \nL 47.609375 25.390625 \nL 58.015625 25.390625 \nL 58.015625 17.1875 \nL 47.609375 17.1875 \nL 47.609375 0 \nL 37.796875 0 \nL 37.796875 17.1875 \nL 4.890625 17.1875 \nL 4.890625 26.703125 \nz\n\" id=\"DejaVuSans-52\"/>\n       </defs>\n       <use xlink:href=\"#DejaVuSans-52\"/>\n       <use x=\"63.623047\" xlink:href=\"#DejaVuSans-48\"/>\n      </g>\n     </g>\n    </g>\n    <g id=\"xtick_6\">\n     <g id=\"line2d_6\">\n      <g>\n       <use style=\"stroke:#000000;stroke-width:0.8;\" x=\"369.725568\" xlink:href=\"#m9d6bda22a1\" y=\"224.64\"/>\n      </g>\n     </g>\n     <g id=\"text_6\">\n      <!-- 50 -->\n      <g transform=\"translate(363.363068 239.238437)scale(0.1 -0.1)\">\n       <defs>\n        <path d=\"M 10.796875 72.90625 \nL 49.515625 72.90625 \nL 49.515625 64.59375 \nL 19.828125 64.59375 \nL 19.828125 46.734375 \nQ 21.96875 47.46875 24.109375 47.828125 \nQ 26.265625 48.1875 28.421875 48.1875 \nQ 40.625 48.1875 47.75 41.5 \nQ 54.890625 34.8125 54.890625 23.390625 \nQ 54.890625 11.625 47.5625 5.09375 \nQ 40.234375 -1.421875 26.90625 -1.421875 \nQ 22.3125 -1.421875 17.546875 -0.640625 \nQ 12.796875 0.140625 7.71875 1.703125 \nL 7.71875 11.625 \nQ 12.109375 9.234375 16.796875 8.0625 \nQ 21.484375 6.890625 26.703125 6.890625 \nQ 35.15625 6.890625 40.078125 11.328125 \nQ 45.015625 15.765625 45.015625 23.390625 \nQ 45.015625 31 40.078125 35.4375 \nQ 35.15625 39.890625 26.703125 39.890625 \nQ 22.75 39.890625 18.8125 39.015625 \nQ 14.890625 38.140625 10.796875 36.28125 \nz\n\" id=\"DejaVuSans-53\"/>\n       </defs>\n       <use xlink:href=\"#DejaVuSans-53\"/>\n       <use x=\"63.623047\" xlink:href=\"#DejaVuSans-48\"/>\n      </g>\n     </g>\n    </g>\n    <g id=\"text_7\">\n     <!-- param -->\n     <g transform=\"translate(201.315625 252.916562)scale(0.1 -0.1)\">\n      <defs>\n       <path d=\"M 18.109375 8.203125 \nL 18.109375 -20.796875 \nL 9.078125 -20.796875 \nL 9.078125 54.6875 \nL 18.109375 54.6875 \nL 18.109375 46.390625 \nQ 20.953125 51.265625 25.265625 53.625 \nQ 29.59375 56 35.59375 56 \nQ 45.5625 56 51.78125 48.09375 \nQ 58.015625 40.1875 58.015625 27.296875 \nQ 58.015625 14.40625 51.78125 6.484375 \nQ 45.5625 -1.421875 35.59375 -1.421875 \nQ 29.59375 -1.421875 25.265625 0.953125 \nQ 20.953125 3.328125 18.109375 8.203125 \nz\nM 48.6875 27.296875 \nQ 48.6875 37.203125 44.609375 42.84375 \nQ 40.53125 48.484375 33.40625 48.484375 \nQ 26.265625 48.484375 22.1875 42.84375 \nQ 18.109375 37.203125 18.109375 27.296875 \nQ 18.109375 17.390625 22.1875 11.75 \nQ 26.265625 6.109375 33.40625 6.109375 \nQ 40.53125 6.109375 44.609375 11.75 \nQ 48.6875 17.390625 48.6875 27.296875 \nz\n\" id=\"DejaVuSans-112\"/>\n       <path d=\"M 34.28125 27.484375 \nQ 23.390625 27.484375 19.1875 25 \nQ 14.984375 22.515625 14.984375 16.5 \nQ 14.984375 11.71875 18.140625 8.90625 \nQ 21.296875 6.109375 26.703125 6.109375 \nQ 34.1875 6.109375 38.703125 11.40625 \nQ 43.21875 16.703125 43.21875 25.484375 \nL 43.21875 27.484375 \nz\nM 52.203125 31.203125 \nL 52.203125 0 \nL 43.21875 0 \nL 43.21875 8.296875 \nQ 40.140625 3.328125 35.546875 0.953125 \nQ 30.953125 -1.421875 24.3125 -1.421875 \nQ 15.921875 -1.421875 10.953125 3.296875 \nQ 6 8.015625 6 15.921875 \nQ 6 25.140625 12.171875 29.828125 \nQ 18.359375 34.515625 30.609375 34.515625 \nL 43.21875 34.515625 \nL 43.21875 35.40625 \nQ 43.21875 41.609375 39.140625 45 \nQ 35.0625 48.390625 27.6875 48.390625 \nQ 23 48.390625 18.546875 47.265625 \nQ 14.109375 46.140625 10.015625 43.890625 \nL 10.015625 52.203125 \nQ 14.9375 54.109375 19.578125 55.046875 \nQ 24.21875 56 28.609375 56 \nQ 40.484375 56 46.34375 49.84375 \nQ 52.203125 43.703125 52.203125 31.203125 \nz\n\" id=\"DejaVuSans-97\"/>\n       <path d=\"M 41.109375 46.296875 \nQ 39.59375 47.171875 37.8125 47.578125 \nQ 36.03125 48 33.890625 48 \nQ 26.265625 48 22.1875 43.046875 \nQ 18.109375 38.09375 18.109375 28.8125 \nL 18.109375 0 \nL 9.078125 0 \nL 9.078125 54.6875 \nL 18.109375 54.6875 \nL 18.109375 46.1875 \nQ 20.953125 51.171875 25.484375 53.578125 \nQ 30.03125 56 36.53125 56 \nQ 37.453125 56 38.578125 55.875 \nQ 39.703125 55.765625 41.0625 55.515625 \nz\n\" id=\"DejaVuSans-114\"/>\n       <path d=\"M 52 44.1875 \nQ 55.375 50.25 60.0625 53.125 \nQ 64.75 56 71.09375 56 \nQ 79.640625 56 84.28125 50.015625 \nQ 88.921875 44.046875 88.921875 33.015625 \nL 88.921875 0 \nL 79.890625 0 \nL 79.890625 32.71875 \nQ 79.890625 40.578125 77.09375 44.375 \nQ 74.3125 48.1875 68.609375 48.1875 \nQ 61.625 48.1875 57.5625 43.546875 \nQ 53.515625 38.921875 53.515625 30.90625 \nL 53.515625 0 \nL 44.484375 0 \nL 44.484375 32.71875 \nQ 44.484375 40.625 41.703125 44.40625 \nQ 38.921875 48.1875 33.109375 48.1875 \nQ 26.21875 48.1875 22.15625 43.53125 \nQ 18.109375 38.875 18.109375 30.90625 \nL 18.109375 0 \nL 9.078125 0 \nL 9.078125 54.6875 \nL 18.109375 54.6875 \nL 18.109375 46.1875 \nQ 21.1875 51.21875 25.484375 53.609375 \nQ 29.78125 56 35.6875 56 \nQ 41.65625 56 45.828125 52.96875 \nQ 50 49.953125 52 44.1875 \nz\n\" id=\"DejaVuSans-109\"/>\n      </defs>\n      <use xlink:href=\"#DejaVuSans-112\"/>\n      <use x=\"63.476562\" xlink:href=\"#DejaVuSans-97\"/>\n      <use x=\"124.755859\" xlink:href=\"#DejaVuSans-114\"/>\n      <use x=\"165.869141\" xlink:href=\"#DejaVuSans-97\"/>\n      <use x=\"227.148438\" xlink:href=\"#DejaVuSans-109\"/>\n     </g>\n    </g>\n   </g>\n   <g id=\"matplotlib.axis_2\">\n    <g id=\"ytick_1\">\n     <g id=\"line2d_7\">\n      <defs>\n       <path d=\"M 0 0 \nL -3.5 0 \n\" id=\"mc8d8536656\" style=\"stroke:#000000;stroke-width:0.8;\"/>\n      </defs>\n      <g>\n       <use style=\"stroke:#000000;stroke-width:0.8;\" x=\"50.14375\" xlink:href=\"#mc8d8536656\" y=\"202.304056\"/>\n      </g>\n     </g>\n     <g id=\"text_8\">\n      <!-- 0.70 -->\n      <g transform=\"translate(20.878125 206.103275)scale(0.1 -0.1)\">\n       <defs>\n        <path d=\"M 10.6875 12.40625 \nL 21 12.40625 \nL 21 0 \nL 10.6875 0 \nz\n\" id=\"DejaVuSans-46\"/>\n        <path d=\"M 8.203125 72.90625 \nL 55.078125 72.90625 \nL 55.078125 68.703125 \nL 28.609375 0 \nL 18.3125 0 \nL 43.21875 64.59375 \nL 8.203125 64.59375 \nz\n\" id=\"DejaVuSans-55\"/>\n       </defs>\n       <use xlink:href=\"#DejaVuSans-48\"/>\n       <use x=\"63.623047\" xlink:href=\"#DejaVuSans-46\"/>\n       <use x=\"95.410156\" xlink:href=\"#DejaVuSans-55\"/>\n       <use x=\"159.033203\" xlink:href=\"#DejaVuSans-48\"/>\n      </g>\n     </g>\n    </g>\n    <g id=\"ytick_2\">\n     <g id=\"line2d_8\">\n      <g>\n       <use style=\"stroke:#000000;stroke-width:0.8;\" x=\"50.14375\" xlink:href=\"#mc8d8536656\" y=\"171.433986\"/>\n      </g>\n     </g>\n     <g id=\"text_9\">\n      <!-- 0.75 -->\n      <g transform=\"translate(20.878125 175.233205)scale(0.1 -0.1)\">\n       <use xlink:href=\"#DejaVuSans-48\"/>\n       <use x=\"63.623047\" xlink:href=\"#DejaVuSans-46\"/>\n       <use x=\"95.410156\" xlink:href=\"#DejaVuSans-55\"/>\n       <use x=\"159.033203\" xlink:href=\"#DejaVuSans-53\"/>\n      </g>\n     </g>\n    </g>\n    <g id=\"ytick_3\">\n     <g id=\"line2d_9\">\n      <g>\n       <use style=\"stroke:#000000;stroke-width:0.8;\" x=\"50.14375\" xlink:href=\"#mc8d8536656\" y=\"140.563916\"/>\n      </g>\n     </g>\n     <g id=\"text_10\">\n      <!-- 0.80 -->\n      <g transform=\"translate(20.878125 144.363135)scale(0.1 -0.1)\">\n       <defs>\n        <path d=\"M 31.78125 34.625 \nQ 24.75 34.625 20.71875 30.859375 \nQ 16.703125 27.09375 16.703125 20.515625 \nQ 16.703125 13.921875 20.71875 10.15625 \nQ 24.75 6.390625 31.78125 6.390625 \nQ 38.8125 6.390625 42.859375 10.171875 \nQ 46.921875 13.96875 46.921875 20.515625 \nQ 46.921875 27.09375 42.890625 30.859375 \nQ 38.875 34.625 31.78125 34.625 \nz\nM 21.921875 38.8125 \nQ 15.578125 40.375 12.03125 44.71875 \nQ 8.5 49.078125 8.5 55.328125 \nQ 8.5 64.0625 14.71875 69.140625 \nQ 20.953125 74.21875 31.78125 74.21875 \nQ 42.671875 74.21875 48.875 69.140625 \nQ 55.078125 64.0625 55.078125 55.328125 \nQ 55.078125 49.078125 51.53125 44.71875 \nQ 48 40.375 41.703125 38.8125 \nQ 48.828125 37.15625 52.796875 32.3125 \nQ 56.78125 27.484375 56.78125 20.515625 \nQ 56.78125 9.90625 50.3125 4.234375 \nQ 43.84375 -1.421875 31.78125 -1.421875 \nQ 19.734375 -1.421875 13.25 4.234375 \nQ 6.78125 9.90625 6.78125 20.515625 \nQ 6.78125 27.484375 10.78125 32.3125 \nQ 14.796875 37.15625 21.921875 38.8125 \nz\nM 18.3125 54.390625 \nQ 18.3125 48.734375 21.84375 45.5625 \nQ 25.390625 42.390625 31.78125 42.390625 \nQ 38.140625 42.390625 41.71875 45.5625 \nQ 45.3125 48.734375 45.3125 54.390625 \nQ 45.3125 60.0625 41.71875 63.234375 \nQ 38.140625 66.40625 31.78125 66.40625 \nQ 25.390625 66.40625 21.84375 63.234375 \nQ 18.3125 60.0625 18.3125 54.390625 \nz\n\" id=\"DejaVuSans-56\"/>\n       </defs>\n       <use xlink:href=\"#DejaVuSans-48\"/>\n       <use x=\"63.623047\" xlink:href=\"#DejaVuSans-46\"/>\n       <use x=\"95.410156\" xlink:href=\"#DejaVuSans-56\"/>\n       <use x=\"159.033203\" xlink:href=\"#DejaVuSans-48\"/>\n      </g>\n     </g>\n    </g>\n    <g id=\"ytick_4\">\n     <g id=\"line2d_10\">\n      <g>\n       <use style=\"stroke:#000000;stroke-width:0.8;\" x=\"50.14375\" xlink:href=\"#mc8d8536656\" y=\"109.693846\"/>\n      </g>\n     </g>\n     <g id=\"text_11\">\n      <!-- 0.85 -->\n      <g transform=\"translate(20.878125 113.493065)scale(0.1 -0.1)\">\n       <use xlink:href=\"#DejaVuSans-48\"/>\n       <use x=\"63.623047\" xlink:href=\"#DejaVuSans-46\"/>\n       <use x=\"95.410156\" xlink:href=\"#DejaVuSans-56\"/>\n       <use x=\"159.033203\" xlink:href=\"#DejaVuSans-53\"/>\n      </g>\n     </g>\n    </g>\n    <g id=\"ytick_5\">\n     <g id=\"line2d_11\">\n      <g>\n       <use style=\"stroke:#000000;stroke-width:0.8;\" x=\"50.14375\" xlink:href=\"#mc8d8536656\" y=\"78.823776\"/>\n      </g>\n     </g>\n     <g id=\"text_12\">\n      <!-- 0.90 -->\n      <g transform=\"translate(20.878125 82.622995)scale(0.1 -0.1)\">\n       <defs>\n        <path d=\"M 10.984375 1.515625 \nL 10.984375 10.5 \nQ 14.703125 8.734375 18.5 7.8125 \nQ 22.3125 6.890625 25.984375 6.890625 \nQ 35.75 6.890625 40.890625 13.453125 \nQ 46.046875 20.015625 46.78125 33.40625 \nQ 43.953125 29.203125 39.59375 26.953125 \nQ 35.25 24.703125 29.984375 24.703125 \nQ 19.046875 24.703125 12.671875 31.3125 \nQ 6.296875 37.9375 6.296875 49.421875 \nQ 6.296875 60.640625 12.9375 67.421875 \nQ 19.578125 74.21875 30.609375 74.21875 \nQ 43.265625 74.21875 49.921875 64.515625 \nQ 56.59375 54.828125 56.59375 36.375 \nQ 56.59375 19.140625 48.40625 8.859375 \nQ 40.234375 -1.421875 26.421875 -1.421875 \nQ 22.703125 -1.421875 18.890625 -0.6875 \nQ 15.09375 0.046875 10.984375 1.515625 \nz\nM 30.609375 32.421875 \nQ 37.25 32.421875 41.125 36.953125 \nQ 45.015625 41.5 45.015625 49.421875 \nQ 45.015625 57.28125 41.125 61.84375 \nQ 37.25 66.40625 30.609375 66.40625 \nQ 23.96875 66.40625 20.09375 61.84375 \nQ 16.21875 57.28125 16.21875 49.421875 \nQ 16.21875 41.5 20.09375 36.953125 \nQ 23.96875 32.421875 30.609375 32.421875 \nz\n\" id=\"DejaVuSans-57\"/>\n       </defs>\n       <use xlink:href=\"#DejaVuSans-48\"/>\n       <use x=\"63.623047\" xlink:href=\"#DejaVuSans-46\"/>\n       <use x=\"95.410156\" xlink:href=\"#DejaVuSans-57\"/>\n       <use x=\"159.033203\" xlink:href=\"#DejaVuSans-48\"/>\n      </g>\n     </g>\n    </g>\n    <g id=\"ytick_6\">\n     <g id=\"line2d_12\">\n      <g>\n       <use style=\"stroke:#000000;stroke-width:0.8;\" x=\"50.14375\" xlink:href=\"#mc8d8536656\" y=\"47.953706\"/>\n      </g>\n     </g>\n     <g id=\"text_13\">\n      <!-- 0.95 -->\n      <g transform=\"translate(20.878125 51.752925)scale(0.1 -0.1)\">\n       <use xlink:href=\"#DejaVuSans-48\"/>\n       <use x=\"63.623047\" xlink:href=\"#DejaVuSans-46\"/>\n       <use x=\"95.410156\" xlink:href=\"#DejaVuSans-57\"/>\n       <use x=\"159.033203\" xlink:href=\"#DejaVuSans-53\"/>\n      </g>\n     </g>\n    </g>\n    <g id=\"ytick_7\">\n     <g id=\"line2d_13\">\n      <g>\n       <use style=\"stroke:#000000;stroke-width:0.8;\" x=\"50.14375\" xlink:href=\"#mc8d8536656\" y=\"17.083636\"/>\n      </g>\n     </g>\n     <g id=\"text_14\">\n      <!-- 1.00 -->\n      <g transform=\"translate(20.878125 20.882855)scale(0.1 -0.1)\">\n       <use xlink:href=\"#DejaVuSans-49\"/>\n       <use x=\"63.623047\" xlink:href=\"#DejaVuSans-46\"/>\n       <use x=\"95.410156\" xlink:href=\"#DejaVuSans-48\"/>\n       <use x=\"159.033203\" xlink:href=\"#DejaVuSans-48\"/>\n      </g>\n     </g>\n    </g>\n    <g id=\"text_15\">\n     <!-- Cross-Validation F1 Score -->\n     <g transform=\"translate(14.798438 179.061406)rotate(-90)scale(0.1 -0.1)\">\n      <defs>\n       <path d=\"M 64.40625 67.28125 \nL 64.40625 56.890625 \nQ 59.421875 61.53125 53.78125 63.8125 \nQ 48.140625 66.109375 41.796875 66.109375 \nQ 29.296875 66.109375 22.65625 58.46875 \nQ 16.015625 50.828125 16.015625 36.375 \nQ 16.015625 21.96875 22.65625 14.328125 \nQ 29.296875 6.6875 41.796875 6.6875 \nQ 48.140625 6.6875 53.78125 8.984375 \nQ 59.421875 11.28125 64.40625 15.921875 \nL 64.40625 5.609375 \nQ 59.234375 2.09375 53.4375 0.328125 \nQ 47.65625 -1.421875 41.21875 -1.421875 \nQ 24.65625 -1.421875 15.125 8.703125 \nQ 5.609375 18.84375 5.609375 36.375 \nQ 5.609375 53.953125 15.125 64.078125 \nQ 24.65625 74.21875 41.21875 74.21875 \nQ 47.75 74.21875 53.53125 72.484375 \nQ 59.328125 70.75 64.40625 67.28125 \nz\n\" id=\"DejaVuSans-67\"/>\n       <path d=\"M 30.609375 48.390625 \nQ 23.390625 48.390625 19.1875 42.75 \nQ 14.984375 37.109375 14.984375 27.296875 \nQ 14.984375 17.484375 19.15625 11.84375 \nQ 23.34375 6.203125 30.609375 6.203125 \nQ 37.796875 6.203125 41.984375 11.859375 \nQ 46.1875 17.53125 46.1875 27.296875 \nQ 46.1875 37.015625 41.984375 42.703125 \nQ 37.796875 48.390625 30.609375 48.390625 \nz\nM 30.609375 56 \nQ 42.328125 56 49.015625 48.375 \nQ 55.71875 40.765625 55.71875 27.296875 \nQ 55.71875 13.875 49.015625 6.21875 \nQ 42.328125 -1.421875 30.609375 -1.421875 \nQ 18.84375 -1.421875 12.171875 6.21875 \nQ 5.515625 13.875 5.515625 27.296875 \nQ 5.515625 40.765625 12.171875 48.375 \nQ 18.84375 56 30.609375 56 \nz\n\" id=\"DejaVuSans-111\"/>\n       <path d=\"M 44.28125 53.078125 \nL 44.28125 44.578125 \nQ 40.484375 46.53125 36.375 47.5 \nQ 32.28125 48.484375 27.875 48.484375 \nQ 21.1875 48.484375 17.84375 46.4375 \nQ 14.5 44.390625 14.5 40.28125 \nQ 14.5 37.15625 16.890625 35.375 \nQ 19.28125 33.59375 26.515625 31.984375 \nL 29.59375 31.296875 \nQ 39.15625 29.25 43.1875 25.515625 \nQ 47.21875 21.78125 47.21875 15.09375 \nQ 47.21875 7.46875 41.1875 3.015625 \nQ 35.15625 -1.421875 24.609375 -1.421875 \nQ 20.21875 -1.421875 15.453125 -0.5625 \nQ 10.6875 0.296875 5.421875 2 \nL 5.421875 11.28125 \nQ 10.40625 8.6875 15.234375 7.390625 \nQ 20.0625 6.109375 24.8125 6.109375 \nQ 31.15625 6.109375 34.5625 8.28125 \nQ 37.984375 10.453125 37.984375 14.40625 \nQ 37.984375 18.0625 35.515625 20.015625 \nQ 33.0625 21.96875 24.703125 23.78125 \nL 21.578125 24.515625 \nQ 13.234375 26.265625 9.515625 29.90625 \nQ 5.8125 33.546875 5.8125 39.890625 \nQ 5.8125 47.609375 11.28125 51.796875 \nQ 16.75 56 26.8125 56 \nQ 31.78125 56 36.171875 55.265625 \nQ 40.578125 54.546875 44.28125 53.078125 \nz\n\" id=\"DejaVuSans-115\"/>\n       <path d=\"M 4.890625 31.390625 \nL 31.203125 31.390625 \nL 31.203125 23.390625 \nL 4.890625 23.390625 \nz\n\" id=\"DejaVuSans-45\"/>\n       <path d=\"M 28.609375 0 \nL 0.78125 72.90625 \nL 11.078125 72.90625 \nL 34.1875 11.53125 \nL 57.328125 72.90625 \nL 67.578125 72.90625 \nL 39.796875 0 \nz\n\" id=\"DejaVuSans-86\"/>\n       <path d=\"M 9.421875 75.984375 \nL 18.40625 75.984375 \nL 18.40625 0 \nL 9.421875 0 \nz\n\" id=\"DejaVuSans-108\"/>\n       <path d=\"M 9.421875 54.6875 \nL 18.40625 54.6875 \nL 18.40625 0 \nL 9.421875 0 \nz\nM 9.421875 75.984375 \nL 18.40625 75.984375 \nL 18.40625 64.59375 \nL 9.421875 64.59375 \nz\n\" id=\"DejaVuSans-105\"/>\n       <path d=\"M 45.40625 46.390625 \nL 45.40625 75.984375 \nL 54.390625 75.984375 \nL 54.390625 0 \nL 45.40625 0 \nL 45.40625 8.203125 \nQ 42.578125 3.328125 38.25 0.953125 \nQ 33.9375 -1.421875 27.875 -1.421875 \nQ 17.96875 -1.421875 11.734375 6.484375 \nQ 5.515625 14.40625 5.515625 27.296875 \nQ 5.515625 40.1875 11.734375 48.09375 \nQ 17.96875 56 27.875 56 \nQ 33.9375 56 38.25 53.625 \nQ 42.578125 51.265625 45.40625 46.390625 \nz\nM 14.796875 27.296875 \nQ 14.796875 17.390625 18.875 11.75 \nQ 22.953125 6.109375 30.078125 6.109375 \nQ 37.203125 6.109375 41.296875 11.75 \nQ 45.40625 17.390625 45.40625 27.296875 \nQ 45.40625 37.203125 41.296875 42.84375 \nQ 37.203125 48.484375 30.078125 48.484375 \nQ 22.953125 48.484375 18.875 42.84375 \nQ 14.796875 37.203125 14.796875 27.296875 \nz\n\" id=\"DejaVuSans-100\"/>\n       <path d=\"M 18.3125 70.21875 \nL 18.3125 54.6875 \nL 36.8125 54.6875 \nL 36.8125 47.703125 \nL 18.3125 47.703125 \nL 18.3125 18.015625 \nQ 18.3125 11.328125 20.140625 9.421875 \nQ 21.96875 7.515625 27.59375 7.515625 \nL 36.8125 7.515625 \nL 36.8125 0 \nL 27.59375 0 \nQ 17.1875 0 13.234375 3.875 \nQ 9.28125 7.765625 9.28125 18.015625 \nL 9.28125 47.703125 \nL 2.6875 47.703125 \nL 2.6875 54.6875 \nL 9.28125 54.6875 \nL 9.28125 70.21875 \nz\n\" id=\"DejaVuSans-116\"/>\n       <path d=\"M 54.890625 33.015625 \nL 54.890625 0 \nL 45.90625 0 \nL 45.90625 32.71875 \nQ 45.90625 40.484375 42.875 44.328125 \nQ 39.84375 48.1875 33.796875 48.1875 \nQ 26.515625 48.1875 22.3125 43.546875 \nQ 18.109375 38.921875 18.109375 30.90625 \nL 18.109375 0 \nL 9.078125 0 \nL 9.078125 54.6875 \nL 18.109375 54.6875 \nL 18.109375 46.1875 \nQ 21.34375 51.125 25.703125 53.5625 \nQ 30.078125 56 35.796875 56 \nQ 45.21875 56 50.046875 50.171875 \nQ 54.890625 44.34375 54.890625 33.015625 \nz\n\" id=\"DejaVuSans-110\"/>\n       <path id=\"DejaVuSans-32\"/>\n       <path d=\"M 9.8125 72.90625 \nL 51.703125 72.90625 \nL 51.703125 64.59375 \nL 19.671875 64.59375 \nL 19.671875 43.109375 \nL 48.578125 43.109375 \nL 48.578125 34.8125 \nL 19.671875 34.8125 \nL 19.671875 0 \nL 9.8125 0 \nz\n\" id=\"DejaVuSans-70\"/>\n       <path d=\"M 53.515625 70.515625 \nL 53.515625 60.890625 \nQ 47.90625 63.578125 42.921875 64.890625 \nQ 37.9375 66.21875 33.296875 66.21875 \nQ 25.25 66.21875 20.875 63.09375 \nQ 16.5 59.96875 16.5 54.203125 \nQ 16.5 49.359375 19.40625 46.890625 \nQ 22.3125 44.4375 30.421875 42.921875 \nL 36.375 41.703125 \nQ 47.40625 39.59375 52.65625 34.296875 \nQ 57.90625 29 57.90625 20.125 \nQ 57.90625 9.515625 50.796875 4.046875 \nQ 43.703125 -1.421875 29.984375 -1.421875 \nQ 24.8125 -1.421875 18.96875 -0.25 \nQ 13.140625 0.921875 6.890625 3.21875 \nL 6.890625 13.375 \nQ 12.890625 10.015625 18.65625 8.296875 \nQ 24.421875 6.59375 29.984375 6.59375 \nQ 38.421875 6.59375 43.015625 9.90625 \nQ 47.609375 13.234375 47.609375 19.390625 \nQ 47.609375 24.75 44.3125 27.78125 \nQ 41.015625 30.8125 33.5 32.328125 \nL 27.484375 33.5 \nQ 16.453125 35.6875 11.515625 40.375 \nQ 6.59375 45.0625 6.59375 53.421875 \nQ 6.59375 63.09375 13.40625 68.65625 \nQ 20.21875 74.21875 32.171875 74.21875 \nQ 37.3125 74.21875 42.625 73.28125 \nQ 47.953125 72.359375 53.515625 70.515625 \nz\n\" id=\"DejaVuSans-83\"/>\n       <path d=\"M 48.78125 52.59375 \nL 48.78125 44.1875 \nQ 44.96875 46.296875 41.140625 47.34375 \nQ 37.3125 48.390625 33.40625 48.390625 \nQ 24.65625 48.390625 19.8125 42.84375 \nQ 14.984375 37.3125 14.984375 27.296875 \nQ 14.984375 17.28125 19.8125 11.734375 \nQ 24.65625 6.203125 33.40625 6.203125 \nQ 37.3125 6.203125 41.140625 7.25 \nQ 44.96875 8.296875 48.78125 10.40625 \nL 48.78125 2.09375 \nQ 45.015625 0.34375 40.984375 -0.53125 \nQ 36.96875 -1.421875 32.421875 -1.421875 \nQ 20.0625 -1.421875 12.78125 6.34375 \nQ 5.515625 14.109375 5.515625 27.296875 \nQ 5.515625 40.671875 12.859375 48.328125 \nQ 20.21875 56 33.015625 56 \nQ 37.15625 56 41.109375 55.140625 \nQ 45.0625 54.296875 48.78125 52.59375 \nz\n\" id=\"DejaVuSans-99\"/>\n       <path d=\"M 56.203125 29.59375 \nL 56.203125 25.203125 \nL 14.890625 25.203125 \nQ 15.484375 15.921875 20.484375 11.0625 \nQ 25.484375 6.203125 34.421875 6.203125 \nQ 39.59375 6.203125 44.453125 7.46875 \nQ 49.3125 8.734375 54.109375 11.28125 \nL 54.109375 2.78125 \nQ 49.265625 0.734375 44.1875 -0.34375 \nQ 39.109375 -1.421875 33.890625 -1.421875 \nQ 20.796875 -1.421875 13.15625 6.1875 \nQ 5.515625 13.8125 5.515625 26.8125 \nQ 5.515625 40.234375 12.765625 48.109375 \nQ 20.015625 56 32.328125 56 \nQ 43.359375 56 49.78125 48.890625 \nQ 56.203125 41.796875 56.203125 29.59375 \nz\nM 47.21875 32.234375 \nQ 47.125 39.59375 43.09375 43.984375 \nQ 39.0625 48.390625 32.421875 48.390625 \nQ 24.90625 48.390625 20.390625 44.140625 \nQ 15.875 39.890625 15.1875 32.171875 \nz\n\" id=\"DejaVuSans-101\"/>\n      </defs>\n      <use xlink:href=\"#DejaVuSans-67\"/>\n      <use x=\"69.824219\" xlink:href=\"#DejaVuSans-114\"/>\n      <use x=\"108.6875\" xlink:href=\"#DejaVuSans-111\"/>\n      <use x=\"169.869141\" xlink:href=\"#DejaVuSans-115\"/>\n      <use x=\"221.96875\" xlink:href=\"#DejaVuSans-115\"/>\n      <use x=\"274.068359\" xlink:href=\"#DejaVuSans-45\"/>\n      <use x=\"304.277344\" xlink:href=\"#DejaVuSans-86\"/>\n      <use x=\"364.935547\" xlink:href=\"#DejaVuSans-97\"/>\n      <use x=\"426.214844\" xlink:href=\"#DejaVuSans-108\"/>\n      <use x=\"453.998047\" xlink:href=\"#DejaVuSans-105\"/>\n      <use x=\"481.78125\" xlink:href=\"#DejaVuSans-100\"/>\n      <use x=\"545.257812\" xlink:href=\"#DejaVuSans-97\"/>\n      <use x=\"606.537109\" xlink:href=\"#DejaVuSans-116\"/>\n      <use x=\"645.746094\" xlink:href=\"#DejaVuSans-105\"/>\n      <use x=\"673.529297\" xlink:href=\"#DejaVuSans-111\"/>\n      <use x=\"734.710938\" xlink:href=\"#DejaVuSans-110\"/>\n      <use x=\"798.089844\" xlink:href=\"#DejaVuSans-32\"/>\n      <use x=\"829.876953\" xlink:href=\"#DejaVuSans-70\"/>\n      <use x=\"887.396484\" xlink:href=\"#DejaVuSans-49\"/>\n      <use x=\"951.019531\" xlink:href=\"#DejaVuSans-32\"/>\n      <use x=\"982.806641\" xlink:href=\"#DejaVuSans-83\"/>\n      <use x=\"1046.283203\" xlink:href=\"#DejaVuSans-99\"/>\n      <use x=\"1101.263672\" xlink:href=\"#DejaVuSans-111\"/>\n      <use x=\"1162.445312\" xlink:href=\"#DejaVuSans-114\"/>\n      <use x=\"1201.308594\" xlink:href=\"#DejaVuSans-101\"/>\n     </g>\n    </g>\n   </g>\n   <g id=\"line2d_14\">\n    <path clip-path=\"url(#p977b827a28)\" d=\"M 65.361932 181.240209 \nL 71.573435 214.632373 \nL 77.784937 128.8399 \nL 90.207943 109.416846 \nL 108.842451 88.393981 \nL 121.265457 73.43278 \nL 133.688462 54.397783 \nL 152.322971 30.933361 \nL 183.380485 18.283748 \nL 214.437999 17.120467 \nL 369.725568 17.083636 \n\" style=\"fill:none;stroke:#1f77b4;stroke-linecap:square;stroke-width:1.5;\"/>\n   </g>\n   <g id=\"line2d_15\">\n    <path clip-path=\"url(#p977b827a28)\" d=\"M 65.361932 181.236829 \nL 71.573435 214.756364 \nL 77.784937 128.919527 \nL 90.207943 111.410575 \nL 108.842451 98.679882 \nL 121.265457 102.303451 \nL 133.688462 109.617824 \nL 152.322971 119.730106 \nL 183.380485 124.523151 \nL 214.437999 124.955763 \nL 369.725568 125.408701 \n\" style=\"fill:none;stroke:#ff7f0e;stroke-linecap:square;stroke-width:1.5;\"/>\n   </g>\n   <g id=\"patch_3\">\n    <path d=\"M 50.14375 224.64 \nL 50.14375 7.2 \n\" style=\"fill:none;stroke:#000000;stroke-linecap:square;stroke-linejoin:miter;stroke-width:0.8;\"/>\n   </g>\n   <g id=\"patch_4\">\n    <path d=\"M 384.94375 224.64 \nL 384.94375 7.2 \n\" style=\"fill:none;stroke:#000000;stroke-linecap:square;stroke-linejoin:miter;stroke-width:0.8;\"/>\n   </g>\n   <g id=\"patch_5\">\n    <path d=\"M 50.14375 224.64 \nL 384.94375 224.64 \n\" style=\"fill:none;stroke:#000000;stroke-linecap:square;stroke-linejoin:miter;stroke-width:0.8;\"/>\n   </g>\n   <g id=\"patch_6\">\n    <path d=\"M 50.14375 7.2 \nL 384.94375 7.2 \n\" style=\"fill:none;stroke:#000000;stroke-linecap:square;stroke-linejoin:miter;stroke-width:0.8;\"/>\n   </g>\n   <g id=\"legend_1\">\n    <g id=\"patch_7\">\n     <path d=\"M 265.379687 219.64 \nL 377.94375 219.64 \nQ 379.94375 219.64 379.94375 217.64 \nL 379.94375 189.28375 \nQ 379.94375 187.28375 377.94375 187.28375 \nL 265.379687 187.28375 \nQ 263.379687 187.28375 263.379687 189.28375 \nL 263.379687 217.64 \nQ 263.379687 219.64 265.379687 219.64 \nz\n\" style=\"fill:#ffffff;opacity:0.8;stroke:#cccccc;stroke-linejoin:miter;\"/>\n    </g>\n    <g id=\"line2d_16\">\n     <path d=\"M 267.379687 195.382187 \nL 287.379687 195.382187 \n\" style=\"fill:none;stroke:#1f77b4;stroke-linecap:square;stroke-width:1.5;\"/>\n    </g>\n    <g id=\"line2d_17\"/>\n    <g id=\"text_16\">\n     <!-- Training Score -->\n     <g transform=\"translate(295.379687 198.882187)scale(0.1 -0.1)\">\n      <defs>\n       <path d=\"M -0.296875 72.90625 \nL 61.375 72.90625 \nL 61.375 64.59375 \nL 35.5 64.59375 \nL 35.5 0 \nL 25.59375 0 \nL 25.59375 64.59375 \nL -0.296875 64.59375 \nz\n\" id=\"DejaVuSans-84\"/>\n       <path d=\"M 45.40625 27.984375 \nQ 45.40625 37.75 41.375 43.109375 \nQ 37.359375 48.484375 30.078125 48.484375 \nQ 22.859375 48.484375 18.828125 43.109375 \nQ 14.796875 37.75 14.796875 27.984375 \nQ 14.796875 18.265625 18.828125 12.890625 \nQ 22.859375 7.515625 30.078125 7.515625 \nQ 37.359375 7.515625 41.375 12.890625 \nQ 45.40625 18.265625 45.40625 27.984375 \nz\nM 54.390625 6.78125 \nQ 54.390625 -7.171875 48.1875 -13.984375 \nQ 42 -20.796875 29.203125 -20.796875 \nQ 24.46875 -20.796875 20.265625 -20.09375 \nQ 16.0625 -19.390625 12.109375 -17.921875 \nL 12.109375 -9.1875 \nQ 16.0625 -11.328125 19.921875 -12.34375 \nQ 23.78125 -13.375 27.78125 -13.375 \nQ 36.625 -13.375 41.015625 -8.765625 \nQ 45.40625 -4.15625 45.40625 5.171875 \nL 45.40625 9.625 \nQ 42.625 4.78125 38.28125 2.390625 \nQ 33.9375 0 27.875 0 \nQ 17.828125 0 11.671875 7.65625 \nQ 5.515625 15.328125 5.515625 27.984375 \nQ 5.515625 40.671875 11.671875 48.328125 \nQ 17.828125 56 27.875 56 \nQ 33.9375 56 38.28125 53.609375 \nQ 42.625 51.21875 45.40625 46.390625 \nL 45.40625 54.6875 \nL 54.390625 54.6875 \nz\n\" id=\"DejaVuSans-103\"/>\n      </defs>\n      <use xlink:href=\"#DejaVuSans-84\"/>\n      <use x=\"46.333984\" xlink:href=\"#DejaVuSans-114\"/>\n      <use x=\"87.447266\" xlink:href=\"#DejaVuSans-97\"/>\n      <use x=\"148.726562\" xlink:href=\"#DejaVuSans-105\"/>\n      <use x=\"176.509766\" xlink:href=\"#DejaVuSans-110\"/>\n      <use x=\"239.888672\" xlink:href=\"#DejaVuSans-105\"/>\n      <use x=\"267.671875\" xlink:href=\"#DejaVuSans-110\"/>\n      <use x=\"331.050781\" xlink:href=\"#DejaVuSans-103\"/>\n      <use x=\"394.527344\" xlink:href=\"#DejaVuSans-32\"/>\n      <use x=\"426.314453\" xlink:href=\"#DejaVuSans-83\"/>\n      <use x=\"489.791016\" xlink:href=\"#DejaVuSans-99\"/>\n      <use x=\"544.771484\" xlink:href=\"#DejaVuSans-111\"/>\n      <use x=\"605.953125\" xlink:href=\"#DejaVuSans-114\"/>\n      <use x=\"644.816406\" xlink:href=\"#DejaVuSans-101\"/>\n     </g>\n    </g>\n    <g id=\"line2d_18\">\n     <path d=\"M 267.379687 210.060312 \nL 287.379687 210.060312 \n\" style=\"fill:none;stroke:#ff7f0e;stroke-linecap:square;stroke-width:1.5;\"/>\n    </g>\n    <g id=\"line2d_19\"/>\n    <g id=\"text_17\">\n     <!-- Validation Score -->\n     <g transform=\"translate(295.379687 213.560312)scale(0.1 -0.1)\">\n      <use xlink:href=\"#DejaVuSans-86\"/>\n      <use x=\"60.658203\" xlink:href=\"#DejaVuSans-97\"/>\n      <use x=\"121.9375\" xlink:href=\"#DejaVuSans-108\"/>\n      <use x=\"149.720703\" xlink:href=\"#DejaVuSans-105\"/>\n      <use x=\"177.503906\" xlink:href=\"#DejaVuSans-100\"/>\n      <use x=\"240.980469\" xlink:href=\"#DejaVuSans-97\"/>\n      <use x=\"302.259766\" xlink:href=\"#DejaVuSans-116\"/>\n      <use x=\"341.46875\" xlink:href=\"#DejaVuSans-105\"/>\n      <use x=\"369.251953\" xlink:href=\"#DejaVuSans-111\"/>\n      <use x=\"430.433594\" xlink:href=\"#DejaVuSans-110\"/>\n      <use x=\"493.8125\" xlink:href=\"#DejaVuSans-32\"/>\n      <use x=\"525.599609\" xlink:href=\"#DejaVuSans-83\"/>\n      <use x=\"589.076172\" xlink:href=\"#DejaVuSans-99\"/>\n      <use x=\"644.056641\" xlink:href=\"#DejaVuSans-111\"/>\n      <use x=\"705.238281\" xlink:href=\"#DejaVuSans-114\"/>\n      <use x=\"744.101562\" xlink:href=\"#DejaVuSans-101\"/>\n     </g>\n    </g>\n   </g>\n  </g>\n </g>\n <defs>\n  <clipPath id=\"p977b827a28\">\n   <rect height=\"217.44\" width=\"334.8\" x=\"50.14375\" y=\"7.2\"/>\n  </clipPath>\n </defs>\n</svg>\n",
      "text/plain": [
       "<Figure size 432x288 with 1 Axes>"
      ]
     },
     "metadata": {
      "needs_background": "light"
     },
     "output_type": "display_data"
    }
   ],
   "source": [
    "plot_scores(param_to_scores)"
   ]
  },
  {
   "cell_type": "markdown",
   "metadata": {},
   "source": [
    "### 2.3 Evaluation of Different Classifiers (8 Points)"
   ]
  },
  {
   "cell_type": "markdown",
   "metadata": {},
   "source": [
    "The code above for the k-fold cross-validation already contains the lines for the training of 4 different classifiers:\n",
    "\n",
    "* [`DecisionTreeClassifier`](https://scikit-learn.org/stable/modules/generated/sklearn.tree.DecisionTreeClassifier.html) with `max_depth` as hyperparameter\n",
    "\n",
    "* [`RandomForestClassifier`](https://scikit-learn.org/stable/modules/generated/sklearn.ensemble.RandomForestClassifier.html) with `max_depth` as hyperparameter\n",
    "\n",
    "* [`GradientBoostingClassifier`](https://scikit-learn.org/stable/modules/generated/sklearn.ensemble.GradientBoostingClassifier.html) with `max_depth` as hyperparameter\n",
    "\n",
    "* [`KNeighborsClassifier`](https://scikit-learn.org/stable/modules/generated/sklearn.neighbors.KNeighborsClassifier.html) with `n_neighbbors` as hyperparameter\n"
   ]
  },
  {
   "cell_type": "markdown",
   "metadata": {},
   "source": [
    "**Run the k-fold cross validation for all 4 classifiers and compare and discuss the results.** You should see quite a number of differences regarding runtimes, issues of overfitting and underfitting, overall performance, etc. Some hints:\n",
    "\n",
    "* Start with a sample size of 10% (`sample_size = 0.1`) of the dataset to see if everything is working; to solve this task, please use the whole data (`sample size =1.0`)\n",
    "* Use the methods `plot_scores()` and `plot_validation_results` to visualize the results; save the 2 plots for each classifiers as images so you can easily compare them side by side (there's no need to submit the images later!)\n",
    "\n",
    "**Your answer:**"
   ]
  },
  {
   "cell_type": "markdown",
   "metadata": {},
   "source": [
    "Differences\n",
    "\n",
    "(1) Runtimes\n",
    "\n",
    "DecisionTreeClassifier runtime is 18.8s (Wall time), which is not expensive to train and test. \n",
    "\n",
    "RandomForestClassifier runtime is slower as 4min 56s, might because it has more trees that needed to be processed. \n",
    "\n",
    "GradientBoostingClassifier runtime is long: 47min 22s. While bagging(random forest) trees are trees can be trained in parallel, Boosting trees are trained in sequence which takes longer time.\n",
    "\n",
    "KNeighborsClassifier runtime is slowest: 1h 2min 48s(Wall time). As the feature dimension is high and computing distances between features is very expensive in this case.\n",
    "\n",
    "(2) Overfitting and underfitting\n",
    "\n",
    "DecisionTreeClassifier is more possible to overfit with a large tree. In this case, when max_depth>10, it's overfitting and the F1 score and validation score start to decrease.\n",
    "\n",
    "Random Forest also receives best F1 score when the max_depth is about 12. It is less likely to overfit as more trees result in a more robust model. But still the validation score stops to increase when max_depth is about 10 while the training score keeps to increase until max_depth reaches 20.\n",
    "\n",
    "Compared to decision tree and random forest, GradientBoostingClassifier appears to be easier to overfit and it's more sensitive to noise data. It also tend to be harder to tune than random forest. The training F1 score reaches 100 when max_depth = 12 while validation F1 score starts to decrease when max_depth >= 5.\n",
    "\n",
    "KNeighborsClassifier: When the k is too small (1 or 2 in this case), predictions are sensitive to outliers and tend to overfitting. When the k is large, the regression line becomes smooth and it tends to underfitting.(The training score decreases while the validation score increases.)\n",
    "\n",
    "\n",
    "\n",
    "(3) Overall Performance\n",
    "\n",
    "Gradient boosting seems to have overall best performance with best accuracy and score. It's best F1 training score is 1 and best F1 validation score is 0.887. It can perform better compared to other classifiers with good hyperparameter(in this case max_depth) setting.\n",
    "\n",
    "Decision tree and Random Forest also reach best F1 training score as 1. The best F1 validation score of decision tree is 0.869. And the best F1 validation score of random forest is 0.882, slightly lower than gradient boosting. Random Forest uses feature sampling results into lower variance and higher accuracy.\n",
    "\n",
    "KNN's best F1 training score is 1 when k = 1(overfitting), and best F1 validation score is 0.867 when k = 15(F1 training score: 0.879). KNN requires that the distance can be meaningfully calculated, and that might affect performance. And in this case there are many features, so we can see from the diagram the prediction scores converge. Distances between some of the features cannot be meaningfully calculated which might influence the performance.\n",
    "\n",
    "(4) Interpretability\n",
    "\n",
    "Decision Tree and KNN is very intuitive and easy to read/interpret, while Gradient Boosting and Random Forest is complicated to interpret (Gradient Boosting even less than random forest)."
   ]
  },
  {
   "cell_type": "markdown",
   "metadata": {},
   "source": [
    "--------------------------------------------"
   ]
  },
  {
   "cell_type": "markdown",
   "metadata": {},
   "source": [
    "### 2.4 Towards Improving `MyDecisionTree` (8 Points)\n",
    "\n",
    "While your Decision Tree works alright on the IRIS dataset, it's only a basic implementation and naturally has its limitations. This part looks into two of these limitations, as well as potential solutions to address them. (**Note:** There will be no need need for any implementation!)"
   ]
  },
  {
   "cell_type": "markdown",
   "metadata": {},
   "source": [
    "**2.4 a) (4 Points)** The code above for the k-fold cross validation already contains the line for training your `MyDecisionTree` classifier. When you run it on even a small sample size of 1% (`sample_size = 0.01`) of the dataset, you will notice the very poor runtimes (compared to scikit-learn's [`DecisionTreeClassifier`](https://scikit-learn.org/stable/modules/generated/sklearn.tree.DecisionTreeClassifier.html))\n",
    "\n",
    "**Identify the cause(s) of the poor runtime in the code of `MyDecisionTree` and propose suitable optimizations!** You can speculate as long as you can make good arguments. Your solutions may include heuristics that do not necessarily guarantee the same results as the current implementation.\n",
    "\n",
    "**Your answer:**"
   ]
  },
  {
   "cell_type": "markdown",
   "metadata": {},
   "source": [
    "The runtime for myDecisionTree is 49.9s (sample_size = 0.01), much longer than DecisionTreeClassifier (only 188 ms).\n",
    "\n",
    "Possible causes:\n",
    "- DecisionTreeClassifier might have different early stopping criteria and pruning strategies which improve tree's simplicity and speed\n",
    "- DecisionTreeClassifier might restrict nodes size of whole tree besides max_depth\n",
    "- There are too many features when considering best split. myDecisionTree will consider them all which might slow down the process\n",
    "- When making prediction, DecisionTreeClassifier might use search strategies such as build depth-first tree to improve efficiency \n",
    "\n",
    "Propose optimizations:\n",
    "- 1. Instead of stop splitting when gini impurity of spliting decreases compared to orginal node's gini score, we can set a threshold for minimum decrease of impurity. This way, a node will only split if the impurity decrease is greater than this threshold. \n",
    "- 2. We can also set a threshold for minimum impurity to split. A node will only split if its impurity is above the threshold (early stopping), otherwise it's a leaf.\n",
    "- 3. Define pre-sorting strategy when finding spliting. As we set maximum depth of the tree, sorting data in advance might sometimes help speed up the process of finding the optimal spliting (depending on the size of tree)\n",
    "- 4. Set a max_feature_num value to restrict the nums of features to consider when finding best split. For example, if not specified by user, we only consider sqrt(nums_of_feature) features (choosing randomly) when looking for a best split.\n",
    "- 5. Restrict minimum samples to consider as a leaf. When we find a split, its leaf node must have at least minimum_samples_num at each of left and right branches.\n",
    "- 6. If we set restriction threshold of max_depth or max_leaf_nodes of a tree, we can use best first to build a tree to improve searching efficiency; otherwise we can use depth first strategy as DFS is usually faster in this case\n"
   ]
  },
  {
   "cell_type": "markdown",
   "metadata": {},
   "source": [
    "**2.4 b) (4 Points)** `MyDecisionTree` only supports numerical features. However, we saw in the lecture that Decision Trees in general work perfectly fine with categorical features; the slides included examples of splitting and scoring nominal and ordinal features. The problem is that the methods for splitting depend on the type of a feature, and the Decision Tree classifier does not *know* which type each feature is. A \"manual\" solution would be to explicitly specify the type of each features, for example like\n",
    "\n",
    "`classifier.fit(X_train, y_train, feature_types=[RATIO, RATIO, NOMINAL, RATIO, ORDINAL, INTERVAL])`\n",
    "\n",
    "assuming that `X_train` has 6 features; see Lecture 1 for the 4 different feature types. However, such manual specification can be very tedious particularly when the feature set frequently changes during extensive evaluations.\n",
    "\n",
    "**Propose an algorithm (in pseudo code) to automatically identify the type of a feature!** Your algorithm won't be foolproof and 100% correct in all cases -- if such a perfect algorithm for this task would exist it would already be commonplace. However, try to identify meaningful rules or heuristics to identify the the type of a feature, but also discuss any cases that can NOT be solved, at least in practice. (Hint: Approach this problem as if you were given a dataset without any documentation and even without the names of features -- that is, you only know the data type and values of the features.)\n",
    "\n",
    "**Your answer:**"
   ]
  },
  {
   "cell_type": "code",
   "execution_count": null,
   "metadata": {},
   "outputs": [],
   "source": []
  }
 ],
 "metadata": {
  "kernelspec": {
   "display_name": "PyCharm (cs5228-2020-semester-2-final-project)",
   "language": "python",
   "name": "pycharm-95368f8"
  },
  "language_info": {
   "codemirror_mode": {
    "name": "ipython",
    "version": 3
   },
   "file_extension": ".py",
   "mimetype": "text/x-python",
   "name": "python",
   "nbconvert_exporter": "python",
   "pygments_lexer": "ipython3",
   "version": "3.9.2-final"
  }
 },
 "nbformat": 4,
 "nbformat_minor": 4
}
