{
 "cells": [
  {
   "cell_type": "markdown",
   "metadata": {},
   "source": [
    "# Classification & Regression part 2\n"
   ]
  },
  {
   "cell_type": "markdown",
   "metadata": {},
   "source": [
    "### Setting up the Notebook"
   ]
  },
  {
   "cell_type": "code",
   "execution_count": 2,
   "metadata": {},
   "outputs": [],
   "source": [
    "# Some more magic so that the notebook will reload external python modules;\n",
    "# see http://stackoverflow.com/questions/1907993/autoreload-of-modules-in-ipython\n",
    "%load_ext autoreload\n",
    "%autoreload 2"
   ]
  },
  {
   "cell_type": "code",
   "execution_count": 1,
   "metadata": {},
   "outputs": [],
   "source": [
    "%matplotlib notebook"
   ]
  },
  {
   "cell_type": "code",
   "execution_count": 2,
   "metadata": {},
   "outputs": [],
   "source": [
    "import numpy as np\n",
    "import pandas as pd\n",
    "import matplotlib.pyplot as plt\n",
    "\n",
    "from sklearn.preprocessing import StandardScaler\n",
    "from sklearn.model_selection import GridSearchCV, train_test_split\n",
    "from sklearn.metrics import f1_score\n",
    "from sklearn.datasets import load_digits\n",
    "\n",
    "from sklearn.neighbors import KNeighborsClassifier\n",
    "from sklearn.tree import DecisionTreeClassifier\n",
    "from sklearn.ensemble import RandomForestClassifier, GradientBoostingClassifier, AdaBoostClassifier\n",
    "from sklearn.linear_model import LogisticRegression\n",
    "\n",
    "\n",
    "from src.linear import MyLinearRegression"
   ]
  },
  {
   "cell_type": "markdown",
   "metadata": {},
   "source": [
    "## 1 Implementing Linear Regression (20 Points)"
   ]
  },
  {
   "cell_type": "markdown",
   "metadata": {},
   "source": [
    "#### Creating Some Toy Data for Testing & Debugging\n",
    "\n",
    "The following toy data is CSI example used in the lecture, where the goal is to estimate a person's height based on the size of a shoe print. So 20 (shoe print size, height)-pairs have been collected."
   ]
  },
  {
   "cell_type": "code",
   "execution_count": 3,
   "metadata": {},
   "outputs": [],
   "source": [
    "data = np.array([\n",
    "    (31.3, 180.3), (29.7, 175.3), (31.3, 184.8), (31.8, 177.8),\n",
    "    (31.4, 182.3), (31.9, 185.4), (31.8, 180.3), (31.0, 175.5),\n",
    "    (29.7, 177.8), (31.4, 185.4), (32.4, 190.5), (33.6, 195.0),\n",
    "    (30.2, 175.3), (30.4, 180.3), (27.6, 172.7), (31.8, 182.9),\n",
    "    (31.3, 189.2), (34.5, 193.7), (28.9, 170.3), (28.2, 173.8)\n",
    "])\n",
    "\n",
    "X = data[:,0].reshape(-1, 1)\n",
    "y = data[:,1].reshape(-1, 1)"
   ]
  },
  {
   "cell_type": "markdown",
   "metadata": {},
   "source": [
    "We can visualize the data using a simple scatter plot."
   ]
  },
  {
   "cell_type": "code",
   "execution_count": 4,
   "metadata": {
    "scrolled": false
   },
   "outputs": [
    {
     "data": {
      "image/png": "[encoded data removed]",
      "image/svg+xml": "<?xml version=\"1.0\" encoding=\"utf-8\" standalone=\"no\"?>\n<!DOCTYPE svg PUBLIC \"-//W3C//DTD SVG 1.1//EN\"\n  \"http://www.w3.org/Graphics/SVG/1.1/DTD/svg11.dtd\">\n<!-- Created with matplotlib (https://matplotlib.org/) -->\n<svg height=\"280.653281pt\" version=\"1.1\" viewBox=\"0 0 425.2575 280.653281\" width=\"425.2575pt\" xmlns=\"http://www.w3.org/2000/svg\" xmlns:xlink=\"http://www.w3.org/1999/xlink\">\n <metadata>\n  <rdf:RDF xmlns:cc=\"http://creativecommons.org/ns#\" xmlns:dc=\"http://purl.org/dc/elements/1.1/\" xmlns:rdf=\"http://www.w3.org/1999/02/22-rdf-syntax-ns#\">\n   <cc:Work>\n    <dc:type rdf:resource=\"http://purl.org/dc/dcmitype/StillImage\"/>\n    <dc:date>2021-03-25T15:00:09.439964</dc:date>\n    <dc:format>image/svg+xml</dc:format>\n    <dc:creator>\n     <cc:Agent>\n      <dc:title>Matplotlib v3.3.4, https://matplotlib.org/</dc:title>\n     </cc:Agent>\n    </dc:creator>\n   </cc:Work>\n  </rdf:RDF>\n </metadata>\n <defs>\n  <style type=\"text/css\">*{stroke-linecap:butt;stroke-linejoin:round;}</style>\n </defs>\n <g id=\"figure_1\">\n  <g id=\"patch_1\">\n   <path d=\"M 0 280.653281 \nL 425.2575 280.653281 \nL 425.2575 0 \nL 0 0 \nz\n\" style=\"fill:none;\"/>\n  </g>\n  <g id=\"axes_1\">\n   <g id=\"patch_2\">\n    <path d=\"M 60.4075 233.418906 \nL 418.0575 233.418906 \nL 418.0575 12.518906 \nL 60.4075 12.518906 \nz\n\" style=\"fill:#ffffff;\"/>\n   </g>\n   <g id=\"PathCollection_1\">\n    <defs>\n     <path d=\"M 0 3.535534 \nC 0.937635 3.535534 1.836992 3.163008 2.5 2.5 \nC 3.163008 1.836992 3.535534 0.937635 3.535534 0 \nC 3.535534 -0.937635 3.163008 -1.836992 2.5 -2.5 \nC 1.836992 -3.163008 0.937635 -3.535534 0 -3.535534 \nC -0.937635 -3.535534 -1.836992 -3.163008 -2.5 -2.5 \nC -3.163008 -1.836992 -3.535534 -0.937635 -3.535534 0 \nC -3.535534 0.937635 -3.163008 1.836992 -2.5 2.5 \nC -1.836992 3.163008 -0.937635 3.535534 0 3.535534 \nz\n\" id=\"mee0cfacb14\" style=\"stroke:#1f77b4;\"/>\n    </defs>\n    <g clip-path=\"url(#p9943297398)\">\n     <use style=\"fill:#1f77b4;stroke:#1f77b4;\" x=\"251.012803\" xlink:href=\"#mee0cfacb14\" y=\"136.854049\"/>\n     <use style=\"fill:#1f77b4;stroke:#1f77b4;\" x=\"175.618864\" xlink:href=\"#mee0cfacb14\" y=\"168.411192\"/>\n     <use style=\"fill:#1f77b4;stroke:#1f77b4;\" x=\"251.012803\" xlink:href=\"#mee0cfacb14\" y=\"108.452621\"/>\n     <use style=\"fill:#1f77b4;stroke:#1f77b4;\" x=\"274.573409\" xlink:href=\"#mee0cfacb14\" y=\"152.632621\"/>\n     <use style=\"fill:#1f77b4;stroke:#1f77b4;\" x=\"255.724924\" xlink:href=\"#mee0cfacb14\" y=\"124.231192\"/>\n     <use style=\"fill:#1f77b4;stroke:#1f77b4;\" x=\"279.28553\" xlink:href=\"#mee0cfacb14\" y=\"104.665763\"/>\n     <use style=\"fill:#1f77b4;stroke:#1f77b4;\" x=\"274.573409\" xlink:href=\"#mee0cfacb14\" y=\"136.854049\"/>\n     <use style=\"fill:#1f77b4;stroke:#1f77b4;\" x=\"236.876439\" xlink:href=\"#mee0cfacb14\" y=\"167.148906\"/>\n     <use style=\"fill:#1f77b4;stroke:#1f77b4;\" x=\"175.618864\" xlink:href=\"#mee0cfacb14\" y=\"152.632621\"/>\n     <use style=\"fill:#1f77b4;stroke:#1f77b4;\" x=\"255.724924\" xlink:href=\"#mee0cfacb14\" y=\"104.665763\"/>\n     <use style=\"fill:#1f77b4;stroke:#1f77b4;\" x=\"302.846136\" xlink:href=\"#mee0cfacb14\" y=\"72.477478\"/>\n     <use style=\"fill:#1f77b4;stroke:#1f77b4;\" x=\"359.391591\" xlink:href=\"#mee0cfacb14\" y=\"44.076049\"/>\n     <use style=\"fill:#1f77b4;stroke:#1f77b4;\" x=\"199.17947\" xlink:href=\"#mee0cfacb14\" y=\"168.411192\"/>\n     <use style=\"fill:#1f77b4;stroke:#1f77b4;\" x=\"208.603712\" xlink:href=\"#mee0cfacb14\" y=\"136.854049\"/>\n     <use style=\"fill:#1f77b4;stroke:#1f77b4;\" x=\"76.664318\" xlink:href=\"#mee0cfacb14\" y=\"184.820906\"/>\n     <use style=\"fill:#1f77b4;stroke:#1f77b4;\" x=\"274.573409\" xlink:href=\"#mee0cfacb14\" y=\"120.444335\"/>\n     <use style=\"fill:#1f77b4;stroke:#1f77b4;\" x=\"251.012803\" xlink:href=\"#mee0cfacb14\" y=\"80.682335\"/>\n     <use style=\"fill:#1f77b4;stroke:#1f77b4;\" x=\"401.800682\" xlink:href=\"#mee0cfacb14\" y=\"52.280906\"/>\n     <use style=\"fill:#1f77b4;stroke:#1f77b4;\" x=\"137.921894\" xlink:href=\"#mee0cfacb14\" y=\"199.968335\"/>\n     <use style=\"fill:#1f77b4;stroke:#1f77b4;\" x=\"104.937045\" xlink:href=\"#mee0cfacb14\" y=\"177.878335\"/>\n    </g>\n   </g>\n   <g id=\"matplotlib.axis_1\">\n    <g id=\"xtick_1\">\n     <g id=\"line2d_1\">\n      <defs>\n       <path d=\"M 0 0 \nL 0 3.5 \n\" id=\"m25fbdcb614\" style=\"stroke:#000000;stroke-width:0.8;\"/>\n      </defs>\n      <g>\n       <use style=\"stroke:#000000;stroke-width:0.8;\" x=\"95.512803\" xlink:href=\"#m25fbdcb614\" y=\"233.418906\"/>\n      </g>\n     </g>\n     <g id=\"text_1\">\n      <!-- 28 -->\n      <g transform=\"translate(86.605303 251.056719)scale(0.14 -0.14)\">\n       <defs>\n        <path d=\"M 19.1875 8.296875 \nL 53.609375 8.296875 \nL 53.609375 0 \nL 7.328125 0 \nL 7.328125 8.296875 \nQ 12.9375 14.109375 22.625 23.890625 \nQ 32.328125 33.6875 34.8125 36.53125 \nQ 39.546875 41.84375 41.421875 45.53125 \nQ 43.3125 49.21875 43.3125 52.78125 \nQ 43.3125 58.59375 39.234375 62.25 \nQ 35.15625 65.921875 28.609375 65.921875 \nQ 23.96875 65.921875 18.8125 64.3125 \nQ 13.671875 62.703125 7.8125 59.421875 \nL 7.8125 69.390625 \nQ 13.765625 71.78125 18.9375 73 \nQ 24.125 74.21875 28.421875 74.21875 \nQ 39.75 74.21875 46.484375 68.546875 \nQ 53.21875 62.890625 53.21875 53.421875 \nQ 53.21875 48.921875 51.53125 44.890625 \nQ 49.859375 40.875 45.40625 35.40625 \nQ 44.1875 33.984375 37.640625 27.21875 \nQ 31.109375 20.453125 19.1875 8.296875 \nz\n\" id=\"DejaVuSans-50\"/>\n        <path d=\"M 31.78125 34.625 \nQ 24.75 34.625 20.71875 30.859375 \nQ 16.703125 27.09375 16.703125 20.515625 \nQ 16.703125 13.921875 20.71875 10.15625 \nQ 24.75 6.390625 31.78125 6.390625 \nQ 38.8125 6.390625 42.859375 10.171875 \nQ 46.921875 13.96875 46.921875 20.515625 \nQ 46.921875 27.09375 42.890625 30.859375 \nQ 38.875 34.625 31.78125 34.625 \nz\nM 21.921875 38.8125 \nQ 15.578125 40.375 12.03125 44.71875 \nQ 8.5 49.078125 8.5 55.328125 \nQ 8.5 64.0625 14.71875 69.140625 \nQ 20.953125 74.21875 31.78125 74.21875 \nQ 42.671875 74.21875 48.875 69.140625 \nQ 55.078125 64.0625 55.078125 55.328125 \nQ 55.078125 49.078125 51.53125 44.71875 \nQ 48 40.375 41.703125 38.8125 \nQ 48.828125 37.15625 52.796875 32.3125 \nQ 56.78125 27.484375 56.78125 20.515625 \nQ 56.78125 9.90625 50.3125 4.234375 \nQ 43.84375 -1.421875 31.78125 -1.421875 \nQ 19.734375 -1.421875 13.25 4.234375 \nQ 6.78125 9.90625 6.78125 20.515625 \nQ 6.78125 27.484375 10.78125 32.3125 \nQ 14.796875 37.15625 21.921875 38.8125 \nz\nM 18.3125 54.390625 \nQ 18.3125 48.734375 21.84375 45.5625 \nQ 25.390625 42.390625 31.78125 42.390625 \nQ 38.140625 42.390625 41.71875 45.5625 \nQ 45.3125 48.734375 45.3125 54.390625 \nQ 45.3125 60.0625 41.71875 63.234375 \nQ 38.140625 66.40625 31.78125 66.40625 \nQ 25.390625 66.40625 21.84375 63.234375 \nQ 18.3125 60.0625 18.3125 54.390625 \nz\n\" id=\"DejaVuSans-56\"/>\n       </defs>\n       <use xlink:href=\"#DejaVuSans-50\"/>\n       <use x=\"63.623047\" xlink:href=\"#DejaVuSans-56\"/>\n      </g>\n     </g>\n    </g>\n    <g id=\"xtick_2\">\n     <g id=\"line2d_2\">\n      <g>\n       <use style=\"stroke:#000000;stroke-width:0.8;\" x=\"142.634015\" xlink:href=\"#m25fbdcb614\" y=\"233.418906\"/>\n      </g>\n     </g>\n     <g id=\"text_2\">\n      <!-- 29 -->\n      <g transform=\"translate(133.726515 251.056719)scale(0.14 -0.14)\">\n       <defs>\n        <path d=\"M 10.984375 1.515625 \nL 10.984375 10.5 \nQ 14.703125 8.734375 18.5 7.8125 \nQ 22.3125 6.890625 25.984375 6.890625 \nQ 35.75 6.890625 40.890625 13.453125 \nQ 46.046875 20.015625 46.78125 33.40625 \nQ 43.953125 29.203125 39.59375 26.953125 \nQ 35.25 24.703125 29.984375 24.703125 \nQ 19.046875 24.703125 12.671875 31.3125 \nQ 6.296875 37.9375 6.296875 49.421875 \nQ 6.296875 60.640625 12.9375 67.421875 \nQ 19.578125 74.21875 30.609375 74.21875 \nQ 43.265625 74.21875 49.921875 64.515625 \nQ 56.59375 54.828125 56.59375 36.375 \nQ 56.59375 19.140625 48.40625 8.859375 \nQ 40.234375 -1.421875 26.421875 -1.421875 \nQ 22.703125 -1.421875 18.890625 -0.6875 \nQ 15.09375 0.046875 10.984375 1.515625 \nz\nM 30.609375 32.421875 \nQ 37.25 32.421875 41.125 36.953125 \nQ 45.015625 41.5 45.015625 49.421875 \nQ 45.015625 57.28125 41.125 61.84375 \nQ 37.25 66.40625 30.609375 66.40625 \nQ 23.96875 66.40625 20.09375 61.84375 \nQ 16.21875 57.28125 16.21875 49.421875 \nQ 16.21875 41.5 20.09375 36.953125 \nQ 23.96875 32.421875 30.609375 32.421875 \nz\n\" id=\"DejaVuSans-57\"/>\n       </defs>\n       <use xlink:href=\"#DejaVuSans-50\"/>\n       <use x=\"63.623047\" xlink:href=\"#DejaVuSans-57\"/>\n      </g>\n     </g>\n    </g>\n    <g id=\"xtick_3\">\n     <g id=\"line2d_3\">\n      <g>\n       <use style=\"stroke:#000000;stroke-width:0.8;\" x=\"189.755227\" xlink:href=\"#m25fbdcb614\" y=\"233.418906\"/>\n      </g>\n     </g>\n     <g id=\"text_3\">\n      <!-- 30 -->\n      <g transform=\"translate(180.847727 251.056719)scale(0.14 -0.14)\">\n       <defs>\n        <path d=\"M 40.578125 39.3125 \nQ 47.65625 37.796875 51.625 33 \nQ 55.609375 28.21875 55.609375 21.1875 \nQ 55.609375 10.40625 48.1875 4.484375 \nQ 40.765625 -1.421875 27.09375 -1.421875 \nQ 22.515625 -1.421875 17.65625 -0.515625 \nQ 12.796875 0.390625 7.625 2.203125 \nL 7.625 11.71875 \nQ 11.71875 9.328125 16.59375 8.109375 \nQ 21.484375 6.890625 26.8125 6.890625 \nQ 36.078125 6.890625 40.9375 10.546875 \nQ 45.796875 14.203125 45.796875 21.1875 \nQ 45.796875 27.640625 41.28125 31.265625 \nQ 36.765625 34.90625 28.71875 34.90625 \nL 20.21875 34.90625 \nL 20.21875 43.015625 \nL 29.109375 43.015625 \nQ 36.375 43.015625 40.234375 45.921875 \nQ 44.09375 48.828125 44.09375 54.296875 \nQ 44.09375 59.90625 40.109375 62.90625 \nQ 36.140625 65.921875 28.71875 65.921875 \nQ 24.65625 65.921875 20.015625 65.03125 \nQ 15.375 64.15625 9.8125 62.3125 \nL 9.8125 71.09375 \nQ 15.4375 72.65625 20.34375 73.4375 \nQ 25.25 74.21875 29.59375 74.21875 \nQ 40.828125 74.21875 47.359375 69.109375 \nQ 53.90625 64.015625 53.90625 55.328125 \nQ 53.90625 49.265625 50.4375 45.09375 \nQ 46.96875 40.921875 40.578125 39.3125 \nz\n\" id=\"DejaVuSans-51\"/>\n        <path d=\"M 31.78125 66.40625 \nQ 24.171875 66.40625 20.328125 58.90625 \nQ 16.5 51.421875 16.5 36.375 \nQ 16.5 21.390625 20.328125 13.890625 \nQ 24.171875 6.390625 31.78125 6.390625 \nQ 39.453125 6.390625 43.28125 13.890625 \nQ 47.125 21.390625 47.125 36.375 \nQ 47.125 51.421875 43.28125 58.90625 \nQ 39.453125 66.40625 31.78125 66.40625 \nz\nM 31.78125 74.21875 \nQ 44.046875 74.21875 50.515625 64.515625 \nQ 56.984375 54.828125 56.984375 36.375 \nQ 56.984375 17.96875 50.515625 8.265625 \nQ 44.046875 -1.421875 31.78125 -1.421875 \nQ 19.53125 -1.421875 13.0625 8.265625 \nQ 6.59375 17.96875 6.59375 36.375 \nQ 6.59375 54.828125 13.0625 64.515625 \nQ 19.53125 74.21875 31.78125 74.21875 \nz\n\" id=\"DejaVuSans-48\"/>\n       </defs>\n       <use xlink:href=\"#DejaVuSans-51\"/>\n       <use x=\"63.623047\" xlink:href=\"#DejaVuSans-48\"/>\n      </g>\n     </g>\n    </g>\n    <g id=\"xtick_4\">\n     <g id=\"line2d_4\">\n      <g>\n       <use style=\"stroke:#000000;stroke-width:0.8;\" x=\"236.876439\" xlink:href=\"#m25fbdcb614\" y=\"233.418906\"/>\n      </g>\n     </g>\n     <g id=\"text_4\">\n      <!-- 31 -->\n      <g transform=\"translate(227.968939 251.056719)scale(0.14 -0.14)\">\n       <defs>\n        <path d=\"M 12.40625 8.296875 \nL 28.515625 8.296875 \nL 28.515625 63.921875 \nL 10.984375 60.40625 \nL 10.984375 69.390625 \nL 28.421875 72.90625 \nL 38.28125 72.90625 \nL 38.28125 8.296875 \nL 54.390625 8.296875 \nL 54.390625 0 \nL 12.40625 0 \nz\n\" id=\"DejaVuSans-49\"/>\n       </defs>\n       <use xlink:href=\"#DejaVuSans-51\"/>\n       <use x=\"63.623047\" xlink:href=\"#DejaVuSans-49\"/>\n      </g>\n     </g>\n    </g>\n    <g id=\"xtick_5\">\n     <g id=\"line2d_5\">\n      <g>\n       <use style=\"stroke:#000000;stroke-width:0.8;\" x=\"283.997652\" xlink:href=\"#m25fbdcb614\" y=\"233.418906\"/>\n      </g>\n     </g>\n     <g id=\"text_5\">\n      <!-- 32 -->\n      <g transform=\"translate(275.090152 251.056719)scale(0.14 -0.14)\">\n       <use xlink:href=\"#DejaVuSans-51\"/>\n       <use x=\"63.623047\" xlink:href=\"#DejaVuSans-50\"/>\n      </g>\n     </g>\n    </g>\n    <g id=\"xtick_6\">\n     <g id=\"line2d_6\">\n      <g>\n       <use style=\"stroke:#000000;stroke-width:0.8;\" x=\"331.118864\" xlink:href=\"#m25fbdcb614\" y=\"233.418906\"/>\n      </g>\n     </g>\n     <g id=\"text_6\">\n      <!-- 33 -->\n      <g transform=\"translate(322.211364 251.056719)scale(0.14 -0.14)\">\n       <use xlink:href=\"#DejaVuSans-51\"/>\n       <use x=\"63.623047\" xlink:href=\"#DejaVuSans-51\"/>\n      </g>\n     </g>\n    </g>\n    <g id=\"xtick_7\">\n     <g id=\"line2d_7\">\n      <g>\n       <use style=\"stroke:#000000;stroke-width:0.8;\" x=\"378.240076\" xlink:href=\"#m25fbdcb614\" y=\"233.418906\"/>\n      </g>\n     </g>\n     <g id=\"text_7\">\n      <!-- 34 -->\n      <g transform=\"translate(369.332576 251.056719)scale(0.14 -0.14)\">\n       <defs>\n        <path d=\"M 37.796875 64.3125 \nL 12.890625 25.390625 \nL 37.796875 25.390625 \nz\nM 35.203125 72.90625 \nL 47.609375 72.90625 \nL 47.609375 25.390625 \nL 58.015625 25.390625 \nL 58.015625 17.1875 \nL 47.609375 17.1875 \nL 47.609375 0 \nL 37.796875 0 \nL 37.796875 17.1875 \nL 4.890625 17.1875 \nL 4.890625 26.703125 \nz\n\" id=\"DejaVuSans-52\"/>\n       </defs>\n       <use xlink:href=\"#DejaVuSans-51\"/>\n       <use x=\"63.623047\" xlink:href=\"#DejaVuSans-52\"/>\n      </g>\n     </g>\n    </g>\n    <g id=\"text_8\">\n     <!-- shoe print length (cm) -->\n     <g transform=\"translate(149.82 270.125781)scale(0.16 -0.16)\">\n      <defs>\n       <path d=\"M 44.28125 53.078125 \nL 44.28125 44.578125 \nQ 40.484375 46.53125 36.375 47.5 \nQ 32.28125 48.484375 27.875 48.484375 \nQ 21.1875 48.484375 17.84375 46.4375 \nQ 14.5 44.390625 14.5 40.28125 \nQ 14.5 37.15625 16.890625 35.375 \nQ 19.28125 33.59375 26.515625 31.984375 \nL 29.59375 31.296875 \nQ 39.15625 29.25 43.1875 25.515625 \nQ 47.21875 21.78125 47.21875 15.09375 \nQ 47.21875 7.46875 41.1875 3.015625 \nQ 35.15625 -1.421875 24.609375 -1.421875 \nQ 20.21875 -1.421875 15.453125 -0.5625 \nQ 10.6875 0.296875 5.421875 2 \nL 5.421875 11.28125 \nQ 10.40625 8.6875 15.234375 7.390625 \nQ 20.0625 6.109375 24.8125 6.109375 \nQ 31.15625 6.109375 34.5625 8.28125 \nQ 37.984375 10.453125 37.984375 14.40625 \nQ 37.984375 18.0625 35.515625 20.015625 \nQ 33.0625 21.96875 24.703125 23.78125 \nL 21.578125 24.515625 \nQ 13.234375 26.265625 9.515625 29.90625 \nQ 5.8125 33.546875 5.8125 39.890625 \nQ 5.8125 47.609375 11.28125 51.796875 \nQ 16.75 56 26.8125 56 \nQ 31.78125 56 36.171875 55.265625 \nQ 40.578125 54.546875 44.28125 53.078125 \nz\n\" id=\"DejaVuSans-115\"/>\n       <path d=\"M 54.890625 33.015625 \nL 54.890625 0 \nL 45.90625 0 \nL 45.90625 32.71875 \nQ 45.90625 40.484375 42.875 44.328125 \nQ 39.84375 48.1875 33.796875 48.1875 \nQ 26.515625 48.1875 22.3125 43.546875 \nQ 18.109375 38.921875 18.109375 30.90625 \nL 18.109375 0 \nL 9.078125 0 \nL 9.078125 75.984375 \nL 18.109375 75.984375 \nL 18.109375 46.1875 \nQ 21.34375 51.125 25.703125 53.5625 \nQ 30.078125 56 35.796875 56 \nQ 45.21875 56 50.046875 50.171875 \nQ 54.890625 44.34375 54.890625 33.015625 \nz\n\" id=\"DejaVuSans-104\"/>\n       <path d=\"M 30.609375 48.390625 \nQ 23.390625 48.390625 19.1875 42.75 \nQ 14.984375 37.109375 14.984375 27.296875 \nQ 14.984375 17.484375 19.15625 11.84375 \nQ 23.34375 6.203125 30.609375 6.203125 \nQ 37.796875 6.203125 41.984375 11.859375 \nQ 46.1875 17.53125 46.1875 27.296875 \nQ 46.1875 37.015625 41.984375 42.703125 \nQ 37.796875 48.390625 30.609375 48.390625 \nz\nM 30.609375 56 \nQ 42.328125 56 49.015625 48.375 \nQ 55.71875 40.765625 55.71875 27.296875 \nQ 55.71875 13.875 49.015625 6.21875 \nQ 42.328125 -1.421875 30.609375 -1.421875 \nQ 18.84375 -1.421875 12.171875 6.21875 \nQ 5.515625 13.875 5.515625 27.296875 \nQ 5.515625 40.765625 12.171875 48.375 \nQ 18.84375 56 30.609375 56 \nz\n\" id=\"DejaVuSans-111\"/>\n       <path d=\"M 56.203125 29.59375 \nL 56.203125 25.203125 \nL 14.890625 25.203125 \nQ 15.484375 15.921875 20.484375 11.0625 \nQ 25.484375 6.203125 34.421875 6.203125 \nQ 39.59375 6.203125 44.453125 7.46875 \nQ 49.3125 8.734375 54.109375 11.28125 \nL 54.109375 2.78125 \nQ 49.265625 0.734375 44.1875 -0.34375 \nQ 39.109375 -1.421875 33.890625 -1.421875 \nQ 20.796875 -1.421875 13.15625 6.1875 \nQ 5.515625 13.8125 5.515625 26.8125 \nQ 5.515625 40.234375 12.765625 48.109375 \nQ 20.015625 56 32.328125 56 \nQ 43.359375 56 49.78125 48.890625 \nQ 56.203125 41.796875 56.203125 29.59375 \nz\nM 47.21875 32.234375 \nQ 47.125 39.59375 43.09375 43.984375 \nQ 39.0625 48.390625 32.421875 48.390625 \nQ 24.90625 48.390625 20.390625 44.140625 \nQ 15.875 39.890625 15.1875 32.171875 \nz\n\" id=\"DejaVuSans-101\"/>\n       <path id=\"DejaVuSans-32\"/>\n       <path d=\"M 18.109375 8.203125 \nL 18.109375 -20.796875 \nL 9.078125 -20.796875 \nL 9.078125 54.6875 \nL 18.109375 54.6875 \nL 18.109375 46.390625 \nQ 20.953125 51.265625 25.265625 53.625 \nQ 29.59375 56 35.59375 56 \nQ 45.5625 56 51.78125 48.09375 \nQ 58.015625 40.1875 58.015625 27.296875 \nQ 58.015625 14.40625 51.78125 6.484375 \nQ 45.5625 -1.421875 35.59375 -1.421875 \nQ 29.59375 -1.421875 25.265625 0.953125 \nQ 20.953125 3.328125 18.109375 8.203125 \nz\nM 48.6875 27.296875 \nQ 48.6875 37.203125 44.609375 42.84375 \nQ 40.53125 48.484375 33.40625 48.484375 \nQ 26.265625 48.484375 22.1875 42.84375 \nQ 18.109375 37.203125 18.109375 27.296875 \nQ 18.109375 17.390625 22.1875 11.75 \nQ 26.265625 6.109375 33.40625 6.109375 \nQ 40.53125 6.109375 44.609375 11.75 \nQ 48.6875 17.390625 48.6875 27.296875 \nz\n\" id=\"DejaVuSans-112\"/>\n       <path d=\"M 41.109375 46.296875 \nQ 39.59375 47.171875 37.8125 47.578125 \nQ 36.03125 48 33.890625 48 \nQ 26.265625 48 22.1875 43.046875 \nQ 18.109375 38.09375 18.109375 28.8125 \nL 18.109375 0 \nL 9.078125 0 \nL 9.078125 54.6875 \nL 18.109375 54.6875 \nL 18.109375 46.1875 \nQ 20.953125 51.171875 25.484375 53.578125 \nQ 30.03125 56 36.53125 56 \nQ 37.453125 56 38.578125 55.875 \nQ 39.703125 55.765625 41.0625 55.515625 \nz\n\" id=\"DejaVuSans-114\"/>\n       <path d=\"M 9.421875 54.6875 \nL 18.40625 54.6875 \nL 18.40625 0 \nL 9.421875 0 \nz\nM 9.421875 75.984375 \nL 18.40625 75.984375 \nL 18.40625 64.59375 \nL 9.421875 64.59375 \nz\n\" id=\"DejaVuSans-105\"/>\n       <path d=\"M 54.890625 33.015625 \nL 54.890625 0 \nL 45.90625 0 \nL 45.90625 32.71875 \nQ 45.90625 40.484375 42.875 44.328125 \nQ 39.84375 48.1875 33.796875 48.1875 \nQ 26.515625 48.1875 22.3125 43.546875 \nQ 18.109375 38.921875 18.109375 30.90625 \nL 18.109375 0 \nL 9.078125 0 \nL 9.078125 54.6875 \nL 18.109375 54.6875 \nL 18.109375 46.1875 \nQ 21.34375 51.125 25.703125 53.5625 \nQ 30.078125 56 35.796875 56 \nQ 45.21875 56 50.046875 50.171875 \nQ 54.890625 44.34375 54.890625 33.015625 \nz\n\" id=\"DejaVuSans-110\"/>\n       <path d=\"M 18.3125 70.21875 \nL 18.3125 54.6875 \nL 36.8125 54.6875 \nL 36.8125 47.703125 \nL 18.3125 47.703125 \nL 18.3125 18.015625 \nQ 18.3125 11.328125 20.140625 9.421875 \nQ 21.96875 7.515625 27.59375 7.515625 \nL 36.8125 7.515625 \nL 36.8125 0 \nL 27.59375 0 \nQ 17.1875 0 13.234375 3.875 \nQ 9.28125 7.765625 9.28125 18.015625 \nL 9.28125 47.703125 \nL 2.6875 47.703125 \nL 2.6875 54.6875 \nL 9.28125 54.6875 \nL 9.28125 70.21875 \nz\n\" id=\"DejaVuSans-116\"/>\n       <path d=\"M 9.421875 75.984375 \nL 18.40625 75.984375 \nL 18.40625 0 \nL 9.421875 0 \nz\n\" id=\"DejaVuSans-108\"/>\n       <path d=\"M 45.40625 27.984375 \nQ 45.40625 37.75 41.375 43.109375 \nQ 37.359375 48.484375 30.078125 48.484375 \nQ 22.859375 48.484375 18.828125 43.109375 \nQ 14.796875 37.75 14.796875 27.984375 \nQ 14.796875 18.265625 18.828125 12.890625 \nQ 22.859375 7.515625 30.078125 7.515625 \nQ 37.359375 7.515625 41.375 12.890625 \nQ 45.40625 18.265625 45.40625 27.984375 \nz\nM 54.390625 6.78125 \nQ 54.390625 -7.171875 48.1875 -13.984375 \nQ 42 -20.796875 29.203125 -20.796875 \nQ 24.46875 -20.796875 20.265625 -20.09375 \nQ 16.0625 -19.390625 12.109375 -17.921875 \nL 12.109375 -9.1875 \nQ 16.0625 -11.328125 19.921875 -12.34375 \nQ 23.78125 -13.375 27.78125 -13.375 \nQ 36.625 -13.375 41.015625 -8.765625 \nQ 45.40625 -4.15625 45.40625 5.171875 \nL 45.40625 9.625 \nQ 42.625 4.78125 38.28125 2.390625 \nQ 33.9375 0 27.875 0 \nQ 17.828125 0 11.671875 7.65625 \nQ 5.515625 15.328125 5.515625 27.984375 \nQ 5.515625 40.671875 11.671875 48.328125 \nQ 17.828125 56 27.875 56 \nQ 33.9375 56 38.28125 53.609375 \nQ 42.625 51.21875 45.40625 46.390625 \nL 45.40625 54.6875 \nL 54.390625 54.6875 \nz\n\" id=\"DejaVuSans-103\"/>\n       <path d=\"M 31 75.875 \nQ 24.46875 64.65625 21.28125 53.65625 \nQ 18.109375 42.671875 18.109375 31.390625 \nQ 18.109375 20.125 21.3125 9.0625 \nQ 24.515625 -2 31 -13.1875 \nL 23.1875 -13.1875 \nQ 15.875 -1.703125 12.234375 9.375 \nQ 8.59375 20.453125 8.59375 31.390625 \nQ 8.59375 42.28125 12.203125 53.3125 \nQ 15.828125 64.359375 23.1875 75.875 \nz\n\" id=\"DejaVuSans-40\"/>\n       <path d=\"M 48.78125 52.59375 \nL 48.78125 44.1875 \nQ 44.96875 46.296875 41.140625 47.34375 \nQ 37.3125 48.390625 33.40625 48.390625 \nQ 24.65625 48.390625 19.8125 42.84375 \nQ 14.984375 37.3125 14.984375 27.296875 \nQ 14.984375 17.28125 19.8125 11.734375 \nQ 24.65625 6.203125 33.40625 6.203125 \nQ 37.3125 6.203125 41.140625 7.25 \nQ 44.96875 8.296875 48.78125 10.40625 \nL 48.78125 2.09375 \nQ 45.015625 0.34375 40.984375 -0.53125 \nQ 36.96875 -1.421875 32.421875 -1.421875 \nQ 20.0625 -1.421875 12.78125 6.34375 \nQ 5.515625 14.109375 5.515625 27.296875 \nQ 5.515625 40.671875 12.859375 48.328125 \nQ 20.21875 56 33.015625 56 \nQ 37.15625 56 41.109375 55.140625 \nQ 45.0625 54.296875 48.78125 52.59375 \nz\n\" id=\"DejaVuSans-99\"/>\n       <path d=\"M 52 44.1875 \nQ 55.375 50.25 60.0625 53.125 \nQ 64.75 56 71.09375 56 \nQ 79.640625 56 84.28125 50.015625 \nQ 88.921875 44.046875 88.921875 33.015625 \nL 88.921875 0 \nL 79.890625 0 \nL 79.890625 32.71875 \nQ 79.890625 40.578125 77.09375 44.375 \nQ 74.3125 48.1875 68.609375 48.1875 \nQ 61.625 48.1875 57.5625 43.546875 \nQ 53.515625 38.921875 53.515625 30.90625 \nL 53.515625 0 \nL 44.484375 0 \nL 44.484375 32.71875 \nQ 44.484375 40.625 41.703125 44.40625 \nQ 38.921875 48.1875 33.109375 48.1875 \nQ 26.21875 48.1875 22.15625 43.53125 \nQ 18.109375 38.875 18.109375 30.90625 \nL 18.109375 0 \nL 9.078125 0 \nL 9.078125 54.6875 \nL 18.109375 54.6875 \nL 18.109375 46.1875 \nQ 21.1875 51.21875 25.484375 53.609375 \nQ 29.78125 56 35.6875 56 \nQ 41.65625 56 45.828125 52.96875 \nQ 50 49.953125 52 44.1875 \nz\n\" id=\"DejaVuSans-109\"/>\n       <path d=\"M 8.015625 75.875 \nL 15.828125 75.875 \nQ 23.140625 64.359375 26.78125 53.3125 \nQ 30.421875 42.28125 30.421875 31.390625 \nQ 30.421875 20.453125 26.78125 9.375 \nQ 23.140625 -1.703125 15.828125 -13.1875 \nL 8.015625 -13.1875 \nQ 14.5 -2 17.703125 9.0625 \nQ 20.90625 20.125 20.90625 31.390625 \nQ 20.90625 42.671875 17.703125 53.65625 \nQ 14.5 64.65625 8.015625 75.875 \nz\n\" id=\"DejaVuSans-41\"/>\n      </defs>\n      <use xlink:href=\"#DejaVuSans-115\"/>\n      <use x=\"52.099609\" xlink:href=\"#DejaVuSans-104\"/>\n      <use x=\"115.478516\" xlink:href=\"#DejaVuSans-111\"/>\n      <use x=\"176.660156\" xlink:href=\"#DejaVuSans-101\"/>\n      <use x=\"238.183594\" xlink:href=\"#DejaVuSans-32\"/>\n      <use x=\"269.970703\" xlink:href=\"#DejaVuSans-112\"/>\n      <use x=\"333.447266\" xlink:href=\"#DejaVuSans-114\"/>\n      <use x=\"374.560547\" xlink:href=\"#DejaVuSans-105\"/>\n      <use x=\"402.34375\" xlink:href=\"#DejaVuSans-110\"/>\n      <use x=\"465.722656\" xlink:href=\"#DejaVuSans-116\"/>\n      <use x=\"504.931641\" xlink:href=\"#DejaVuSans-32\"/>\n      <use x=\"536.71875\" xlink:href=\"#DejaVuSans-108\"/>\n      <use x=\"564.501953\" xlink:href=\"#DejaVuSans-101\"/>\n      <use x=\"626.025391\" xlink:href=\"#DejaVuSans-110\"/>\n      <use x=\"689.404297\" xlink:href=\"#DejaVuSans-103\"/>\n      <use x=\"752.880859\" xlink:href=\"#DejaVuSans-116\"/>\n      <use x=\"792.089844\" xlink:href=\"#DejaVuSans-104\"/>\n      <use x=\"855.46875\" xlink:href=\"#DejaVuSans-32\"/>\n      <use x=\"887.255859\" xlink:href=\"#DejaVuSans-40\"/>\n      <use x=\"926.269531\" xlink:href=\"#DejaVuSans-99\"/>\n      <use x=\"981.25\" xlink:href=\"#DejaVuSans-109\"/>\n      <use x=\"1078.662109\" xlink:href=\"#DejaVuSans-41\"/>\n     </g>\n    </g>\n   </g>\n   <g id=\"matplotlib.axis_2\">\n    <g id=\"ytick_1\">\n     <g id=\"line2d_8\">\n      <defs>\n       <path d=\"M 0 0 \nL -3.5 0 \n\" id=\"ma379807833\" style=\"stroke:#000000;stroke-width:0.8;\"/>\n      </defs>\n      <g>\n       <use style=\"stroke:#000000;stroke-width:0.8;\" x=\"60.4075\" xlink:href=\"#ma379807833\" y=\"233.418906\"/>\n      </g>\n     </g>\n     <g id=\"text_9\">\n      <!-- 165 -->\n      <g transform=\"translate(26.685 238.737812)scale(0.14 -0.14)\">\n       <defs>\n        <path d=\"M 33.015625 40.375 \nQ 26.375 40.375 22.484375 35.828125 \nQ 18.609375 31.296875 18.609375 23.390625 \nQ 18.609375 15.53125 22.484375 10.953125 \nQ 26.375 6.390625 33.015625 6.390625 \nQ 39.65625 6.390625 43.53125 10.953125 \nQ 47.40625 15.53125 47.40625 23.390625 \nQ 47.40625 31.296875 43.53125 35.828125 \nQ 39.65625 40.375 33.015625 40.375 \nz\nM 52.59375 71.296875 \nL 52.59375 62.3125 \nQ 48.875 64.0625 45.09375 64.984375 \nQ 41.3125 65.921875 37.59375 65.921875 \nQ 27.828125 65.921875 22.671875 59.328125 \nQ 17.53125 52.734375 16.796875 39.40625 \nQ 19.671875 43.65625 24.015625 45.921875 \nQ 28.375 48.1875 33.59375 48.1875 \nQ 44.578125 48.1875 50.953125 41.515625 \nQ 57.328125 34.859375 57.328125 23.390625 \nQ 57.328125 12.15625 50.6875 5.359375 \nQ 44.046875 -1.421875 33.015625 -1.421875 \nQ 20.359375 -1.421875 13.671875 8.265625 \nQ 6.984375 17.96875 6.984375 36.375 \nQ 6.984375 53.65625 15.1875 63.9375 \nQ 23.390625 74.21875 37.203125 74.21875 \nQ 40.921875 74.21875 44.703125 73.484375 \nQ 48.484375 72.75 52.59375 71.296875 \nz\n\" id=\"DejaVuSans-54\"/>\n        <path d=\"M 10.796875 72.90625 \nL 49.515625 72.90625 \nL 49.515625 64.59375 \nL 19.828125 64.59375 \nL 19.828125 46.734375 \nQ 21.96875 47.46875 24.109375 47.828125 \nQ 26.265625 48.1875 28.421875 48.1875 \nQ 40.625 48.1875 47.75 41.5 \nQ 54.890625 34.8125 54.890625 23.390625 \nQ 54.890625 11.625 47.5625 5.09375 \nQ 40.234375 -1.421875 26.90625 -1.421875 \nQ 22.3125 -1.421875 17.546875 -0.640625 \nQ 12.796875 0.140625 7.71875 1.703125 \nL 7.71875 11.625 \nQ 12.109375 9.234375 16.796875 8.0625 \nQ 21.484375 6.890625 26.703125 6.890625 \nQ 35.15625 6.890625 40.078125 11.328125 \nQ 45.015625 15.765625 45.015625 23.390625 \nQ 45.015625 31 40.078125 35.4375 \nQ 35.15625 39.890625 26.703125 39.890625 \nQ 22.75 39.890625 18.8125 39.015625 \nQ 14.890625 38.140625 10.796875 36.28125 \nz\n\" id=\"DejaVuSans-53\"/>\n       </defs>\n       <use xlink:href=\"#DejaVuSans-49\"/>\n       <use x=\"63.623047\" xlink:href=\"#DejaVuSans-54\"/>\n       <use x=\"127.246094\" xlink:href=\"#DejaVuSans-53\"/>\n      </g>\n     </g>\n    </g>\n    <g id=\"ytick_2\">\n     <g id=\"line2d_9\">\n      <g>\n       <use style=\"stroke:#000000;stroke-width:0.8;\" x=\"60.4075\" xlink:href=\"#ma379807833\" y=\"201.861763\"/>\n      </g>\n     </g>\n     <g id=\"text_10\">\n      <!-- 170 -->\n      <g transform=\"translate(26.685 207.18067)scale(0.14 -0.14)\">\n       <defs>\n        <path d=\"M 8.203125 72.90625 \nL 55.078125 72.90625 \nL 55.078125 68.703125 \nL 28.609375 0 \nL 18.3125 0 \nL 43.21875 64.59375 \nL 8.203125 64.59375 \nz\n\" id=\"DejaVuSans-55\"/>\n       </defs>\n       <use xlink:href=\"#DejaVuSans-49\"/>\n       <use x=\"63.623047\" xlink:href=\"#DejaVuSans-55\"/>\n       <use x=\"127.246094\" xlink:href=\"#DejaVuSans-48\"/>\n      </g>\n     </g>\n    </g>\n    <g id=\"ytick_3\">\n     <g id=\"line2d_10\">\n      <g>\n       <use style=\"stroke:#000000;stroke-width:0.8;\" x=\"60.4075\" xlink:href=\"#ma379807833\" y=\"170.304621\"/>\n      </g>\n     </g>\n     <g id=\"text_11\">\n      <!-- 175 -->\n      <g transform=\"translate(26.685 175.623527)scale(0.14 -0.14)\">\n       <use xlink:href=\"#DejaVuSans-49\"/>\n       <use x=\"63.623047\" xlink:href=\"#DejaVuSans-55\"/>\n       <use x=\"127.246094\" xlink:href=\"#DejaVuSans-53\"/>\n      </g>\n     </g>\n    </g>\n    <g id=\"ytick_4\">\n     <g id=\"line2d_11\">\n      <g>\n       <use style=\"stroke:#000000;stroke-width:0.8;\" x=\"60.4075\" xlink:href=\"#ma379807833\" y=\"138.747478\"/>\n      </g>\n     </g>\n     <g id=\"text_12\">\n      <!-- 180 -->\n      <g transform=\"translate(26.685 144.066384)scale(0.14 -0.14)\">\n       <use xlink:href=\"#DejaVuSans-49\"/>\n       <use x=\"63.623047\" xlink:href=\"#DejaVuSans-56\"/>\n       <use x=\"127.246094\" xlink:href=\"#DejaVuSans-48\"/>\n      </g>\n     </g>\n    </g>\n    <g id=\"ytick_5\">\n     <g id=\"line2d_12\">\n      <g>\n       <use style=\"stroke:#000000;stroke-width:0.8;\" x=\"60.4075\" xlink:href=\"#ma379807833\" y=\"107.190335\"/>\n      </g>\n     </g>\n     <g id=\"text_13\">\n      <!-- 185 -->\n      <g transform=\"translate(26.685 112.509241)scale(0.14 -0.14)\">\n       <use xlink:href=\"#DejaVuSans-49\"/>\n       <use x=\"63.623047\" xlink:href=\"#DejaVuSans-56\"/>\n       <use x=\"127.246094\" xlink:href=\"#DejaVuSans-53\"/>\n      </g>\n     </g>\n    </g>\n    <g id=\"ytick_6\">\n     <g id=\"line2d_13\">\n      <g>\n       <use style=\"stroke:#000000;stroke-width:0.8;\" x=\"60.4075\" xlink:href=\"#ma379807833\" y=\"75.633192\"/>\n      </g>\n     </g>\n     <g id=\"text_14\">\n      <!-- 190 -->\n      <g transform=\"translate(26.685 80.952098)scale(0.14 -0.14)\">\n       <use xlink:href=\"#DejaVuSans-49\"/>\n       <use x=\"63.623047\" xlink:href=\"#DejaVuSans-57\"/>\n       <use x=\"127.246094\" xlink:href=\"#DejaVuSans-48\"/>\n      </g>\n     </g>\n    </g>\n    <g id=\"ytick_7\">\n     <g id=\"line2d_14\">\n      <g>\n       <use style=\"stroke:#000000;stroke-width:0.8;\" x=\"60.4075\" xlink:href=\"#ma379807833\" y=\"44.076049\"/>\n      </g>\n     </g>\n     <g id=\"text_15\">\n      <!-- 195 -->\n      <g transform=\"translate(26.685 49.394955)scale(0.14 -0.14)\">\n       <use xlink:href=\"#DejaVuSans-49\"/>\n       <use x=\"63.623047\" xlink:href=\"#DejaVuSans-57\"/>\n       <use x=\"127.246094\" xlink:href=\"#DejaVuSans-53\"/>\n      </g>\n     </g>\n    </g>\n    <g id=\"ytick_8\">\n     <g id=\"line2d_15\">\n      <g>\n       <use style=\"stroke:#000000;stroke-width:0.8;\" x=\"60.4075\" xlink:href=\"#ma379807833\" y=\"12.518906\"/>\n      </g>\n     </g>\n     <g id=\"text_16\">\n      <!-- 200 -->\n      <g transform=\"translate(26.685 17.837812)scale(0.14 -0.14)\">\n       <use xlink:href=\"#DejaVuSans-50\"/>\n       <use x=\"63.623047\" xlink:href=\"#DejaVuSans-48\"/>\n       <use x=\"127.246094\" xlink:href=\"#DejaVuSans-48\"/>\n      </g>\n     </g>\n    </g>\n    <g id=\"text_17\">\n     <!-- body height (cm) -->\n     <g transform=\"translate(19.3575 191.775156)rotate(-90)scale(0.16 -0.16)\">\n      <defs>\n       <path d=\"M 48.6875 27.296875 \nQ 48.6875 37.203125 44.609375 42.84375 \nQ 40.53125 48.484375 33.40625 48.484375 \nQ 26.265625 48.484375 22.1875 42.84375 \nQ 18.109375 37.203125 18.109375 27.296875 \nQ 18.109375 17.390625 22.1875 11.75 \nQ 26.265625 6.109375 33.40625 6.109375 \nQ 40.53125 6.109375 44.609375 11.75 \nQ 48.6875 17.390625 48.6875 27.296875 \nz\nM 18.109375 46.390625 \nQ 20.953125 51.265625 25.265625 53.625 \nQ 29.59375 56 35.59375 56 \nQ 45.5625 56 51.78125 48.09375 \nQ 58.015625 40.1875 58.015625 27.296875 \nQ 58.015625 14.40625 51.78125 6.484375 \nQ 45.5625 -1.421875 35.59375 -1.421875 \nQ 29.59375 -1.421875 25.265625 0.953125 \nQ 20.953125 3.328125 18.109375 8.203125 \nL 18.109375 0 \nL 9.078125 0 \nL 9.078125 75.984375 \nL 18.109375 75.984375 \nz\n\" id=\"DejaVuSans-98\"/>\n       <path d=\"M 45.40625 46.390625 \nL 45.40625 75.984375 \nL 54.390625 75.984375 \nL 54.390625 0 \nL 45.40625 0 \nL 45.40625 8.203125 \nQ 42.578125 3.328125 38.25 0.953125 \nQ 33.9375 -1.421875 27.875 -1.421875 \nQ 17.96875 -1.421875 11.734375 6.484375 \nQ 5.515625 14.40625 5.515625 27.296875 \nQ 5.515625 40.1875 11.734375 48.09375 \nQ 17.96875 56 27.875 56 \nQ 33.9375 56 38.25 53.625 \nQ 42.578125 51.265625 45.40625 46.390625 \nz\nM 14.796875 27.296875 \nQ 14.796875 17.390625 18.875 11.75 \nQ 22.953125 6.109375 30.078125 6.109375 \nQ 37.203125 6.109375 41.296875 11.75 \nQ 45.40625 17.390625 45.40625 27.296875 \nQ 45.40625 37.203125 41.296875 42.84375 \nQ 37.203125 48.484375 30.078125 48.484375 \nQ 22.953125 48.484375 18.875 42.84375 \nQ 14.796875 37.203125 14.796875 27.296875 \nz\n\" id=\"DejaVuSans-100\"/>\n       <path d=\"M 32.171875 -5.078125 \nQ 28.375 -14.84375 24.75 -17.8125 \nQ 21.140625 -20.796875 15.09375 -20.796875 \nL 7.90625 -20.796875 \nL 7.90625 -13.28125 \nL 13.1875 -13.28125 \nQ 16.890625 -13.28125 18.9375 -11.515625 \nQ 21 -9.765625 23.484375 -3.21875 \nL 25.09375 0.875 \nL 2.984375 54.6875 \nL 12.5 54.6875 \nL 29.59375 11.921875 \nL 46.6875 54.6875 \nL 56.203125 54.6875 \nz\n\" id=\"DejaVuSans-121\"/>\n      </defs>\n      <use xlink:href=\"#DejaVuSans-98\"/>\n      <use x=\"63.476562\" xlink:href=\"#DejaVuSans-111\"/>\n      <use x=\"124.658203\" xlink:href=\"#DejaVuSans-100\"/>\n      <use x=\"188.134766\" xlink:href=\"#DejaVuSans-121\"/>\n      <use x=\"247.314453\" xlink:href=\"#DejaVuSans-32\"/>\n      <use x=\"279.101562\" xlink:href=\"#DejaVuSans-104\"/>\n      <use x=\"342.480469\" xlink:href=\"#DejaVuSans-101\"/>\n      <use x=\"404.003906\" xlink:href=\"#DejaVuSans-105\"/>\n      <use x=\"431.787109\" xlink:href=\"#DejaVuSans-103\"/>\n      <use x=\"495.263672\" xlink:href=\"#DejaVuSans-104\"/>\n      <use x=\"558.642578\" xlink:href=\"#DejaVuSans-116\"/>\n      <use x=\"597.851562\" xlink:href=\"#DejaVuSans-32\"/>\n      <use x=\"629.638672\" xlink:href=\"#DejaVuSans-40\"/>\n      <use x=\"668.652344\" xlink:href=\"#DejaVuSans-99\"/>\n      <use x=\"723.632812\" xlink:href=\"#DejaVuSans-109\"/>\n      <use x=\"821.044922\" xlink:href=\"#DejaVuSans-41\"/>\n     </g>\n    </g>\n   </g>\n   <g id=\"patch_3\">\n    <path d=\"M 60.4075 233.418906 \nL 60.4075 12.518906 \n\" style=\"fill:none;stroke:#000000;stroke-linecap:square;stroke-linejoin:miter;stroke-width:0.8;\"/>\n   </g>\n   <g id=\"patch_4\">\n    <path d=\"M 418.0575 233.418906 \nL 418.0575 12.518906 \n\" style=\"fill:none;stroke:#000000;stroke-linecap:square;stroke-linejoin:miter;stroke-width:0.8;\"/>\n   </g>\n   <g id=\"patch_5\">\n    <path d=\"M 60.4075 233.418906 \nL 418.0575 233.418906 \n\" style=\"fill:none;stroke:#000000;stroke-linecap:square;stroke-linejoin:miter;stroke-width:0.8;\"/>\n   </g>\n   <g id=\"patch_6\">\n    <path d=\"M 60.4075 12.518906 \nL 418.0575 12.518906 \n\" style=\"fill:none;stroke:#000000;stroke-linecap:square;stroke-linejoin:miter;stroke-width:0.8;\"/>\n   </g>\n  </g>\n </g>\n <defs>\n  <clipPath id=\"p9943297398\">\n   <rect height=\"220.9\" width=\"357.65\" x=\"60.4075\" y=\"12.518906\"/>\n  </clipPath>\n </defs>\n</svg>\n",
      "text/plain": [
       "<Figure size 432x288 with 1 Axes>"
      ]
     },
     "metadata": {
      "needs_background": "light"
     },
     "output_type": "display_data"
    }
   ],
   "source": [
    "plt.figure()\n",
    "axes = plt.axes()\n",
    "axes.set_ylim([165, 200])\n",
    "plt.tick_params(labelsize=14)\n",
    "plt.scatter(X, y, s=50)\n",
    "plt.xlabel('shoe print length (cm)', fontsize=16)\n",
    "plt.ylabel('body height (cm)', fontsize=16)\n",
    "plt.tight_layout()\n",
    "plt.show()"
   ]
  },
  {
   "cell_type": "markdown",
   "metadata": {},
   "source": [
    "The plot shows that there is a reasonably good linear relation ship between the shoe print size and the height of a person. Hence one can justifiably use Linear Regression to find a good fit of the data."
   ]
  },
  {
   "cell_type": "markdown",
   "metadata": {},
   "source": [
    "### 1.1 Add Bias Terms  to Data Matrix (2 Points)\n",
    "\n",
    "In the lecture, we saw that solving Linear Regression is best done using matrix and vector representation of the different components $X$, $y$, and $\\theta$. This required to add a constant term $x_0=1$ to the data matrix $X$ to reflect the bias/intercept term $\\theta_0$; see the example below.\n",
    "\n",
    "$$ \n",
    "X = \n",
    "\\begin{bmatrix}\n",
    "x_{11} & x_{12} & \\dots & x_{1d}  \\\\\n",
    "x_{21} & x_{22} & \\dots & x_{2d}  \\\\\n",
    "\\vdots & \\vdots & \\ddots & \\vdots \\\\\n",
    "x_{n1} & x_{n2} & \\dots & x_{nd}  \\\\\n",
    "\\end{bmatrix} \\quad \\Rightarrow \\quad\n",
    "X = \n",
    "\\begin{bmatrix}\n",
    "1 & x_{11} & x_{12} & \\dots & x_{1d}  \\\\\n",
    "1 & x_{21} & x_{22} & \\dots & x_{2d}  \\\\\n",
    "1 & \\vdots & \\vdots & \\ddots & \\vdots \\\\\n",
    "1 & x_{n1} & x_{n2} & \\dots & x_{nd}  \\\\\n",
    "\\end{bmatrix}\n",
    "$$\n",
    "\n",
    "\n",
    "**Implement the methods `add_bias()`** that adds the constant terms to each sample in the data matrix $X$ as shown above! (Hint: numpy provides a whole range of methods for creating and concatenating vectors/matrices, which makes it very simple. There should be no need for any loops.)\n",
    "\n",
    "You can test your implementation using the code below."
   ]
  },
  {
   "cell_type": "code",
   "execution_count": 5,
   "metadata": {},
   "outputs": [
    {
     "name": "stdout",
     "output_type": "stream",
     "text": [
      "[[ 1.  31.3]\n",
      " [ 1.  29.7]\n",
      " [ 1.  31.3]\n",
      " [ 1.  31.8]\n",
      " [ 1.  31.4]\n",
      " [ 1.  31.9]\n",
      " [ 1.  31.8]\n",
      " [ 1.  31. ]\n",
      " [ 1.  29.7]\n",
      " [ 1.  31.4]\n",
      " [ 1.  32.4]\n",
      " [ 1.  33.6]\n",
      " [ 1.  30.2]\n",
      " [ 1.  30.4]\n",
      " [ 1.  27.6]\n",
      " [ 1.  31.8]\n",
      " [ 1.  31.3]\n",
      " [ 1.  34.5]\n",
      " [ 1.  28.9]\n",
      " [ 1.  28.2]]\n"
     ]
    }
   ],
   "source": [
    "linreg = MyLinearRegression()\n",
    "\n",
    "X_with_bias = linreg.add_bias(X)\n",
    "\n",
    "print(X_with_bias)"
   ]
  },
  {
   "cell_type": "markdown",
   "metadata": {},
   "source": [
    "The output should look something like:\n",
    "    \n",
    "```\n",
    "[[ 1.  31.3]\n",
    " [ 1.  29.7]\n",
    " [ 1.  31.3]\n",
    " ...\n",
    "```"
   ]
  },
  {
   "cell_type": "markdown",
   "metadata": {},
   "source": [
    "### 1.2 Train Model Using Normal Equation (6 Points)\n",
    "\n",
    "We saw in the lecture that we can minimize the Mean Squared Error (MSE) loss $L$ of Linear Regression and therefore find the best values for $\\theta$ analytically. We did so by finding the derivative of $L$ with respect to $\\theta$, setting it to 0 and solving for $\\theta$. We got the following formula called the **Normal Equation**:\n",
    "\n",
    "$$\\theta = X^{\\dagger}y, \\ with\\ X^{\\dagger} = (X^TX)^{-1} X^T$$\n",
    "\n",
    "where $X^{\\dagger}$ is the *pseudo inverse* of matrix $X$\n",
    "\n",
    "**Implement the method `fit_analytically()` that solves this equation!** (Have look at [`np.dot()`](https://numpy.org/doc/stable/reference/generated/numpy.dot.html) and [`numpy.linalg.inv`](https://numpy.org/doc/stable/reference/generated/numpy.linalg.inv.html) to make your life easier)\n",
    "\n",
    "You can test your implementation using the code below. Note that we use `X` instead of `X_with_bias`, since `fit_analytically()` calls `add_bias()`. The result should match the ones shown in the lecture slides as we're using the same example dataset here."
   ]
  },
  {
   "cell_type": "code",
   "execution_count": 6,
   "metadata": {},
   "outputs": [
    {
     "name": "stdout",
     "output_type": "stream",
     "text": [
      "The theta values that minmized the loss for your CSI example are: [69.45528793  3.61092267]\n"
     ]
    }
   ],
   "source": [
    "linreg = MyLinearRegression()\n",
    "\n",
    "linreg.fit_analytically(X, y)\n",
    "\n",
    "theta_best = linreg.theta\n",
    "\n",
    "print('The theta values that minmized the loss for your CSI example are: {}'.format(theta_best.squeeze()))"
   ]
  },
  {
   "cell_type": "markdown",
   "metadata": {},
   "source": [
    "We can also calculate the optimal loss, i.e., the loss given the best values for $\\theta$"
   ]
  },
  {
   "cell_type": "code",
   "execution_count": 7,
   "metadata": {},
   "outputs": [
    {
     "name": "stdout",
     "output_type": "stream",
     "text": [
      "The loss for the best values of theta is: 11.885\n"
     ]
    }
   ],
   "source": [
    "# Predict the output values for all data samples\n",
    "y_pred = np.dot(X_with_bias, theta_best)\n",
    "\n",
    "# Calculate loss\n",
    "best_loss = linreg.loss(y, y_pred)\n",
    "\n",
    "print('The loss for the best values of theta is: {:.3f}'.format(best_loss))"
   ]
  },
  {
   "cell_type": "markdown",
   "metadata": {},
   "source": [
    "You should see are loss of around **11.9**."
   ]
  },
  {
   "cell_type": "markdown",
   "metadata": {},
   "source": [
    "### 1.3 Train Model Using Gradient Descent (12 Points)\n",
    "\n",
    "Apart from using the Normal Equation for fitting a Linear Regression model, we also introduced Gradient Descent. Here, instead of setting the $\\nabla_\\theta L$ to ) and solving for $\\theta$, we start with initial parameter values for $\\theta$, calculate the respective gradient, and update $\\theta$ to reduce the loss $L$ iteratively.\n",
    "\n",
    "The gradient for loss $L$ w.r.t. to $\\theta$ is given as:\n",
    "\n",
    "$$\\nabla_\\theta L = \\frac{2}{n} X^T(X\\theta - y)$$\n"
   ]
  },
  {
   "cell_type": "markdown",
   "metadata": {},
   "source": [
    "#### 1.3 a) Calculating the Gradient (4 Points)\n",
    "\n",
    "**Implement the methods `calc_h()` and `calc_gradient()` to calculate the gradient!** The only reason to have 2 methods for this is that it allows us to re-use some code (see method `predict()` that uses `calc_h()`)"
   ]
  },
  {
   "cell_type": "code",
   "execution_count": 8,
   "metadata": {},
   "outputs": [
    {
     "name": "stdout",
     "output_type": "stream",
     "text": [
      "The gradient for theta = [60  4] is: [  5.22  163.914]\n"
     ]
    }
   ],
   "source": [
    "linreg = MyLinearRegression()\n",
    "\n",
    "# Initialize theta (again, we use the example values from the lecture)\n",
    "linreg.theta = np.array([60, 4]).reshape(-1, 1)\n",
    "\n",
    "h = linreg.calc_h(X_with_bias)\n",
    "\n",
    "grad = linreg.calc_gradient(X_with_bias, y, h)\n",
    "\n",
    "print('The gradient for theta = {} is: {}'.format(linreg.theta.squeeze(), grad.squeeze()))"
   ]
  },
  {
   "cell_type": "markdown",
   "metadata": {},
   "source": [
    "Since we use the same data and values for $\\theta$ as in the lecture, the gradient should match again the result on the slides."
   ]
  },
  {
   "cell_type": "markdown",
   "metadata": {},
   "source": [
    "#### 1.3 b) Implementing Gradient Descent (4 Points)\n",
    "\n",
    "We now have everything place to implement the training loop for Gradient Descent.\n",
    "\n",
    "**Implement the method `fit()` to find the best $\\theta$ using Gradient Descent!** Most of the code is give, so you can focus on the loop that performs Gradient Descent.\n",
    "\n",
    "You can test your implementation using the code below. With the parameters given (`lr=0.00001`, `num_iter=1000`), you should be able to achieve a loss below 25.0 for the CSI example."
   ]
  },
  {
   "cell_type": "code",
   "execution_count": 9,
   "metadata": {},
   "outputs": [
    {
     "name": "stdout",
     "output_type": "stream",
     "text": [
      "Loss: 32962.942 \t 0%\n",
      "Loss: 692.523 \t 10%\n",
      "Loss: 38.471 \t 20%\n",
      "Loss: 25.215 \t 30%\n",
      "Loss: 24.946 \t 40%\n",
      "Loss: 24.940 \t 50%\n",
      "Loss: 24.940 \t 60%\n",
      "Loss: 24.940 \t 70%\n",
      "Loss: 24.940 \t 80%\n",
      "Loss: 24.940 \t 90%\n",
      "Loss: 24.940 \t 100%\n"
     ]
    }
   ],
   "source": [
    "linreg = MyLinearRegression()\n",
    "\n",
    "linreg.fit(X, y, lr=0.00001, num_iter=1000)"
   ]
  },
  {
   "cell_type": "markdown",
   "metadata": {},
   "source": [
    "#### 1.3 c) Hyperparameter Tuning \"By Hand\" (4 Points)\n",
    "\n",
    "Seeing the loss going down and reaching a value below 25.0 (with the example parameter values above) is a good start. However, we already know that the optimal loss is around 11.9 (see Section 1.2). Of course, we could simply increase the value of `num_iter` more and more, knowing that at some point Gradient Descent will reach the minimum. But this would  unnecessarily increase the computation time.\n",
    "\n",
    "**Evaluate different values for the learning rate `lr` and the number of iterations `num_iter`!** In more detail:\n",
    "\n",
    "* Find a setting for both parameters that will reduce the loss below 12.0\n",
    "* Find such a setting as to keep `num_iter` as small as possible\n",
    "* Discuss any interesting observations you have made while find such a parameter setting (e.g., how the development of the loss behaves, limitations on the choice of parameter values, etc.) together with a brief explanation\n",
    "\n",
    "(Hint: You don't have to make fine-grained changes to the parameters. For example, there's no point to increase `num_iter` from 1000 to 1001 :). Start with changing the order of magnitude of the parameter values and maybe try some finer changes.)\n",
    "\n",
    "**Your answer** (identified parameter values)"
   ]
  },
  {
   "cell_type": "code",
   "execution_count": null,
   "metadata": {},
   "outputs": [],
   "source": [
    "my_lr = 0.001\n",
    "my_num_iter = 436000"
   ]
  },
  {
   "cell_type": "markdown",
   "metadata": {},
   "source": [
    "**Your answer** (interesting observations)"
   ]
  },
  {
   "cell_type": "markdown",
   "metadata": {},
   "source": [
    "1. Learning rate is critical. learning rate larger than 0.001, such as 0.0011 or 0.0012, it will never converge, the loss will be extremely large and will even result in output errors. When learning rate is too low, such as 0.0001, it will be too low to converge.\n",
    "2. It's still slow to converge after adjusting learning rate, only starts to reaching optimal solution after 20k iterations(loss = 13.4), and it seems to be 'near-plateau'\n",
    "3. When learning rate is large enough, in this case 0.001, the adjusting becomes very agile, for instance adjust learning rate from 0.001 to 0.0011 the cost oscillates up."
   ]
  },
  {
   "cell_type": "markdown",
   "metadata": {},
   "source": [
    "### Predicting Output Values\n",
    "\n",
    "With the code you implemented you can already perform predictions. The method `predict()` only wraps the required steps to provide a clean interface. We therefore just give it to you; there's nothing more for you to implement here. Below is just the example prediction from the CSI example."
   ]
  },
  {
   "cell_type": "code",
   "execution_count": 10,
   "metadata": {},
   "outputs": [
    {
     "name": "stdout",
     "output_type": "stream",
     "text": [
      "The estimated height of the suspect is: 185.7 cm\n"
     ]
    }
   ],
   "source": [
    "# The predicted value depends on the values of theta.\n",
    "# To ensure a consistent results, let's use the best theta.\n",
    "linreg.fit_analytically(X, y)\n",
    "\n",
    "X_suspect = np.array([[32.2]])\n",
    "\n",
    "y_suspect_pred = linreg.predict(X_suspect)\n",
    "\n",
    "print('The estimated height of the suspect is: {:.1f} cm'.format(y_suspect_pred.squeeze()))"
   ]
  },
  {
   "cell_type": "markdown",
   "metadata": {},
   "source": [
    "The result should be 185.7 cm."
   ]
  },
  {
   "cell_type": "markdown",
   "metadata": {},
   "source": [
    "------------------------------------------------"
   ]
  },
  {
   "cell_type": "markdown",
   "metadata": {},
   "source": [
    "## 2 Logistic Regression (10 Points)\n",
    "\n",
    "Logistic Regression is a linear model for classification tasks. It's call Logistic *Regression* because the output is a real value. However, this value is interpreted as a probability whether the input sample belongs to class 0 or 1 -- we are only considering Logistic Regression for binary classification here.\n",
    "\n",
    "Since Linear and Logistic Regression are inherently related, there is no need to also implement Logistic Regression for this assignment as well. This section focuses therefore only on the differences between the two methods."
   ]
  },
  {
   "cell_type": "markdown",
   "metadata": {},
   "source": [
    "### 2.1 Identifying the Required Changes (2 Points)\n",
    "\n",
    "The class `MyLinearRegression` has 7 methods, ignoring the `__init__()` method. If we want to implement our own class `MyLogisticRegression`, we can utilize the close relationship between Linear and Logistic Regression to simplify this task. In fact, both implementation will look very similar.\n",
    "\n",
    "**Which of the 7 methods can be REMOVED, can remain UNCHANGED, or have to be CHANGED** for implementing Logistic Regression? "
   ]
  },
  {
   "cell_type": "markdown",
   "metadata": {},
   "source": [
    "*Methods that can be removed*\n",
    "\n",
    "* fit_analytically\n",
    "\n",
    "\n",
    "*Methods that can remain unchanged*\n",
    "\n",
    "* \\_\\_init\\_\\_\n",
    "* add_bias\n",
    "* fit\n",
    "\n",
    "*Methods that need to be changed*\n",
    "\n",
    "* calc_h\n",
    "* loss\n",
    "* calc_gradient\n",
    "* predict\n"
   ]
  },
  {
   "cell_type": "markdown",
   "metadata": {},
   "source": [
    "### 2.2 Making the Required Changes (8 Points)\n",
    "\n",
    "**For all the methods that need to be changed, show how they need to be changed!** You are free to do this task in two ways:\n",
    "\n",
    "* **Option A:** Implement to methods using the code cell below (you don't have to test your code and it may contain little syntax errors as along as the steps/calculations are clear; you may add comments as well, of course) **OR**\n",
    "* **Option B:** Describe how the methods need to be changed in the Markdown cell below (please be provide sufficient detail to make the required changes and new calculations clear)"
   ]
  },
  {
   "cell_type": "markdown",
   "metadata": {},
   "source": [
    "**Option A -- Your answer in Python code:**"
   ]
  },
  {
   "cell_type": "code",
   "execution_count": null,
   "metadata": {},
   "outputs": [],
   "source": [
    "#########################################################################################\n",
    "### Your code starts here ############################################################### \n",
    "def calc_h(self, X):\n",
    "    sigmoid = lambda x: 1 / (1 + np.exp(-x))\n",
    "    h = np.dot(X, self.theta)\n",
    "    h = sigmoid(h)\n",
    "    return h\n",
    "\n",
    "def loss(self, h, y):\n",
    "    #Find loss for all training samples\n",
    "    #Cross-Entropy Loss\n",
    "    n = y.shape[0]\n",
    "    loss = -(1/n) * np.sum(y * np.log(h) + (1-y) * np.log(1 - h))\n",
    "    return loss\n",
    "\n",
    "def calc_gradient(self, X, y, h):\n",
    "    errors = np.subtract(h, y) # h: after sigmoid\n",
    "    n = X.shape[0]\n",
    "    grad = (1/n) * np.dot(X.transpose(), errors)\n",
    "    return grad\n",
    "\n",
    "    \n",
    "def predict(self, X):\n",
    "\n",
    "    X = self.add_bias(X)\n",
    "\n",
    "    decision = lambda x: 1 if x >= 0.5 else 0 # classify 0(False) or 1(True)\n",
    "    predictions = self.calc_h(X)\n",
    "\n",
    "    return np.vectorize(decision)(predictions).flatten()\n",
    "\n",
    "### Your code ends here #################################################################\n",
    "#########################################################################################  "
   ]
  },
  {
   "cell_type": "markdown",
   "metadata": {},
   "source": [
    "**Option B -- Your answer in plain text:**"
   ]
  },
  {
   "cell_type": "markdown",
   "metadata": {},
   "source": []
  },
  {
   "cell_type": "markdown",
   "metadata": {},
   "source": [
    "------------------------------------------------------"
   ]
  },
  {
   "cell_type": "markdown",
   "metadata": {},
   "source": [
    "## 3 Model Selection (20 Points)\n",
    "\n",
    "The topic \"Classification & Regression\" covered a whole series of different models. In this section, look at the basic data mining task of find the best model for a given dataset: which model performs best with which hyperparameters. To keep it simple and keep the implementation work to a minimum, we make full use of scikit-learn (see additional hints in the subtasks)."
   ]
  },
  {
   "cell_type": "markdown",
   "metadata": {},
   "source": [
    "#### Prepare Dataset\n",
    "\n",
    "The [Digit Dataset](https://scikit-learn.org/stable/auto_examples/datasets/plot_digits_last_image.html) is made up of 1,797 8x8 pixel images. Each image is of a hand-written digit. We use this dataset since it basically does not require any data preprocessing as all features are numerical and there are no \"dirty\" records. We only normalize the data via standardization (see the code cell below)."
   ]
  },
  {
   "cell_type": "code",
   "execution_count": 11,
   "metadata": {},
   "outputs": [
    {
     "name": "stdout",
     "output_type": "stream",
     "text": [
      "Number of features: 64\n",
      "Number of samples for training: 1437\n",
      "Number of samples for testing: 360\n"
     ]
    }
   ],
   "source": [
    "digits = load_digits()\n",
    "\n",
    "X, y = digits.data, digits.target\n",
    "\n",
    "# Split dataset in training and test data (20% test data)\n",
    "X_train, X_test, y_train, y_test = train_test_split(X, y, test_size=0.2, random_state=0)\n",
    "\n",
    "# Normalize data using the sciki-learn StandardScaler\n",
    "scaler = StandardScaler().fit(X_train)\n",
    "X_train, X_test = scaler.transform(X_train), scaler.transform(X_test)\n",
    "\n",
    "print('Number of features: {}'.format(X_train.shape[1]))\n",
    "print('Number of samples for training: {}'.format(X_train.shape[0]))\n",
    "print('Number of samples for testing: {}'.format(X_test.shape[0]))"
   ]
  },
  {
   "cell_type": "markdown",
   "metadata": {},
   "source": [
    "### 3.1 Basic Model Evaluation (7 Points)\n",
    "\n",
    "For all following tasks, we use scitki-learn implementations of the models we covered in the module:\n",
    "\n",
    "* [`KNeighborsClassifier`](https://scikit-learn.org/stable/modules/generated/sklearn.neighbors.KNeighborsClassifier.html)\n",
    "\n",
    "* [`LogisticRegression`](https://scikit-learn.org/stable/modules/generated/sklearn.linear_model.LogisticRegression.html)\n",
    "\n",
    "* [`DecisionTreeClassifier`](https://scikit-learn.org/stable/modules/generated/sklearn.tree.DecisionTreeClassifier.html)\n",
    "\n",
    "* [`RandomForestClassifier`](https://scikit-learn.org/stable/modules/generated/sklearn.ensemble.RandomForestClassifier.html)\n",
    "\n",
    "* [`AdaBoostClassifier`](https://scikit-learn.org/stable/modules/generated/sklearn.ensemble.AdaBoostClassifier.html) with (`base_estimator=DecisionTreeClassifier()`)\n",
    "\n",
    "* [`GradientBoostingClassifier`](https://scikit-learn.org/stable/modules/generated/sklearn.ensemble.GradientBoostingClassifier.html)\n",
    "\n",
    "\n"
   ]
  },
  {
   "cell_type": "markdown",
   "metadata": {},
   "source": [
    "**3.1 a) Train 6 classification models using the available scikit-learn implementations! (4 Points)** Use each model with its default parameters! We leave any tuning for 3.2. (Hint: You can basically copy/adopt the relevant lines from A2a, Task 2.2. You might want to train each model in its own code cell to make the timing of the runtime easier.)\n",
    "\n",
    "Another hint: As the dataset is rather small, most models will train rather quickly. The get a better sense of the runtime of each implementation, you can train the same model multiple times in a loop to get an aggregated runtime, something like:\n",
    "\n",
    "```\n",
    "for _ in range (100):\n",
    "    # Train Decision Tree\n",
    "```\n",
    "\n",
    "This should make it a bit easier to compare the different models w.r.t. to their runtime."
   ]
  },
  {
   "cell_type": "code",
   "execution_count": 12,
   "metadata": {},
   "outputs": [
    {
     "name": "stdout",
     "output_type": "stream",
     "text": [
      "CPU times: user 17.1 ms, sys: 4.27 ms, total: 21.4 ms\n",
      "Wall time: 26.8 ms\n"
     ]
    }
   ],
   "source": [
    "%%time\n",
    "\n",
    "clf_knn, clf_logreg, clf_dtree, clf_rforest, clf_adaboost, clf_gbtree = None, None, None, None, None, None\n",
    "\n",
    "#########################################################################################\n",
    "### Your code starts here ############################################################### \n",
    "for _ in range (100):\n",
    "    clf_knn = KNeighborsClassifier().fit(X_train, y_train)\n",
    "\n"
   ]
  },
  {
   "cell_type": "code",
   "execution_count": 13,
   "metadata": {},
   "outputs": [
    {
     "name": "stdout",
     "output_type": "stream",
     "text": [
      "CPU times: user 56.9 s, sys: 15.1 s, total: 1min 11s\n",
      "Wall time: 10.2 s\n"
     ]
    }
   ],
   "source": [
    "%%time\n",
    "for _ in range (100):\n",
    "    clf_logreg = LogisticRegression().fit(X_train, y_train)"
   ]
  },
  {
   "cell_type": "code",
   "execution_count": 14,
   "metadata": {},
   "outputs": [
    {
     "name": "stdout",
     "output_type": "stream",
     "text": [
      "CPU times: user 1.03 s, sys: 8.13 ms, total: 1.04 s\n",
      "Wall time: 1.04 s\n"
     ]
    }
   ],
   "source": [
    "%%time\n",
    "for _ in range (100):\n",
    "    clf_dtree = DecisionTreeClassifier().fit(X_train, y_train)"
   ]
  },
  {
   "cell_type": "code",
   "execution_count": 15,
   "metadata": {},
   "outputs": [
    {
     "name": "stdout",
     "output_type": "stream",
     "text": [
      "CPU times: user 15.7 s, sys: 99.4 ms, total: 15.8 s\n",
      "Wall time: 15.8 s\n"
     ]
    }
   ],
   "source": [
    "%%time\n",
    "for _ in range (100):\n",
    "    clf_rforest = RandomForestClassifier().fit(X_train, y_train)"
   ]
  },
  {
   "cell_type": "code",
   "execution_count": 16,
   "metadata": {},
   "outputs": [
    {
     "name": "stdout",
     "output_type": "stream",
     "text": [
      "CPU times: user 1.11 s, sys: 6.96 ms, total: 1.11 s\n",
      "Wall time: 1.11 s\n"
     ]
    }
   ],
   "source": [
    "%%time\n",
    "for _ in range (100):\n",
    "    clf_adaboost = AdaBoostClassifier(base_estimator=DecisionTreeClassifier()).fit(X_train, y_train)"
   ]
  },
  {
   "cell_type": "code",
   "execution_count": 17,
   "metadata": {},
   "outputs": [
    {
     "name": "stdout",
     "output_type": "stream",
     "text": [
      "CPU times: user 6min 58s, sys: 1.79 s, total: 7min\n",
      "Wall time: 7min 1s\n"
     ]
    }
   ],
   "source": [
    "%%time\n",
    "for _ in range (100):\n",
    "    clf_gbtree = GradientBoostingClassifier().fit(X_train, y_train)\n",
    "\n",
    "### Your code ends here #################################################################\n",
    "######################################################################################### "
   ]
  },
  {
   "cell_type": "markdown",
   "metadata": {},
   "source": [
    "The following code simply prints the f1 scores for each model -- nothing to implement for you here!"
   ]
  },
  {
   "cell_type": "code",
   "execution_count": 18,
   "metadata": {},
   "outputs": [
    {
     "name": "stdout",
     "output_type": "stream",
     "text": [
      "F1 scores for test data for all classifiers\n",
      "===========================================\n",
      "KNeighborsClassifier:\t0.969\n",
      "LogisticRegression:\t0.963\n",
      "DecisionTreeClassifier:\t0.85\n",
      "RandomForestClassifier:\t0.983\n",
      "AdaBoostClassifier:\t0.853\n",
      "GradientBoostingClassifier:\t0.964\n"
     ]
    }
   ],
   "source": [
    "print('F1 scores for test data for all classifiers')\n",
    "print('===========================================')\n",
    "for clf in [clf_knn, clf_logreg, clf_dtree, clf_rforest, clf_adaboost, clf_gbtree]:\n",
    "    try:\n",
    "        # Predict labels for test samples\n",
    "        y_pred = clf.predict(X_test)\n",
    "        # Calculate the f1 score\n",
    "        f1 = f1_score(y_test, y_pred, average='macro')\n",
    "    except Exception as e:\n",
    "        # Handle exception (e.g., a classifier is still None)\n",
    "        f1 = '---'\n",
    "    # Print classifier name and the f1 score\n",
    "    print('{}:\\t{:.3}'.format(type(clf).__name__, f1))\n",
    "    "
   ]
  },
  {
   "cell_type": "markdown",
   "metadata": {},
   "source": [
    "**3.1 b) Briefly discuss the results and the observations you made during the training! (3 Points)** You can refer to the runtime, f1 scores, or any other interesting or surprising observation you have made."
   ]
  },
  {
   "cell_type": "markdown",
   "metadata": {},
   "source": [
    "* Runtime: KNeighborsClassifier is fastest and GradientBoosting is significantly the slowest\n",
    "* F1 score: RandomForest gives us the best F1 score\n",
    "* KNeighborsClassifier performs quite well as it gives high F1 score with fastest runtime. \n",
    "* The F1 score of KNN is also good and even higher than GradientBoosting\n",
    "* DecisionTree and AdaBoost does not perform well(their F1 scores are around 0.85), but their performance is quite similar (their F1 score is similar and runtime also quite close)\n",
    "* LogisticRegression and GradientBoostingClassifier gives us similar F1 scores, while LogisticRegression is a lot faster than GradientBoosting"
   ]
  },
  {
   "cell_type": "markdown",
   "metadata": {},
   "source": [
    "### 3.2 Hyperparameter Tuning (7 Points)\n",
    "\n",
    "The results of the different models will vary quite a bit, but of course, we used the only default parameters of each implementation which might or might not be good for our dataset and task. In practice, you would perform hyperparameter tuning for all or at least most models. However, this is unnecessarily since the tuning process is very similar for each model. So we do it only for one model: **AdaBoost** (which shows a comparatively poor performance with the default values)\n",
    "\n",
    "#### 3.2 a) Perform hyperparameter tuning for AdaBoost (using Decision Trees)! (4 Points)\n",
    "\n",
    "**Important hints:**\n",
    "\n",
    "* Use [`GridSearchCV`](https://scikit-learn.org/stable/modules/generated/sklearn.model_selection.GridSearchCV.html)! It automatically performs k-fold cross-validation (by default: k=5, which is fine) for all specified combinations of hyperparameter values. With [`GridSearchCV`](https://scikit-learn.org/stable/modules/generated/sklearn.model_selection.GridSearchCV.html), finding the best model (i.e., the model with the best hyperparameter models) should only require only very few lines of code!\n",
    "* As we have 10 classes we rely on averaged f1 scores. Please use `scoring='f1_macro'` for [`GridSearchCV`](https://scikit-learn.org/stable/modules/generated/sklearn.model_selection.GridSearchCV.html)!\n",
    "* [`AdaBoostClassifier`](https://scikit-learn.org/stable/modules/generated/sklearn.ensemble.AdaBoostClassifier.html) with (`base_estimator=DecisionTreeClassifier()`) provides a whole range of hyperparameters. Pick a **maximum of 3 hyperparameters** to tune the model!"
   ]
  },
  {
   "cell_type": "code",
   "execution_count": 35,
   "metadata": {},
   "outputs": [
    {
     "name": "stdout",
     "output_type": "stream",
     "text": [
      "Best AdaBoost (with Decision Tree) classifier: {'base_estimator__max_depth': 5, 'learning_rate': 0.7000000000000001, 'n_estimators': 1000} (f1 score: 0.979)\n",
      "CPU times: user 9.62 s, sys: 1.21 s, total: 10.8 s\n",
      "Wall time: 7min 2s\n"
     ]
    }
   ],
   "source": [
    "%%time\n",
    "\n",
    "model = None\n",
    "\n",
    "#########################################################################################\n",
    "### Your code starts here ###############################################################\n",
    "\n",
    "param_grid = {\n",
    "              'n_estimators': [10, 20, 30, 40, 50, 70, 100, 500, 1000], \n",
    "              'learning_rate': list(np.arange(0.1,1,0.1)) + [0.001, 0.005, 0.01, 0.1, 1], #list(np.arange(0.01,1,0.01)) + \n",
    "              'base_estimator__max_depth': [3,4,5] # 6, 7\n",
    "             }\n",
    "grid_search = GridSearchCV(estimator=AdaBoostClassifier(base_estimator=DecisionTreeClassifier()), param_grid=param_grid, n_jobs=-1, scoring='f1_macro')\n",
    "model = grid_search.fit(X_train, y_train)\n",
    "\n",
    "### Your code ends here #################################################################\n",
    "######################################################################################### \n",
    "\n",
    "# Store the parameters of the best model\n",
    "best_params = model.best_params_\n",
    "\n",
    "# Predict class labels of test data on the model with the best found parameters\n",
    "y_pred = model.predict(X_test)\n",
    "\n",
    "# Calculate the f1 score\n",
    "best_f1 = f1_score(y_test, y_pred, average='macro')\n",
    "\n",
    "print('Best AdaBoost (with Decision Tree) classifier: {} (f1 score: {:.3f})'.format(best_params, best_f1))"
   ]
  },
  {
   "cell_type": "markdown",
   "metadata": {},
   "source": [
    "#### 3.2 b) Briefly discuss your process of finding the best hyperparameter values and the results (3 Points). \n",
    "\n",
    "Interesting points may include the choice of values for the grid search (and required changes), the improvements compared to the results for the default parameters in 3.1 a), the overall time required to find the best hyperparameter values, or any other interesting or surprising observations you have made during this task."
   ]
  },
  {
   "cell_type": "markdown",
   "metadata": {},
   "source": [
    "* I first grid search two key hyperparameters for AdaBoost: the number of trees used in the ensemble and the learning rate.\n",
    "    * When finding best hyperparameter, such as learning_rate, I choose a coarse-grained first (e.g. step 0.1) and then refine in the better performing range (e.g. 0.001 in range 0.2-0.5).\n",
    "    * Similarly for n_estimators, I start with (10, 50, 100, 1000) to see their performance, and find when n_estimators near 50 it performs best, so I also add (20,30, 40, 70) to compare.\n",
    "* With the base_estimator set of DecisionTreeClassifier, adjust n_estimators and learning_rate, the improvement of performance is slight (compared to default parameters' score 0.853). \n",
    "    * If I don't tune hyperparameters for its base_estimator(decision tree, such as 'max_depth'), only with best parameters(learning_rate = 0.42 and n_estimators = 50) setting performs best with F1 score 0.869, not a good improvement from default parameters. So I add 'base_estimator__max_depth' to tune.\n",
    "* After tuning the three hyperparameter, the model performs best with F1 score 0.979 (n_estimators = 1000, learning_rate = 0.7, base_estimator__max_depth = 5). So the improvement of performance is apparent compared to not tuning hyperparameter of base_estimator"
   ]
  },
  {
   "cell_type": "markdown",
   "metadata": {},
   "source": [
    "### 3.3 Handling Overfitting (6 Points)\n",
    "\n",
    "Suppose your model is experiencing low training error but high test error, i.e. overfitting. For each of the 6 methods listed in 3.1, select at least one of its hyperparameters (i.e. any input argument that could be passed to its scikit-learn implementation) and state how the hyperparameter could be modified to address the problem of overfitting. Add a brief(!) explanation to justify your choice!"
   ]
  },
  {
   "cell_type": "markdown",
   "metadata": {},
   "source": [
    "*KNeighborsClassifier*:\n",
    "* n_neighbors: represents the number of neighbors to use for kneighbors queries. Too small K makes predictions senstive to noise and has risk of overfitting. Increase n_neighbors can help address overfitting.(But too large K cannot capture local patterns and has risk of underfitting)\n",
    "\n",
    "*LogisticRegression*:\n",
    "* penalty: applys regularization, 'l2' in default. Logistic Regressions has risk of overfitting when we has many features, and it is necessary to use additional techniques, such as regularization, to tune the complexity of model.\n",
    "* C: represents inverse of regularization strength. By decreasing the value of C we specify stronger regularization strength to address regularization. \n",
    "\n",
    "*DecisionTreeClassifier*:\n",
    "* max_depth: pre-pruning, stop splitting if maximum depth of tree is reached. The deeper we allow our DecisionTree to grow, the more complex our model will become. And the decision tree will split perfectly for training data but not be able to generalize well for test data. Reduce the number of max depth of decision tree can help combat overfitting.\n",
    "\n",
    "*RandomForestClassifier*:\n",
    "* min_samples_split: represents the minimum number of samples required in a node to split. If the value is too small (such as 2 in default), the tree will keeps on splitting until all nodes are pure and grows in size, thus overfits the data. Increase min_samples_split will help address overfitting.\n",
    "\n",
    "*AdaBoostClassifier*:\n",
    "* n_estimators: represents the . Usually the higher n_estimators is the better to train the data. But although AdaBoost is fairly robust, when n_estimators is too large it may still result in overfitting(also slows down the training process), as it aims to minimize error on training set. Decreasing n_estimators to find the sweet spot may help address overfitting.\n",
    "\n",
    "*GradientBoostingClassifier*:\n",
    "* min_impurity_decrease: A node will only split if this split induces a decrease of impurity greater than or equals to this value. Threshold for early stopping, so increasing min_impurity_decrease will help avoid overfitting.\n",
    "* min_samples_leaf: minimum number of samples required to be at a leaf node. Higher value ensures that the tree will not overfit the training data by being highly specific to one particular sample.\n",
    "* max_depth: max depth of a tree. Decreasing max_depth to control overfitting.(reason similar to DecisionTree)\n",
    "* max_features: represents the number of feature to consider when looking for split. If the features is too many \n"
   ]
  },
  {
   "cell_type": "code",
   "execution_count": null,
   "metadata": {},
   "outputs": [],
   "source": []
  }
 ],
 "metadata": {
  "kernelspec": {
   "display_name": "PyCharm (cs5228-2020-semester-2-final-project)",
   "language": "python",
   "name": "pycharm-95368f8"
  },
  "language_info": {
   "codemirror_mode": {
    "name": "ipython",
    "version": 3
   },
   "file_extension": ".py",
   "mimetype": "text/x-python",
   "name": "python",
   "nbconvert_exporter": "python",
   "pygments_lexer": "ipython3",
   "version": "3.9.2-final"
  }
 },
 "nbformat": 4,
 "nbformat_minor": 4
}
